{
  "metadata": {
    "kernelspec": {
      "name": "python3",
      "display_name": "Python 3",
      "language": "python"
    },
    "language_info": {
      "name": "python",
      "version": "3.10.12",
      "mimetype": "text/x-python",
      "codemirror_mode": {
        "name": "ipython",
        "version": 3
      },
      "pygments_lexer": "ipython3",
      "nbconvert_exporter": "python",
      "file_extension": ".py"
    },
    "colab": {
      "provenance": []
    }
  },
  "nbformat_minor": 0,
  "nbformat": 4,
  "cells": [
    {
      "cell_type": "markdown",
      "source": [
        "# Title: Heart Disease Prediction\n",
        "\n",
        "### Context\n",
        "\n",
        "This is a multivariate type of dataset which means providing or involving a variety of separate mathematical or statistical variables, multivariate numerical data analysis. It is composed of 14 attributes which are age, sex, chest pain type, resting blood pressure, serum cholesterol, fasting blood sugar, resting electrocardiographic results, maximum heart rate achieved, exercise-induced angina, oldpeak — ST depression induced by exercise relative to rest, the slope of the peak exercise ST segment, number of major vessels and Thalassemia. This database includes 76 attributes, but all published studies relate to the use of a subset of 14 of them. The Cleveland database is the only one used by ML researchers to date. One of the major tasks on this dataset is to predict based on the given attributes of a patient that whether that particular person has heart disease or not and other is the experimental task to diagnose and find out various insights from this dataset which could help in understanding the problem more.\n",
        "\n"
      ],
      "metadata": {
        "id": "_Oq4fobGz4dT"
      }
    },
    {
      "cell_type": "markdown",
      "source": [
        "| Column  | Description                                                      | Values (Categorical)                                     |\n",
        "|---------|------------------------------------------------------------------|---------------------------------------------|\n",
        "| id      | Unique id for each patient                                       |                                             |\n",
        "| age     | Age of the patient in years                                      |                                           |\n",
        "| origin  | Place of study                                                   |Cleveland, Hungary, Switzerland, VA Long Beach                                             |\n",
        "| sex     | Male/Female                                                      |Male, Female                                             |\n",
        "| cp      | Chest pain type                                                  | Typical Angina, Atypical Angina, Non-Anginal, Asymptomatic|\n",
        "| trestbps| Resting blood pressure (in mm Hg on admission to the hospital)   |                                             |\n",
        "| chol    | Serum cholesterol in mg/dl                                       |                                             |\n",
        "| fbs     | Fasting blood sugar (> 120 mg/dl)                                |                                             |\n",
        "| restecg | Resting electrocardiographic results                             | Normal, ST-T Abnormality, LV Hypertrophy    |\n",
        "| thalach | Maximum heart rate achieved                                      |                                             |\n",
        "| exang   | Exercise-induced angina (True/False)                             | True, False                                 |\n",
        "| oldpeak | ST depression induced by exercise relative to rest               |                                             |\n",
        "| slope   | Slope of the peak exercise ST segment                            |                                             |\n",
        "| ca      | Number of major vessels (0-3) colored by fluoroscopy             | 0, 1, 2, 3                                  |\n",
        "| thal    | Thalassemia                                                      | Normal, Fixed Defect, Reversible Defect    |\n",
        "| num     | Predicted attribute                                              |0, 1, 2, 3, 4                                             |\n"
      ],
      "metadata": {
        "id": "4zFTkFCZz4dV"
      }
    },
    {
      "cell_type": "code",
      "source": [
        "\n",
        "import pandas as pd\n",
        "import numpy as np\n",
        "\n",
        "import matplotlib.pyplot as plt\n",
        "import seaborn as sns\n",
        "import plotly.express as px\n",
        "\n",
        "\n",
        "from sklearn.preprocessing import StandardScaler, MinMaxScaler, LabelEncoder\n",
        "from sklearn.impute import SimpleImputer, KNNImputer\n",
        "from sklearn.experimental import enable_iterative_imputer\n",
        "from sklearn.impute import IterativeImputer\n",
        "from sklearn.model_selection import train_test_split, GridSearchCV, cross_val_score, StratifiedKFold\n",
        "from sklearn.linear_model import LogisticRegression\n",
        "from sklearn.neighbors import KNeighborsClassifier\n",
        "from sklearn.svm import SVC\n",
        "from sklearn.tree import DecisionTreeClassifier\n",
        "from sklearn.ensemble import RandomForestClassifier, AdaBoostClassifier, GradientBoostingClassifier\n",
        "from sklearn.naive_bayes import GaussianNB\n",
        "from sklearn.ensemble import RandomForestClassifier, RandomForestRegressor\n",
        "from sklearn.metrics import accuracy_score, confusion_matrix, classification_report\n",
        "from sklearn.metrics import mean_absolute_error, precision_score, r2_score, mean_squared_error\n",
        "from sklearn.pipeline import Pipeline\n",
        "\n",
        "from xgboost import XGBClassifier\n",
        "import warnings\n",
        "\n",
        "warnings.filterwarnings('ignore')\n",
        "pd.set_option('display.max_columns',None)\n",
        "pd.set_option('display.max_rows',None)"
      ],
      "metadata": {
        "id": "JTqocaLDz4dW"
      },
      "execution_count": 64,
      "outputs": []
    },
    {
      "cell_type": "code",
      "source": [
        "df = pd.read_csv('heart_disease_uci.csv')\n",
        "df.head()"
      ],
      "metadata": {
        "colab": {
          "base_uri": "https://localhost:8080/",
          "height": 206
        },
        "id": "4MN9jq0Yz4dX",
        "outputId": "b9247a12-d6d9-4de1-d16d-c56702925c23"
      },
      "execution_count": 3,
      "outputs": [
        {
          "output_type": "execute_result",
          "data": {
            "text/plain": [
              "   id  age     sex    dataset               cp  trestbps   chol    fbs  \\\n",
              "0   1   63    Male  Cleveland   typical angina     145.0  233.0   True   \n",
              "1   2   67    Male  Cleveland     asymptomatic     160.0  286.0  False   \n",
              "2   3   67    Male  Cleveland     asymptomatic     120.0  229.0  False   \n",
              "3   4   37    Male  Cleveland      non-anginal     130.0  250.0  False   \n",
              "4   5   41  Female  Cleveland  atypical angina     130.0  204.0  False   \n",
              "\n",
              "          restecg  thalch  exang  oldpeak        slope   ca  \\\n",
              "0  lv hypertrophy   150.0  False      2.3  downsloping  0.0   \n",
              "1  lv hypertrophy   108.0   True      1.5         flat  3.0   \n",
              "2  lv hypertrophy   129.0   True      2.6         flat  2.0   \n",
              "3          normal   187.0  False      3.5  downsloping  0.0   \n",
              "4  lv hypertrophy   172.0  False      1.4    upsloping  0.0   \n",
              "\n",
              "                thal  num  \n",
              "0       fixed defect    0  \n",
              "1             normal    2  \n",
              "2  reversable defect    1  \n",
              "3             normal    0  \n",
              "4             normal    0  "
            ],
            "text/html": [
              "\n",
              "  <div id=\"df-f09dd95b-3af5-4ee3-9d5c-f638007a170e\" class=\"colab-df-container\">\n",
              "    <div>\n",
              "<style scoped>\n",
              "    .dataframe tbody tr th:only-of-type {\n",
              "        vertical-align: middle;\n",
              "    }\n",
              "\n",
              "    .dataframe tbody tr th {\n",
              "        vertical-align: top;\n",
              "    }\n",
              "\n",
              "    .dataframe thead th {\n",
              "        text-align: right;\n",
              "    }\n",
              "</style>\n",
              "<table border=\"1\" class=\"dataframe\">\n",
              "  <thead>\n",
              "    <tr style=\"text-align: right;\">\n",
              "      <th></th>\n",
              "      <th>id</th>\n",
              "      <th>age</th>\n",
              "      <th>sex</th>\n",
              "      <th>dataset</th>\n",
              "      <th>cp</th>\n",
              "      <th>trestbps</th>\n",
              "      <th>chol</th>\n",
              "      <th>fbs</th>\n",
              "      <th>restecg</th>\n",
              "      <th>thalch</th>\n",
              "      <th>exang</th>\n",
              "      <th>oldpeak</th>\n",
              "      <th>slope</th>\n",
              "      <th>ca</th>\n",
              "      <th>thal</th>\n",
              "      <th>num</th>\n",
              "    </tr>\n",
              "  </thead>\n",
              "  <tbody>\n",
              "    <tr>\n",
              "      <th>0</th>\n",
              "      <td>1</td>\n",
              "      <td>63</td>\n",
              "      <td>Male</td>\n",
              "      <td>Cleveland</td>\n",
              "      <td>typical angina</td>\n",
              "      <td>145.0</td>\n",
              "      <td>233.0</td>\n",
              "      <td>True</td>\n",
              "      <td>lv hypertrophy</td>\n",
              "      <td>150.0</td>\n",
              "      <td>False</td>\n",
              "      <td>2.3</td>\n",
              "      <td>downsloping</td>\n",
              "      <td>0.0</td>\n",
              "      <td>fixed defect</td>\n",
              "      <td>0</td>\n",
              "    </tr>\n",
              "    <tr>\n",
              "      <th>1</th>\n",
              "      <td>2</td>\n",
              "      <td>67</td>\n",
              "      <td>Male</td>\n",
              "      <td>Cleveland</td>\n",
              "      <td>asymptomatic</td>\n",
              "      <td>160.0</td>\n",
              "      <td>286.0</td>\n",
              "      <td>False</td>\n",
              "      <td>lv hypertrophy</td>\n",
              "      <td>108.0</td>\n",
              "      <td>True</td>\n",
              "      <td>1.5</td>\n",
              "      <td>flat</td>\n",
              "      <td>3.0</td>\n",
              "      <td>normal</td>\n",
              "      <td>2</td>\n",
              "    </tr>\n",
              "    <tr>\n",
              "      <th>2</th>\n",
              "      <td>3</td>\n",
              "      <td>67</td>\n",
              "      <td>Male</td>\n",
              "      <td>Cleveland</td>\n",
              "      <td>asymptomatic</td>\n",
              "      <td>120.0</td>\n",
              "      <td>229.0</td>\n",
              "      <td>False</td>\n",
              "      <td>lv hypertrophy</td>\n",
              "      <td>129.0</td>\n",
              "      <td>True</td>\n",
              "      <td>2.6</td>\n",
              "      <td>flat</td>\n",
              "      <td>2.0</td>\n",
              "      <td>reversable defect</td>\n",
              "      <td>1</td>\n",
              "    </tr>\n",
              "    <tr>\n",
              "      <th>3</th>\n",
              "      <td>4</td>\n",
              "      <td>37</td>\n",
              "      <td>Male</td>\n",
              "      <td>Cleveland</td>\n",
              "      <td>non-anginal</td>\n",
              "      <td>130.0</td>\n",
              "      <td>250.0</td>\n",
              "      <td>False</td>\n",
              "      <td>normal</td>\n",
              "      <td>187.0</td>\n",
              "      <td>False</td>\n",
              "      <td>3.5</td>\n",
              "      <td>downsloping</td>\n",
              "      <td>0.0</td>\n",
              "      <td>normal</td>\n",
              "      <td>0</td>\n",
              "    </tr>\n",
              "    <tr>\n",
              "      <th>4</th>\n",
              "      <td>5</td>\n",
              "      <td>41</td>\n",
              "      <td>Female</td>\n",
              "      <td>Cleveland</td>\n",
              "      <td>atypical angina</td>\n",
              "      <td>130.0</td>\n",
              "      <td>204.0</td>\n",
              "      <td>False</td>\n",
              "      <td>lv hypertrophy</td>\n",
              "      <td>172.0</td>\n",
              "      <td>False</td>\n",
              "      <td>1.4</td>\n",
              "      <td>upsloping</td>\n",
              "      <td>0.0</td>\n",
              "      <td>normal</td>\n",
              "      <td>0</td>\n",
              "    </tr>\n",
              "  </tbody>\n",
              "</table>\n",
              "</div>\n",
              "    <div class=\"colab-df-buttons\">\n",
              "\n",
              "  <div class=\"colab-df-container\">\n",
              "    <button class=\"colab-df-convert\" onclick=\"convertToInteractive('df-f09dd95b-3af5-4ee3-9d5c-f638007a170e')\"\n",
              "            title=\"Convert this dataframe to an interactive table.\"\n",
              "            style=\"display:none;\">\n",
              "\n",
              "  <svg xmlns=\"http://www.w3.org/2000/svg\" height=\"24px\" viewBox=\"0 -960 960 960\">\n",
              "    <path d=\"M120-120v-720h720v720H120Zm60-500h600v-160H180v160Zm220 220h160v-160H400v160Zm0 220h160v-160H400v160ZM180-400h160v-160H180v160Zm440 0h160v-160H620v160ZM180-180h160v-160H180v160Zm440 0h160v-160H620v160Z\"/>\n",
              "  </svg>\n",
              "    </button>\n",
              "\n",
              "  <style>\n",
              "    .colab-df-container {\n",
              "      display:flex;\n",
              "      gap: 12px;\n",
              "    }\n",
              "\n",
              "    .colab-df-convert {\n",
              "      background-color: #E8F0FE;\n",
              "      border: none;\n",
              "      border-radius: 50%;\n",
              "      cursor: pointer;\n",
              "      display: none;\n",
              "      fill: #1967D2;\n",
              "      height: 32px;\n",
              "      padding: 0 0 0 0;\n",
              "      width: 32px;\n",
              "    }\n",
              "\n",
              "    .colab-df-convert:hover {\n",
              "      background-color: #E2EBFA;\n",
              "      box-shadow: 0px 1px 2px rgba(60, 64, 67, 0.3), 0px 1px 3px 1px rgba(60, 64, 67, 0.15);\n",
              "      fill: #174EA6;\n",
              "    }\n",
              "\n",
              "    .colab-df-buttons div {\n",
              "      margin-bottom: 4px;\n",
              "    }\n",
              "\n",
              "    [theme=dark] .colab-df-convert {\n",
              "      background-color: #3B4455;\n",
              "      fill: #D2E3FC;\n",
              "    }\n",
              "\n",
              "    [theme=dark] .colab-df-convert:hover {\n",
              "      background-color: #434B5C;\n",
              "      box-shadow: 0px 1px 3px 1px rgba(0, 0, 0, 0.15);\n",
              "      filter: drop-shadow(0px 1px 2px rgba(0, 0, 0, 0.3));\n",
              "      fill: #FFFFFF;\n",
              "    }\n",
              "  </style>\n",
              "\n",
              "    <script>\n",
              "      const buttonEl =\n",
              "        document.querySelector('#df-f09dd95b-3af5-4ee3-9d5c-f638007a170e button.colab-df-convert');\n",
              "      buttonEl.style.display =\n",
              "        google.colab.kernel.accessAllowed ? 'block' : 'none';\n",
              "\n",
              "      async function convertToInteractive(key) {\n",
              "        const element = document.querySelector('#df-f09dd95b-3af5-4ee3-9d5c-f638007a170e');\n",
              "        const dataTable =\n",
              "          await google.colab.kernel.invokeFunction('convertToInteractive',\n",
              "                                                    [key], {});\n",
              "        if (!dataTable) return;\n",
              "\n",
              "        const docLinkHtml = 'Like what you see? Visit the ' +\n",
              "          '<a target=\"_blank\" href=https://colab.research.google.com/notebooks/data_table.ipynb>data table notebook</a>'\n",
              "          + ' to learn more about interactive tables.';\n",
              "        element.innerHTML = '';\n",
              "        dataTable['output_type'] = 'display_data';\n",
              "        await google.colab.output.renderOutput(dataTable, element);\n",
              "        const docLink = document.createElement('div');\n",
              "        docLink.innerHTML = docLinkHtml;\n",
              "        element.appendChild(docLink);\n",
              "      }\n",
              "    </script>\n",
              "  </div>\n",
              "\n",
              "\n",
              "<div id=\"df-575fe99a-c50e-4cee-9a63-eebf29a1a231\">\n",
              "  <button class=\"colab-df-quickchart\" onclick=\"quickchart('df-575fe99a-c50e-4cee-9a63-eebf29a1a231')\"\n",
              "            title=\"Suggest charts\"\n",
              "            style=\"display:none;\">\n",
              "\n",
              "<svg xmlns=\"http://www.w3.org/2000/svg\" height=\"24px\"viewBox=\"0 0 24 24\"\n",
              "     width=\"24px\">\n",
              "    <g>\n",
              "        <path d=\"M19 3H5c-1.1 0-2 .9-2 2v14c0 1.1.9 2 2 2h14c1.1 0 2-.9 2-2V5c0-1.1-.9-2-2-2zM9 17H7v-7h2v7zm4 0h-2V7h2v10zm4 0h-2v-4h2v4z\"/>\n",
              "    </g>\n",
              "</svg>\n",
              "  </button>\n",
              "\n",
              "<style>\n",
              "  .colab-df-quickchart {\n",
              "      --bg-color: #E8F0FE;\n",
              "      --fill-color: #1967D2;\n",
              "      --hover-bg-color: #E2EBFA;\n",
              "      --hover-fill-color: #174EA6;\n",
              "      --disabled-fill-color: #AAA;\n",
              "      --disabled-bg-color: #DDD;\n",
              "  }\n",
              "\n",
              "  [theme=dark] .colab-df-quickchart {\n",
              "      --bg-color: #3B4455;\n",
              "      --fill-color: #D2E3FC;\n",
              "      --hover-bg-color: #434B5C;\n",
              "      --hover-fill-color: #FFFFFF;\n",
              "      --disabled-bg-color: #3B4455;\n",
              "      --disabled-fill-color: #666;\n",
              "  }\n",
              "\n",
              "  .colab-df-quickchart {\n",
              "    background-color: var(--bg-color);\n",
              "    border: none;\n",
              "    border-radius: 50%;\n",
              "    cursor: pointer;\n",
              "    display: none;\n",
              "    fill: var(--fill-color);\n",
              "    height: 32px;\n",
              "    padding: 0;\n",
              "    width: 32px;\n",
              "  }\n",
              "\n",
              "  .colab-df-quickchart:hover {\n",
              "    background-color: var(--hover-bg-color);\n",
              "    box-shadow: 0 1px 2px rgba(60, 64, 67, 0.3), 0 1px 3px 1px rgba(60, 64, 67, 0.15);\n",
              "    fill: var(--button-hover-fill-color);\n",
              "  }\n",
              "\n",
              "  .colab-df-quickchart-complete:disabled,\n",
              "  .colab-df-quickchart-complete:disabled:hover {\n",
              "    background-color: var(--disabled-bg-color);\n",
              "    fill: var(--disabled-fill-color);\n",
              "    box-shadow: none;\n",
              "  }\n",
              "\n",
              "  .colab-df-spinner {\n",
              "    border: 2px solid var(--fill-color);\n",
              "    border-color: transparent;\n",
              "    border-bottom-color: var(--fill-color);\n",
              "    animation:\n",
              "      spin 1s steps(1) infinite;\n",
              "  }\n",
              "\n",
              "  @keyframes spin {\n",
              "    0% {\n",
              "      border-color: transparent;\n",
              "      border-bottom-color: var(--fill-color);\n",
              "      border-left-color: var(--fill-color);\n",
              "    }\n",
              "    20% {\n",
              "      border-color: transparent;\n",
              "      border-left-color: var(--fill-color);\n",
              "      border-top-color: var(--fill-color);\n",
              "    }\n",
              "    30% {\n",
              "      border-color: transparent;\n",
              "      border-left-color: var(--fill-color);\n",
              "      border-top-color: var(--fill-color);\n",
              "      border-right-color: var(--fill-color);\n",
              "    }\n",
              "    40% {\n",
              "      border-color: transparent;\n",
              "      border-right-color: var(--fill-color);\n",
              "      border-top-color: var(--fill-color);\n",
              "    }\n",
              "    60% {\n",
              "      border-color: transparent;\n",
              "      border-right-color: var(--fill-color);\n",
              "    }\n",
              "    80% {\n",
              "      border-color: transparent;\n",
              "      border-right-color: var(--fill-color);\n",
              "      border-bottom-color: var(--fill-color);\n",
              "    }\n",
              "    90% {\n",
              "      border-color: transparent;\n",
              "      border-bottom-color: var(--fill-color);\n",
              "    }\n",
              "  }\n",
              "</style>\n",
              "\n",
              "  <script>\n",
              "    async function quickchart(key) {\n",
              "      const quickchartButtonEl =\n",
              "        document.querySelector('#' + key + ' button');\n",
              "      quickchartButtonEl.disabled = true;  // To prevent multiple clicks.\n",
              "      quickchartButtonEl.classList.add('colab-df-spinner');\n",
              "      try {\n",
              "        const charts = await google.colab.kernel.invokeFunction(\n",
              "            'suggestCharts', [key], {});\n",
              "      } catch (error) {\n",
              "        console.error('Error during call to suggestCharts:', error);\n",
              "      }\n",
              "      quickchartButtonEl.classList.remove('colab-df-spinner');\n",
              "      quickchartButtonEl.classList.add('colab-df-quickchart-complete');\n",
              "    }\n",
              "    (() => {\n",
              "      let quickchartButtonEl =\n",
              "        document.querySelector('#df-575fe99a-c50e-4cee-9a63-eebf29a1a231 button');\n",
              "      quickchartButtonEl.style.display =\n",
              "        google.colab.kernel.accessAllowed ? 'block' : 'none';\n",
              "    })();\n",
              "  </script>\n",
              "</div>\n",
              "\n",
              "    </div>\n",
              "  </div>\n"
            ]
          },
          "metadata": {},
          "execution_count": 3
        }
      ]
    },
    {
      "cell_type": "markdown",
      "source": [
        "## Exploratory Data Analysis (EDA)"
      ],
      "metadata": {
        "id": "MBREo8-Oz4dY"
      }
    },
    {
      "cell_type": "code",
      "source": [
        "df.info()"
      ],
      "metadata": {
        "colab": {
          "base_uri": "https://localhost:8080/"
        },
        "id": "QzlAw8Naz4dY",
        "outputId": "b9522333-6bcc-496f-dec8-74d4b806f8ad"
      },
      "execution_count": 4,
      "outputs": [
        {
          "output_type": "stream",
          "name": "stdout",
          "text": [
            "<class 'pandas.core.frame.DataFrame'>\n",
            "RangeIndex: 920 entries, 0 to 919\n",
            "Data columns (total 16 columns):\n",
            " #   Column    Non-Null Count  Dtype  \n",
            "---  ------    --------------  -----  \n",
            " 0   id        920 non-null    int64  \n",
            " 1   age       920 non-null    int64  \n",
            " 2   sex       920 non-null    object \n",
            " 3   dataset   920 non-null    object \n",
            " 4   cp        920 non-null    object \n",
            " 5   trestbps  861 non-null    float64\n",
            " 6   chol      890 non-null    float64\n",
            " 7   fbs       830 non-null    object \n",
            " 8   restecg   918 non-null    object \n",
            " 9   thalch    865 non-null    float64\n",
            " 10  exang     865 non-null    object \n",
            " 11  oldpeak   858 non-null    float64\n",
            " 12  slope     611 non-null    object \n",
            " 13  ca        309 non-null    float64\n",
            " 14  thal      434 non-null    object \n",
            " 15  num       920 non-null    int64  \n",
            "dtypes: float64(5), int64(3), object(8)\n",
            "memory usage: 115.1+ KB\n"
          ]
        }
      ]
    },
    {
      "cell_type": "code",
      "source": [
        "df.shape"
      ],
      "metadata": {
        "colab": {
          "base_uri": "https://localhost:8080/"
        },
        "id": "rNes07tTz4dY",
        "outputId": "cebebd98-888a-447b-afa7-6db17ab5272a"
      },
      "execution_count": 5,
      "outputs": [
        {
          "output_type": "execute_result",
          "data": {
            "text/plain": [
              "(920, 16)"
            ]
          },
          "metadata": {},
          "execution_count": 5
        }
      ]
    },
    {
      "cell_type": "markdown",
      "source": [
        "### Summary Statistics"
      ],
      "metadata": {
        "id": "nSZJ1ocFz4dY"
      }
    },
    {
      "cell_type": "code",
      "source": [
        "df.describe()"
      ],
      "metadata": {
        "colab": {
          "base_uri": "https://localhost:8080/",
          "height": 300
        },
        "id": "8b50-rXvz4dY",
        "outputId": "a16e40dd-b481-49af-a145-b802f7340211"
      },
      "execution_count": 6,
      "outputs": [
        {
          "output_type": "execute_result",
          "data": {
            "text/plain": [
              "               id         age    trestbps        chol      thalch     oldpeak  \\\n",
              "count  920.000000  920.000000  861.000000  890.000000  865.000000  858.000000   \n",
              "mean   460.500000   53.510870  132.132404  199.130337  137.545665    0.878788   \n",
              "std    265.725422    9.424685   19.066070  110.780810   25.926276    1.091226   \n",
              "min      1.000000   28.000000    0.000000    0.000000   60.000000   -2.600000   \n",
              "25%    230.750000   47.000000  120.000000  175.000000  120.000000    0.000000   \n",
              "50%    460.500000   54.000000  130.000000  223.000000  140.000000    0.500000   \n",
              "75%    690.250000   60.000000  140.000000  268.000000  157.000000    1.500000   \n",
              "max    920.000000   77.000000  200.000000  603.000000  202.000000    6.200000   \n",
              "\n",
              "               ca         num  \n",
              "count  309.000000  920.000000  \n",
              "mean     0.676375    0.995652  \n",
              "std      0.935653    1.142693  \n",
              "min      0.000000    0.000000  \n",
              "25%      0.000000    0.000000  \n",
              "50%      0.000000    1.000000  \n",
              "75%      1.000000    2.000000  \n",
              "max      3.000000    4.000000  "
            ],
            "text/html": [
              "\n",
              "  <div id=\"df-4f8abecc-a2d7-42c9-a598-68889f689ae2\" class=\"colab-df-container\">\n",
              "    <div>\n",
              "<style scoped>\n",
              "    .dataframe tbody tr th:only-of-type {\n",
              "        vertical-align: middle;\n",
              "    }\n",
              "\n",
              "    .dataframe tbody tr th {\n",
              "        vertical-align: top;\n",
              "    }\n",
              "\n",
              "    .dataframe thead th {\n",
              "        text-align: right;\n",
              "    }\n",
              "</style>\n",
              "<table border=\"1\" class=\"dataframe\">\n",
              "  <thead>\n",
              "    <tr style=\"text-align: right;\">\n",
              "      <th></th>\n",
              "      <th>id</th>\n",
              "      <th>age</th>\n",
              "      <th>trestbps</th>\n",
              "      <th>chol</th>\n",
              "      <th>thalch</th>\n",
              "      <th>oldpeak</th>\n",
              "      <th>ca</th>\n",
              "      <th>num</th>\n",
              "    </tr>\n",
              "  </thead>\n",
              "  <tbody>\n",
              "    <tr>\n",
              "      <th>count</th>\n",
              "      <td>920.000000</td>\n",
              "      <td>920.000000</td>\n",
              "      <td>861.000000</td>\n",
              "      <td>890.000000</td>\n",
              "      <td>865.000000</td>\n",
              "      <td>858.000000</td>\n",
              "      <td>309.000000</td>\n",
              "      <td>920.000000</td>\n",
              "    </tr>\n",
              "    <tr>\n",
              "      <th>mean</th>\n",
              "      <td>460.500000</td>\n",
              "      <td>53.510870</td>\n",
              "      <td>132.132404</td>\n",
              "      <td>199.130337</td>\n",
              "      <td>137.545665</td>\n",
              "      <td>0.878788</td>\n",
              "      <td>0.676375</td>\n",
              "      <td>0.995652</td>\n",
              "    </tr>\n",
              "    <tr>\n",
              "      <th>std</th>\n",
              "      <td>265.725422</td>\n",
              "      <td>9.424685</td>\n",
              "      <td>19.066070</td>\n",
              "      <td>110.780810</td>\n",
              "      <td>25.926276</td>\n",
              "      <td>1.091226</td>\n",
              "      <td>0.935653</td>\n",
              "      <td>1.142693</td>\n",
              "    </tr>\n",
              "    <tr>\n",
              "      <th>min</th>\n",
              "      <td>1.000000</td>\n",
              "      <td>28.000000</td>\n",
              "      <td>0.000000</td>\n",
              "      <td>0.000000</td>\n",
              "      <td>60.000000</td>\n",
              "      <td>-2.600000</td>\n",
              "      <td>0.000000</td>\n",
              "      <td>0.000000</td>\n",
              "    </tr>\n",
              "    <tr>\n",
              "      <th>25%</th>\n",
              "      <td>230.750000</td>\n",
              "      <td>47.000000</td>\n",
              "      <td>120.000000</td>\n",
              "      <td>175.000000</td>\n",
              "      <td>120.000000</td>\n",
              "      <td>0.000000</td>\n",
              "      <td>0.000000</td>\n",
              "      <td>0.000000</td>\n",
              "    </tr>\n",
              "    <tr>\n",
              "      <th>50%</th>\n",
              "      <td>460.500000</td>\n",
              "      <td>54.000000</td>\n",
              "      <td>130.000000</td>\n",
              "      <td>223.000000</td>\n",
              "      <td>140.000000</td>\n",
              "      <td>0.500000</td>\n",
              "      <td>0.000000</td>\n",
              "      <td>1.000000</td>\n",
              "    </tr>\n",
              "    <tr>\n",
              "      <th>75%</th>\n",
              "      <td>690.250000</td>\n",
              "      <td>60.000000</td>\n",
              "      <td>140.000000</td>\n",
              "      <td>268.000000</td>\n",
              "      <td>157.000000</td>\n",
              "      <td>1.500000</td>\n",
              "      <td>1.000000</td>\n",
              "      <td>2.000000</td>\n",
              "    </tr>\n",
              "    <tr>\n",
              "      <th>max</th>\n",
              "      <td>920.000000</td>\n",
              "      <td>77.000000</td>\n",
              "      <td>200.000000</td>\n",
              "      <td>603.000000</td>\n",
              "      <td>202.000000</td>\n",
              "      <td>6.200000</td>\n",
              "      <td>3.000000</td>\n",
              "      <td>4.000000</td>\n",
              "    </tr>\n",
              "  </tbody>\n",
              "</table>\n",
              "</div>\n",
              "    <div class=\"colab-df-buttons\">\n",
              "\n",
              "  <div class=\"colab-df-container\">\n",
              "    <button class=\"colab-df-convert\" onclick=\"convertToInteractive('df-4f8abecc-a2d7-42c9-a598-68889f689ae2')\"\n",
              "            title=\"Convert this dataframe to an interactive table.\"\n",
              "            style=\"display:none;\">\n",
              "\n",
              "  <svg xmlns=\"http://www.w3.org/2000/svg\" height=\"24px\" viewBox=\"0 -960 960 960\">\n",
              "    <path d=\"M120-120v-720h720v720H120Zm60-500h600v-160H180v160Zm220 220h160v-160H400v160Zm0 220h160v-160H400v160ZM180-400h160v-160H180v160Zm440 0h160v-160H620v160ZM180-180h160v-160H180v160Zm440 0h160v-160H620v160Z\"/>\n",
              "  </svg>\n",
              "    </button>\n",
              "\n",
              "  <style>\n",
              "    .colab-df-container {\n",
              "      display:flex;\n",
              "      gap: 12px;\n",
              "    }\n",
              "\n",
              "    .colab-df-convert {\n",
              "      background-color: #E8F0FE;\n",
              "      border: none;\n",
              "      border-radius: 50%;\n",
              "      cursor: pointer;\n",
              "      display: none;\n",
              "      fill: #1967D2;\n",
              "      height: 32px;\n",
              "      padding: 0 0 0 0;\n",
              "      width: 32px;\n",
              "    }\n",
              "\n",
              "    .colab-df-convert:hover {\n",
              "      background-color: #E2EBFA;\n",
              "      box-shadow: 0px 1px 2px rgba(60, 64, 67, 0.3), 0px 1px 3px 1px rgba(60, 64, 67, 0.15);\n",
              "      fill: #174EA6;\n",
              "    }\n",
              "\n",
              "    .colab-df-buttons div {\n",
              "      margin-bottom: 4px;\n",
              "    }\n",
              "\n",
              "    [theme=dark] .colab-df-convert {\n",
              "      background-color: #3B4455;\n",
              "      fill: #D2E3FC;\n",
              "    }\n",
              "\n",
              "    [theme=dark] .colab-df-convert:hover {\n",
              "      background-color: #434B5C;\n",
              "      box-shadow: 0px 1px 3px 1px rgba(0, 0, 0, 0.15);\n",
              "      filter: drop-shadow(0px 1px 2px rgba(0, 0, 0, 0.3));\n",
              "      fill: #FFFFFF;\n",
              "    }\n",
              "  </style>\n",
              "\n",
              "    <script>\n",
              "      const buttonEl =\n",
              "        document.querySelector('#df-4f8abecc-a2d7-42c9-a598-68889f689ae2 button.colab-df-convert');\n",
              "      buttonEl.style.display =\n",
              "        google.colab.kernel.accessAllowed ? 'block' : 'none';\n",
              "\n",
              "      async function convertToInteractive(key) {\n",
              "        const element = document.querySelector('#df-4f8abecc-a2d7-42c9-a598-68889f689ae2');\n",
              "        const dataTable =\n",
              "          await google.colab.kernel.invokeFunction('convertToInteractive',\n",
              "                                                    [key], {});\n",
              "        if (!dataTable) return;\n",
              "\n",
              "        const docLinkHtml = 'Like what you see? Visit the ' +\n",
              "          '<a target=\"_blank\" href=https://colab.research.google.com/notebooks/data_table.ipynb>data table notebook</a>'\n",
              "          + ' to learn more about interactive tables.';\n",
              "        element.innerHTML = '';\n",
              "        dataTable['output_type'] = 'display_data';\n",
              "        await google.colab.output.renderOutput(dataTable, element);\n",
              "        const docLink = document.createElement('div');\n",
              "        docLink.innerHTML = docLinkHtml;\n",
              "        element.appendChild(docLink);\n",
              "      }\n",
              "    </script>\n",
              "  </div>\n",
              "\n",
              "\n",
              "<div id=\"df-62dc3cf1-0be3-49e8-a923-f36d7e4ba36d\">\n",
              "  <button class=\"colab-df-quickchart\" onclick=\"quickchart('df-62dc3cf1-0be3-49e8-a923-f36d7e4ba36d')\"\n",
              "            title=\"Suggest charts\"\n",
              "            style=\"display:none;\">\n",
              "\n",
              "<svg xmlns=\"http://www.w3.org/2000/svg\" height=\"24px\"viewBox=\"0 0 24 24\"\n",
              "     width=\"24px\">\n",
              "    <g>\n",
              "        <path d=\"M19 3H5c-1.1 0-2 .9-2 2v14c0 1.1.9 2 2 2h14c1.1 0 2-.9 2-2V5c0-1.1-.9-2-2-2zM9 17H7v-7h2v7zm4 0h-2V7h2v10zm4 0h-2v-4h2v4z\"/>\n",
              "    </g>\n",
              "</svg>\n",
              "  </button>\n",
              "\n",
              "<style>\n",
              "  .colab-df-quickchart {\n",
              "      --bg-color: #E8F0FE;\n",
              "      --fill-color: #1967D2;\n",
              "      --hover-bg-color: #E2EBFA;\n",
              "      --hover-fill-color: #174EA6;\n",
              "      --disabled-fill-color: #AAA;\n",
              "      --disabled-bg-color: #DDD;\n",
              "  }\n",
              "\n",
              "  [theme=dark] .colab-df-quickchart {\n",
              "      --bg-color: #3B4455;\n",
              "      --fill-color: #D2E3FC;\n",
              "      --hover-bg-color: #434B5C;\n",
              "      --hover-fill-color: #FFFFFF;\n",
              "      --disabled-bg-color: #3B4455;\n",
              "      --disabled-fill-color: #666;\n",
              "  }\n",
              "\n",
              "  .colab-df-quickchart {\n",
              "    background-color: var(--bg-color);\n",
              "    border: none;\n",
              "    border-radius: 50%;\n",
              "    cursor: pointer;\n",
              "    display: none;\n",
              "    fill: var(--fill-color);\n",
              "    height: 32px;\n",
              "    padding: 0;\n",
              "    width: 32px;\n",
              "  }\n",
              "\n",
              "  .colab-df-quickchart:hover {\n",
              "    background-color: var(--hover-bg-color);\n",
              "    box-shadow: 0 1px 2px rgba(60, 64, 67, 0.3), 0 1px 3px 1px rgba(60, 64, 67, 0.15);\n",
              "    fill: var(--button-hover-fill-color);\n",
              "  }\n",
              "\n",
              "  .colab-df-quickchart-complete:disabled,\n",
              "  .colab-df-quickchart-complete:disabled:hover {\n",
              "    background-color: var(--disabled-bg-color);\n",
              "    fill: var(--disabled-fill-color);\n",
              "    box-shadow: none;\n",
              "  }\n",
              "\n",
              "  .colab-df-spinner {\n",
              "    border: 2px solid var(--fill-color);\n",
              "    border-color: transparent;\n",
              "    border-bottom-color: var(--fill-color);\n",
              "    animation:\n",
              "      spin 1s steps(1) infinite;\n",
              "  }\n",
              "\n",
              "  @keyframes spin {\n",
              "    0% {\n",
              "      border-color: transparent;\n",
              "      border-bottom-color: var(--fill-color);\n",
              "      border-left-color: var(--fill-color);\n",
              "    }\n",
              "    20% {\n",
              "      border-color: transparent;\n",
              "      border-left-color: var(--fill-color);\n",
              "      border-top-color: var(--fill-color);\n",
              "    }\n",
              "    30% {\n",
              "      border-color: transparent;\n",
              "      border-left-color: var(--fill-color);\n",
              "      border-top-color: var(--fill-color);\n",
              "      border-right-color: var(--fill-color);\n",
              "    }\n",
              "    40% {\n",
              "      border-color: transparent;\n",
              "      border-right-color: var(--fill-color);\n",
              "      border-top-color: var(--fill-color);\n",
              "    }\n",
              "    60% {\n",
              "      border-color: transparent;\n",
              "      border-right-color: var(--fill-color);\n",
              "    }\n",
              "    80% {\n",
              "      border-color: transparent;\n",
              "      border-right-color: var(--fill-color);\n",
              "      border-bottom-color: var(--fill-color);\n",
              "    }\n",
              "    90% {\n",
              "      border-color: transparent;\n",
              "      border-bottom-color: var(--fill-color);\n",
              "    }\n",
              "  }\n",
              "</style>\n",
              "\n",
              "  <script>\n",
              "    async function quickchart(key) {\n",
              "      const quickchartButtonEl =\n",
              "        document.querySelector('#' + key + ' button');\n",
              "      quickchartButtonEl.disabled = true;  // To prevent multiple clicks.\n",
              "      quickchartButtonEl.classList.add('colab-df-spinner');\n",
              "      try {\n",
              "        const charts = await google.colab.kernel.invokeFunction(\n",
              "            'suggestCharts', [key], {});\n",
              "      } catch (error) {\n",
              "        console.error('Error during call to suggestCharts:', error);\n",
              "      }\n",
              "      quickchartButtonEl.classList.remove('colab-df-spinner');\n",
              "      quickchartButtonEl.classList.add('colab-df-quickchart-complete');\n",
              "    }\n",
              "    (() => {\n",
              "      let quickchartButtonEl =\n",
              "        document.querySelector('#df-62dc3cf1-0be3-49e8-a923-f36d7e4ba36d button');\n",
              "      quickchartButtonEl.style.display =\n",
              "        google.colab.kernel.accessAllowed ? 'block' : 'none';\n",
              "    })();\n",
              "  </script>\n",
              "</div>\n",
              "\n",
              "    </div>\n",
              "  </div>\n"
            ]
          },
          "metadata": {},
          "execution_count": 6
        }
      ]
    },
    {
      "cell_type": "markdown",
      "source": [
        "#### Correlation Matrix of Numeric Columns"
      ],
      "metadata": {
        "id": "kLxFFXsgz4dZ"
      }
    },
    {
      "cell_type": "code",
      "source": [
        "df_num = df.select_dtypes(include=['float64', 'int64']).columns.tolist()\n",
        "correlation_matrix  = df[df_num].corr()\n",
        "plt.figure(figsize=(8, 6))\n",
        "\n",
        "sns.heatmap(correlation_matrix, annot=True, cmap=sns.cubehelix_palette(as_cmap=True), fmt=\".2f\")\n",
        "plt.title('Correlation Matrix Heatmap')\n",
        "plt.show()\n"
      ],
      "metadata": {
        "colab": {
          "base_uri": "https://localhost:8080/",
          "height": 545
        },
        "id": "yhjcLgu0z4dZ",
        "outputId": "bb6f7c55-a672-42a0-ff96-3598d7b86acf"
      },
      "execution_count": 7,
      "outputs": [
        {
          "output_type": "display_data",
          "data": {
            "text/plain": [
              "<Figure size 800x600 with 2 Axes>"
            ],
            "image/png": "[encoded data removed]"
          },
          "metadata": {}
        }
      ]
    },
    {
      "cell_type": "markdown",
      "source": [
        "Unique values in Categorical Columns"
      ],
      "metadata": {
        "id": "5iJPRalYz4dZ"
      }
    },
    {
      "cell_type": "code",
      "source": [
        "for col in df.columns:\n",
        "    if df[col].dtype == 'object':\n",
        "        a = df[col].unique()\n",
        "        print(a)"
      ],
      "metadata": {
        "colab": {
          "base_uri": "https://localhost:8080/"
        },
        "id": "xY1zIvvkz4dZ",
        "outputId": "736e8f89-15f3-42ed-fcbb-1fa2ffb11882"
      },
      "execution_count": 9,
      "outputs": [
        {
          "output_type": "stream",
          "name": "stdout",
          "text": [
            "['Male' 'Female']\n",
            "['Cleveland' 'Hungary' 'Switzerland' 'VA Long Beach']\n",
            "['typical angina' 'asymptomatic' 'non-anginal' 'atypical angina']\n",
            "[True False nan]\n",
            "['lv hypertrophy' 'normal' 'st-t abnormality' nan]\n",
            "[False True nan]\n",
            "['downsloping' 'flat' 'upsloping' nan]\n",
            "['fixed defect' 'normal' 'reversable defect' nan]\n"
          ]
        }
      ]
    },
    {
      "cell_type": "code",
      "source": [
        "df['num'].unique()"
      ],
      "metadata": {
        "colab": {
          "base_uri": "https://localhost:8080/"
        },
        "id": "cpy_7uPLz4da",
        "outputId": "609f56f1-a471-4697-e2ca-6cc84bacc395"
      },
      "execution_count": 10,
      "outputs": [
        {
          "output_type": "execute_result",
          "data": {
            "text/plain": [
              "array([0, 2, 1, 3, 4])"
            ]
          },
          "metadata": {},
          "execution_count": 10
        }
      ]
    },
    {
      "cell_type": "code",
      "source": [
        "df['age'].min(), df['age'].max()"
      ],
      "metadata": {
        "colab": {
          "base_uri": "https://localhost:8080/"
        },
        "id": "vP-xOEBZz4da",
        "outputId": "fddbd6a5-5a57-4baa-ed75-111597bae44a"
      },
      "execution_count": 11,
      "outputs": [
        {
          "output_type": "execute_result",
          "data": {
            "text/plain": [
              "(28, 77)"
            ]
          },
          "metadata": {},
          "execution_count": 11
        }
      ]
    },
    {
      "cell_type": "code",
      "source": [
        "sns.histplot(df, x = 'age', kde= True, color='black')"
      ],
      "metadata": {
        "colab": {
          "base_uri": "https://localhost:8080/",
          "height": 466
        },
        "id": "9cXp7ekvz4da",
        "outputId": "0b521894-c795-45c0-814b-3b19c14bf0a5"
      },
      "execution_count": 15,
      "outputs": [
        {
          "output_type": "execute_result",
          "data": {
            "text/plain": [
              "<Axes: xlabel='age', ylabel='Count'>"
            ]
          },
          "metadata": {},
          "execution_count": 15
        },
        {
          "output_type": "display_data",
          "data": {
            "text/plain": [
              "<Figure size 640x480 with 1 Axes>"
            ],
            "image/png": "[encoded data removed]"
          },
          "metadata": {}
        }
      ]
    },
    {
      "cell_type": "code",
      "source": [
        "a = df['age'].mode()[0]\n",
        "b = df['age'].mean()\n",
        "c = df['age'].median()\n",
        "\n",
        "print(f\"Mode of Age: {a},\\nMean of Age: {b}, \\nMedian of Age: {c}\")"
      ],
      "metadata": {
        "colab": {
          "base_uri": "https://localhost:8080/"
        },
        "id": "4YYDFAjiz4da",
        "outputId": "b03b0977-dd39-4501-9a40-e8993b30aee2"
      },
      "execution_count": 16,
      "outputs": [
        {
          "output_type": "stream",
          "name": "stdout",
          "text": [
            "Mode of Age: 54,\n",
            "Mean of Age: 53.51086956521739, \n",
            "Median of Age: 54.0\n"
          ]
        }
      ]
    },
    {
      "cell_type": "code",
      "source": [
        "fig = px.histogram(df, x = 'age', color='sex')\n",
        "fig.update_layout(width=800, height=400, margin=dict(l=50, r=50, t=50, b=50))\n",
        "fig.show()\n"
      ],
      "metadata": {
        "colab": {
          "base_uri": "https://localhost:8080/",
          "height": 417
        },
        "id": "rHS9G7ioz4da",
        "outputId": "bd4256d1-93ea-47aa-e97e-d095a2440931"
      },
      "execution_count": 18,
      "outputs": [
        {
          "output_type": "display_data",
          "data": {
            "text/html": [
              "<html>\n",
              "<head><meta charset=\"utf-8\" /></head>\n",
              "<body>\n",
              "    <div>            <script src=\"https://cdnjs.cloudflare.com/ajax/libs/mathjax/2.7.5/MathJax.js?config=TeX-AMS-MML_SVG\"></script><script type=\"text/javascript\">if (window.MathJax && window.MathJax.Hub && window.MathJax.Hub.Config) {window.MathJax.Hub.Config({SVG: {font: \"STIX-Web\"}});}</script>                <script type=\"text/javascript\">window.PlotlyConfig = {MathJaxConfig: 'local'};</script>\n",
              "        <script charset=\"utf-8\" src=\"https://cdn.plot.ly/plotly-2.24.1.min.js\"></script>                <div id=\"dff03a52-a103-4822-8edb-10d4fde9d484\" class=\"plotly-graph-div\" style=\"height:400px; width:800px;\"></div>            <script type=\"text/javascript\">                                    window.PLOTLYENV=window.PLOTLYENV || {};                                    if (document.getElementById(\"dff03a52-a103-4822-8edb-10d4fde9d484\")) {                    Plotly.newPlot(                        \"dff03a52-a103-4822-8edb-10d4fde9d484\",                        [{\"alignmentgroup\":\"True\",\"bingroup\":\"x\",\"hovertemplate\":\"sex=Male\\u003cbr\\u003eage=%{x}\\u003cbr\\u003ecount=%{y}\\u003cextra\\u003e\\u003c\\u002fextra\\u003e\",\"legendgroup\":\"Male\",\"marker\":{\"color\":\"#636efa\",\"pattern\":{\"shape\":\"\"}},\"name\":\"Male\",\"offsetgroup\":\"Male\",\"orientation\":\"v\",\"showlegend\":true,\"x\":[63,67,67,37,56,63,53,57,56,44,52,57,48,54,49,64,58,58,60,43,40,60,64,59,44,42,43,57,55,61,40,59,58,51,50,53,65,44,44,60,54,50,41,54,51,58,54,60,60,54,59,46,67,62,65,44,60,48,58,45,39,68,52,44,47,66,62,52,59,52,48,45,34,49,54,59,57,61,39,56,52,41,58,63,65,48,51,55,65,54,44,54,51,29,51,70,62,35,51,59,59,52,64,58,47,57,41,45,52,55,64,70,51,58,60,68,46,77,48,57,52,35,70,53,64,57,52,56,43,53,48,42,59,42,66,54,69,50,51,43,67,69,59,57,43,45,58,50,55,38,41,52,56,59,53,47,54,66,49,54,56,46,42,41,61,67,58,47,52,62,57,58,64,43,70,57,44,61,42,52,59,40,42,61,66,46,59,64,57,57,47,35,61,58,58,56,56,67,44,63,41,59,45,68,57,38,28,29,29,32,32,33,34,34,35,35,36,36,36,36,37,37,37,37,38,38,39,39,39,39,39,39,39,39,39,40,40,40,40,40,41,41,41,41,42,42,42,42,42,42,43,44,44,44,45,45,45,45,46,46,46,46,46,46,47,47,47,48,48,48,48,49,49,49,49,50,50,50,50,50,51,51,51,52,52,52,52,53,53,53,53,53,53,54,54,54,54,54,54,54,54,54,55,55,55,55,55,55,55,56,56,56,56,57,58,58,58,58,59,59,59,59,60,61,62,31,34,35,36,37,38,38,38,40,41,41,43,46,46,46,47,47,48,48,48,49,49,50,52,54,54,55,57,58,60,63,65,32,38,39,43,45,46,46,48,48,48,48,50,52,52,53,54,54,54,54,54,55,56,57,58,58,41,43,44,44,46,49,49,51,52,52,52,52,53,53,54,55,55,55,56,56,58,59,59,65,66,41,43,44,47,49,49,50,50,52,52,56,65,32,34,35,36,38,38,38,38,40,41,42,42,43,43,43,45,46,46,47,47,47,47,48,50,50,50,51,51,51,51,51,51,52,52,52,52,53,53,53,53,53,53,53,53,54,54,54,55,55,55,55,56,56,56,56,56,56,56,56,57,57,57,57,57,57,58,58,58,59,59,59,59,59,60,60,60,60,60,60,61,61,61,61,61,61,61,61,61,62,62,62,62,62,63,63,63,63,63,64,65,65,65,65,66,67,68,68,69,69,70,70,72,74,63,44,60,55,66,66,65,60,60,60,56,59,62,63,57,62,63,46,63,60,58,64,63,74,52,69,51,60,56,55,54,77,63,55,52,64,60,60,58,59,61,40,61,41,57,63,59,51,59,42,55,62,56,53,68,53,60,62,59,51,61,57,56,58,69,67,58,65,63,55,57,65,54,72,75,49,51,60,58,61,67,62,65,63,69,51,62,55,75,40,67,58,60,63,35,62,43,63,68,65,48,63,64,61,50,59,55,45,65,61,49,72,50,64,55,63,59,56,62,74,54,57,62,76,70,48,48,61,66,68,55,62,71,74,53,58,75,56,58,64,54,54,59,55,57,61,41,71,38,55,56,69,64,72,69,56,62,67,57,69,51,48,69,69,64,57,53,37,67,74,63,58,61,64,58,60,57,55,55,56,57,61,61,58,74,68,62,53,62,46,62,55,58,62],\"xaxis\":\"x\",\"yaxis\":\"y\",\"type\":\"histogram\"},{\"alignmentgroup\":\"True\",\"bingroup\":\"x\",\"hovertemplate\":\"sex=Female\\u003cbr\\u003eage=%{x}\\u003cbr\\u003ecount=%{y}\\u003cextra\\u003e\\u003c\\u002fextra\\u003e\",\"legendgroup\":\"Female\",\"marker\":{\"color\":\"#EF553B\",\"pattern\":{\"shape\":\"\"}},\"name\":\"Female\",\"offsetgroup\":\"Female\",\"orientation\":\"v\",\"showlegend\":true,\"x\":[41,62,57,56,48,58,50,58,66,69,65,71,61,65,41,51,46,54,65,65,51,53,53,53,51,62,44,63,60,57,71,61,43,62,35,63,45,56,62,43,55,60,42,67,54,58,54,45,59,62,56,60,63,62,68,45,50,50,64,64,62,37,66,46,46,64,41,54,39,63,34,67,52,55,74,54,49,41,49,60,51,42,67,76,44,58,60,71,66,39,58,55,58,55,63,57,57,30,31,32,34,35,35,37,37,37,38,39,41,41,41,42,43,43,43,43,43,43,43,44,45,45,45,46,47,47,48,48,48,48,48,48,48,49,49,49,49,50,50,51,51,51,51,52,52,52,52,53,53,53,54,54,54,54,54,54,54,55,55,55,56,57,57,59,61,62,33,49,50,51,59,40,47,48,56,47,54,58,38,38,50,51,62,62,64,64,66,73,63,64,54,61,51,54],\"xaxis\":\"x\",\"yaxis\":\"y\",\"type\":\"histogram\"}],                        {\"template\":{\"data\":{\"histogram2dcontour\":[{\"type\":\"histogram2dcontour\",\"colorbar\":{\"outlinewidth\":0,\"ticks\":\"\"},\"colorscale\":[[0.0,\"#0d0887\"],[0.1111111111111111,\"#46039f\"],[0.2222222222222222,\"#7201a8\"],[0.3333333333333333,\"#9c179e\"],[0.4444444444444444,\"#bd3786\"],[0.5555555555555556,\"#d8576b\"],[0.6666666666666666,\"#ed7953\"],[0.7777777777777778,\"#fb9f3a\"],[0.8888888888888888,\"#fdca26\"],[1.0,\"#f0f921\"]]}],\"choropleth\":[{\"type\":\"choropleth\",\"colorbar\":{\"outlinewidth\":0,\"ticks\":\"\"}}],\"histogram2d\":[{\"type\":\"histogram2d\",\"colorbar\":{\"outlinewidth\":0,\"ticks\":\"\"},\"colorscale\":[[0.0,\"#0d0887\"],[0.1111111111111111,\"#46039f\"],[0.2222222222222222,\"#7201a8\"],[0.3333333333333333,\"#9c179e\"],[0.4444444444444444,\"#bd3786\"],[0.5555555555555556,\"#d8576b\"],[0.6666666666666666,\"#ed7953\"],[0.7777777777777778,\"#fb9f3a\"],[0.8888888888888888,\"#fdca26\"],[1.0,\"#f0f921\"]]}],\"heatmap\":[{\"type\":\"heatmap\",\"colorbar\":{\"outlinewidth\":0,\"ticks\":\"\"},\"colorscale\":[[0.0,\"#0d0887\"],[0.1111111111111111,\"#46039f\"],[0.2222222222222222,\"#7201a8\"],[0.3333333333333333,\"#9c179e\"],[0.4444444444444444,\"#bd3786\"],[0.5555555555555556,\"#d8576b\"],[0.6666666666666666,\"#ed7953\"],[0.7777777777777778,\"#fb9f3a\"],[0.8888888888888888,\"#fdca26\"],[1.0,\"#f0f921\"]]}],\"heatmapgl\":[{\"type\":\"heatmapgl\",\"colorbar\":{\"outlinewidth\":0,\"ticks\":\"\"},\"colorscale\":[[0.0,\"#0d0887\"],[0.1111111111111111,\"#46039f\"],[0.2222222222222222,\"#7201a8\"],[0.3333333333333333,\"#9c179e\"],[0.4444444444444444,\"#bd3786\"],[0.5555555555555556,\"#d8576b\"],[0.6666666666666666,\"#ed7953\"],[0.7777777777777778,\"#fb9f3a\"],[0.8888888888888888,\"#fdca26\"],[1.0,\"#f0f921\"]]}],\"contourcarpet\":[{\"type\":\"contourcarpet\",\"colorbar\":{\"outlinewidth\":0,\"ticks\":\"\"}}],\"contour\":[{\"type\":\"contour\",\"colorbar\":{\"outlinewidth\":0,\"ticks\":\"\"},\"colorscale\":[[0.0,\"#0d0887\"],[0.1111111111111111,\"#46039f\"],[0.2222222222222222,\"#7201a8\"],[0.3333333333333333,\"#9c179e\"],[0.4444444444444444,\"#bd3786\"],[0.5555555555555556,\"#d8576b\"],[0.6666666666666666,\"#ed7953\"],[0.7777777777777778,\"#fb9f3a\"],[0.8888888888888888,\"#fdca26\"],[1.0,\"#f0f921\"]]}],\"surface\":[{\"type\":\"surface\",\"colorbar\":{\"outlinewidth\":0,\"ticks\":\"\"},\"colorscale\":[[0.0,\"#0d0887\"],[0.1111111111111111,\"#46039f\"],[0.2222222222222222,\"#7201a8\"],[0.3333333333333333,\"#9c179e\"],[0.4444444444444444,\"#bd3786\"],[0.5555555555555556,\"#d8576b\"],[0.6666666666666666,\"#ed7953\"],[0.7777777777777778,\"#fb9f3a\"],[0.8888888888888888,\"#fdca26\"],[1.0,\"#f0f921\"]]}],\"mesh3d\":[{\"type\":\"mesh3d\",\"colorbar\":{\"outlinewidth\":0,\"ticks\":\"\"}}],\"scatter\":[{\"fillpattern\":{\"fillmode\":\"overlay\",\"size\":10,\"solidity\":0.2},\"type\":\"scatter\"}],\"parcoords\":[{\"type\":\"parcoords\",\"line\":{\"colorbar\":{\"outlinewidth\":0,\"ticks\":\"\"}}}],\"scatterpolargl\":[{\"type\":\"scatterpolargl\",\"marker\":{\"colorbar\":{\"outlinewidth\":0,\"ticks\":\"\"}}}],\"bar\":[{\"error_x\":{\"color\":\"#2a3f5f\"},\"error_y\":{\"color\":\"#2a3f5f\"},\"marker\":{\"line\":{\"color\":\"#E5ECF6\",\"width\":0.5},\"pattern\":{\"fillmode\":\"overlay\",\"size\":10,\"solidity\":0.2}},\"type\":\"bar\"}],\"scattergeo\":[{\"type\":\"scattergeo\",\"marker\":{\"colorbar\":{\"outlinewidth\":0,\"ticks\":\"\"}}}],\"scatterpolar\":[{\"type\":\"scatterpolar\",\"marker\":{\"colorbar\":{\"outlinewidth\":0,\"ticks\":\"\"}}}],\"histogram\":[{\"marker\":{\"pattern\":{\"fillmode\":\"overlay\",\"size\":10,\"solidity\":0.2}},\"type\":\"histogram\"}],\"scattergl\":[{\"type\":\"scattergl\",\"marker\":{\"colorbar\":{\"outlinewidth\":0,\"ticks\":\"\"}}}],\"scatter3d\":[{\"type\":\"scatter3d\",\"line\":{\"colorbar\":{\"outlinewidth\":0,\"ticks\":\"\"}},\"marker\":{\"colorbar\":{\"outlinewidth\":0,\"ticks\":\"\"}}}],\"scattermapbox\":[{\"type\":\"scattermapbox\",\"marker\":{\"colorbar\":{\"outlinewidth\":0,\"ticks\":\"\"}}}],\"scatterternary\":[{\"type\":\"scatterternary\",\"marker\":{\"colorbar\":{\"outlinewidth\":0,\"ticks\":\"\"}}}],\"scattercarpet\":[{\"type\":\"scattercarpet\",\"marker\":{\"colorbar\":{\"outlinewidth\":0,\"ticks\":\"\"}}}],\"carpet\":[{\"aaxis\":{\"endlinecolor\":\"#2a3f5f\",\"gridcolor\":\"white\",\"linecolor\":\"white\",\"minorgridcolor\":\"white\",\"startlinecolor\":\"#2a3f5f\"},\"baxis\":{\"endlinecolor\":\"#2a3f5f\",\"gridcolor\":\"white\",\"linecolor\":\"white\",\"minorgridcolor\":\"white\",\"startlinecolor\":\"#2a3f5f\"},\"type\":\"carpet\"}],\"table\":[{\"cells\":{\"fill\":{\"color\":\"#EBF0F8\"},\"line\":{\"color\":\"white\"}},\"header\":{\"fill\":{\"color\":\"#C8D4E3\"},\"line\":{\"color\":\"white\"}},\"type\":\"table\"}],\"barpolar\":[{\"marker\":{\"line\":{\"color\":\"#E5ECF6\",\"width\":0.5},\"pattern\":{\"fillmode\":\"overlay\",\"size\":10,\"solidity\":0.2}},\"type\":\"barpolar\"}],\"pie\":[{\"automargin\":true,\"type\":\"pie\"}]},\"layout\":{\"autotypenumbers\":\"strict\",\"colorway\":[\"#636efa\",\"#EF553B\",\"#00cc96\",\"#ab63fa\",\"#FFA15A\",\"#19d3f3\",\"#FF6692\",\"#B6E880\",\"#FF97FF\",\"#FECB52\"],\"font\":{\"color\":\"#2a3f5f\"},\"hovermode\":\"closest\",\"hoverlabel\":{\"align\":\"left\"},\"paper_bgcolor\":\"white\",\"plot_bgcolor\":\"#E5ECF6\",\"polar\":{\"bgcolor\":\"#E5ECF6\",\"angularaxis\":{\"gridcolor\":\"white\",\"linecolor\":\"white\",\"ticks\":\"\"},\"radialaxis\":{\"gridcolor\":\"white\",\"linecolor\":\"white\",\"ticks\":\"\"}},\"ternary\":{\"bgcolor\":\"#E5ECF6\",\"aaxis\":{\"gridcolor\":\"white\",\"linecolor\":\"white\",\"ticks\":\"\"},\"baxis\":{\"gridcolor\":\"white\",\"linecolor\":\"white\",\"ticks\":\"\"},\"caxis\":{\"gridcolor\":\"white\",\"linecolor\":\"white\",\"ticks\":\"\"}},\"coloraxis\":{\"colorbar\":{\"outlinewidth\":0,\"ticks\":\"\"}},\"colorscale\":{\"sequential\":[[0.0,\"#0d0887\"],[0.1111111111111111,\"#46039f\"],[0.2222222222222222,\"#7201a8\"],[0.3333333333333333,\"#9c179e\"],[0.4444444444444444,\"#bd3786\"],[0.5555555555555556,\"#d8576b\"],[0.6666666666666666,\"#ed7953\"],[0.7777777777777778,\"#fb9f3a\"],[0.8888888888888888,\"#fdca26\"],[1.0,\"#f0f921\"]],\"sequentialminus\":[[0.0,\"#0d0887\"],[0.1111111111111111,\"#46039f\"],[0.2222222222222222,\"#7201a8\"],[0.3333333333333333,\"#9c179e\"],[0.4444444444444444,\"#bd3786\"],[0.5555555555555556,\"#d8576b\"],[0.6666666666666666,\"#ed7953\"],[0.7777777777777778,\"#fb9f3a\"],[0.8888888888888888,\"#fdca26\"],[1.0,\"#f0f921\"]],\"diverging\":[[0,\"#8e0152\"],[0.1,\"#c51b7d\"],[0.2,\"#de77ae\"],[0.3,\"#f1b6da\"],[0.4,\"#fde0ef\"],[0.5,\"#f7f7f7\"],[0.6,\"#e6f5d0\"],[0.7,\"#b8e186\"],[0.8,\"#7fbc41\"],[0.9,\"#4d9221\"],[1,\"#276419\"]]},\"xaxis\":{\"gridcolor\":\"white\",\"linecolor\":\"white\",\"ticks\":\"\",\"title\":{\"standoff\":15},\"zerolinecolor\":\"white\",\"automargin\":true,\"zerolinewidth\":2},\"yaxis\":{\"gridcolor\":\"white\",\"linecolor\":\"white\",\"ticks\":\"\",\"title\":{\"standoff\":15},\"zerolinecolor\":\"white\",\"automargin\":true,\"zerolinewidth\":2},\"scene\":{\"xaxis\":{\"backgroundcolor\":\"#E5ECF6\",\"gridcolor\":\"white\",\"linecolor\":\"white\",\"showbackground\":true,\"ticks\":\"\",\"zerolinecolor\":\"white\",\"gridwidth\":2},\"yaxis\":{\"backgroundcolor\":\"#E5ECF6\",\"gridcolor\":\"white\",\"linecolor\":\"white\",\"showbackground\":true,\"ticks\":\"\",\"zerolinecolor\":\"white\",\"gridwidth\":2},\"zaxis\":{\"backgroundcolor\":\"#E5ECF6\",\"gridcolor\":\"white\",\"linecolor\":\"white\",\"showbackground\":true,\"ticks\":\"\",\"zerolinecolor\":\"white\",\"gridwidth\":2}},\"shapedefaults\":{\"line\":{\"color\":\"#2a3f5f\"}},\"annotationdefaults\":{\"arrowcolor\":\"#2a3f5f\",\"arrowhead\":0,\"arrowwidth\":1},\"geo\":{\"bgcolor\":\"white\",\"landcolor\":\"#E5ECF6\",\"subunitcolor\":\"white\",\"showland\":true,\"showlakes\":true,\"lakecolor\":\"white\"},\"title\":{\"x\":0.05},\"mapbox\":{\"style\":\"light\"}}},\"xaxis\":{\"anchor\":\"y\",\"domain\":[0.0,1.0],\"title\":{\"text\":\"age\"}},\"yaxis\":{\"anchor\":\"x\",\"domain\":[0.0,1.0],\"title\":{\"text\":\"count\"}},\"legend\":{\"title\":{\"text\":\"sex\"},\"tracegroupgap\":0},\"margin\":{\"t\":50,\"l\":50,\"r\":50,\"b\":50},\"barmode\":\"relative\",\"width\":800,\"height\":400},                        {\"responsive\": true}                    ).then(function(){\n",
              "                            \n",
              "var gd = document.getElementById('dff03a52-a103-4822-8edb-10d4fde9d484');\n",
              "var x = new MutationObserver(function (mutations, observer) {{\n",
              "        var display = window.getComputedStyle(gd).display;\n",
              "        if (!display || display === 'none') {{\n",
              "            console.log([gd, 'removed!']);\n",
              "            Plotly.purge(gd);\n",
              "            observer.disconnect();\n",
              "        }}\n",
              "}});\n",
              "\n",
              "// Listen for the removal of the full notebook cells\n",
              "var notebookContainer = gd.closest('#notebook-container');\n",
              "if (notebookContainer) {{\n",
              "    x.observe(notebookContainer, {childList: true});\n",
              "}}\n",
              "\n",
              "// Listen for the clearing of the current output cell\n",
              "var outputEl = gd.closest('.output');\n",
              "if (outputEl) {{\n",
              "    x.observe(outputEl, {childList: true});\n",
              "}}\n",
              "\n",
              "                        })                };                            </script>        </div>\n",
              "</body>\n",
              "</html>"
            ]
          },
          "metadata": {}
        }
      ]
    },
    {
      "cell_type": "code",
      "source": [
        "df['sex'].value_counts()"
      ],
      "metadata": {
        "colab": {
          "base_uri": "https://localhost:8080/"
        },
        "id": "YTamkRiPz4db",
        "outputId": "a712f3a1-f773-4328-9058-98da8382f852"
      },
      "execution_count": 19,
      "outputs": [
        {
          "output_type": "execute_result",
          "data": {
            "text/plain": [
              "Male      726\n",
              "Female    194\n",
              "Name: sex, dtype: int64"
            ]
          },
          "metadata": {},
          "execution_count": 19
        }
      ]
    },
    {
      "cell_type": "code",
      "source": [
        "df['dataset'].value_counts()"
      ],
      "metadata": {
        "colab": {
          "base_uri": "https://localhost:8080/"
        },
        "id": "wLaXBaM2z4db",
        "outputId": "da8a47ef-bbe0-4594-fcac-07ab221770e4"
      },
      "execution_count": 20,
      "outputs": [
        {
          "output_type": "execute_result",
          "data": {
            "text/plain": [
              "Cleveland        304\n",
              "Hungary          293\n",
              "VA Long Beach    200\n",
              "Switzerland      123\n",
              "Name: dataset, dtype: int64"
            ]
          },
          "metadata": {},
          "execution_count": 20
        }
      ]
    },
    {
      "cell_type": "code",
      "source": [
        "print(df.groupby('sex')['dataset'].value_counts())\n",
        "sns.countplot(df, x = 'dataset', hue= 'sex')"
      ],
      "metadata": {
        "colab": {
          "base_uri": "https://localhost:8080/",
          "height": 640
        },
        "id": "dj3UMJa4z4db",
        "outputId": "b39ef857-d521-4c14-a36f-1acef10a9ed7"
      },
      "execution_count": 21,
      "outputs": [
        {
          "output_type": "stream",
          "name": "stdout",
          "text": [
            "sex     dataset      \n",
            "Female  Cleveland         97\n",
            "        Hungary           81\n",
            "        Switzerland       10\n",
            "        VA Long Beach      6\n",
            "Male    Hungary          212\n",
            "        Cleveland        207\n",
            "        VA Long Beach    194\n",
            "        Switzerland      113\n",
            "Name: dataset, dtype: int64\n"
          ]
        },
        {
          "output_type": "execute_result",
          "data": {
            "text/plain": [
              "<Axes: xlabel='dataset', ylabel='count'>"
            ]
          },
          "metadata": {},
          "execution_count": 21
        },
        {
          "output_type": "display_data",
          "data": {
            "text/plain": [
              "<Figure size 640x480 with 1 Axes>"
            ],
            "image/png": "[encoded data removed]"
          },
          "metadata": {}
        }
      ]
    },
    {
      "cell_type": "code",
      "source": [
        "print(f\"Mean of Data set: {df.groupby('dataset')['age'].mean()}\")\n",
        "print('-----------------------------')\n",
        "print(f\"Median of Data set: {df.groupby('dataset')['age'].median()}\")\n",
        "print('-----------------------------')\n",
        "print(f\"Mode of Data set: {df.groupby('dataset')['age'].agg(pd.Series.mode)}\")"
      ],
      "metadata": {
        "colab": {
          "base_uri": "https://localhost:8080/"
        },
        "id": "09wgFop1z4db",
        "outputId": "2356a7cc-fa4d-47e4-e18f-192be238f54c"
      },
      "execution_count": 25,
      "outputs": [
        {
          "output_type": "stream",
          "name": "stdout",
          "text": [
            "Mean of Data set: dataset\n",
            "Cleveland        54.351974\n",
            "Hungary          47.894198\n",
            "Switzerland      55.317073\n",
            "VA Long Beach    59.350000\n",
            "Name: age, dtype: float64\n",
            "-----------------------------\n",
            "Median of Data set: dataset\n",
            "Cleveland        55.5\n",
            "Hungary          49.0\n",
            "Switzerland      56.0\n",
            "VA Long Beach    60.0\n",
            "Name: age, dtype: float64\n",
            "-----------------------------\n",
            "Mode of Data set: dataset\n",
            "Cleveland              58\n",
            "Hungary                54\n",
            "Switzerland            61\n",
            "VA Long Beach    [62, 63]\n",
            "Name: age, dtype: object\n"
          ]
        }
      ]
    },
    {
      "cell_type": "markdown",
      "source": [
        "#### Lets explore chest pain (ca) column"
      ],
      "metadata": {
        "id": "b552101rz4db"
      }
    },
    {
      "cell_type": "code",
      "source": [
        "fig1 = px.histogram(df, x = 'age', color = 'cp')\n",
        "fig1.update_layout(width=800, height=400, margin=dict(l=50, r=50, t=50, b=50))"
      ],
      "metadata": {
        "colab": {
          "base_uri": "https://localhost:8080/",
          "height": 417
        },
        "id": "fe8D6v4mz4db",
        "outputId": "c9472a28-b98d-4c62-ee66-ec819ddf03b6"
      },
      "execution_count": 26,
      "outputs": [
        {
          "output_type": "display_data",
          "data": {
            "text/html": [
              "<html>\n",
              "<head><meta charset=\"utf-8\" /></head>\n",
              "<body>\n",
              "    <div>            <script src=\"https://cdnjs.cloudflare.com/ajax/libs/mathjax/2.7.5/MathJax.js?config=TeX-AMS-MML_SVG\"></script><script type=\"text/javascript\">if (window.MathJax && window.MathJax.Hub && window.MathJax.Hub.Config) {window.MathJax.Hub.Config({SVG: {font: \"STIX-Web\"}});}</script>                <script type=\"text/javascript\">window.PlotlyConfig = {MathJaxConfig: 'local'};</script>\n",
              "        <script charset=\"utf-8\" src=\"https://cdn.plot.ly/plotly-2.24.1.min.js\"></script>                <div id=\"0d704579-8d6a-4028-afd6-eb9a7bf0d0c9\" class=\"plotly-graph-div\" style=\"height:400px; width:800px;\"></div>            <script type=\"text/javascript\">                                    window.PLOTLYENV=window.PLOTLYENV || {};                                    if (document.getElementById(\"0d704579-8d6a-4028-afd6-eb9a7bf0d0c9\")) {                    Plotly.newPlot(                        \"0d704579-8d6a-4028-afd6-eb9a7bf0d0c9\",                        [{\"alignmentgroup\":\"True\",\"bingroup\":\"x\",\"hovertemplate\":\"cp=typical angina\\u003cbr\\u003eage=%{x}\\u003cbr\\u003ecount=%{y}\\u003cextra\\u003e\\u003c\\u002fextra\\u003e\",\"legendgroup\":\"typical angina\",\"marker\":{\"color\":\"#636efa\",\"pattern\":{\"shape\":\"\"}},\"name\":\"typical angina\",\"offsetgroup\":\"typical angina\",\"orientation\":\"v\",\"showlegend\":true,\"x\":[63,64,58,66,69,40,51,34,52,65,59,52,42,59,69,59,38,56,61,60,59,64,45,30,35,43,47,54,57,62,34,43,46,55,32,62,62,67,67,65,49,62,61,68,74,62],\"xaxis\":\"x\",\"yaxis\":\"y\",\"type\":\"histogram\"},{\"alignmentgroup\":\"True\",\"bingroup\":\"x\",\"hovertemplate\":\"cp=asymptomatic\\u003cbr\\u003eage=%{x}\\u003cbr\\u003ecount=%{y}\\u003cextra\\u003e\\u003c\\u002fextra\\u003e\",\"legendgroup\":\"asymptomatic\",\"marker\":{\"color\":\"#EF553B\",\"pattern\":{\"shape\":\"\"}},\"name\":\"asymptomatic\",\"offsetgroup\":\"asymptomatic\",\"orientation\":\"v\",\"showlegend\":true,\"x\":[67,67,62,57,63,53,57,54,60,43,40,60,59,42,43,57,55,65,61,50,65,44,60,54,41,51,58,54,60,59,67,62,65,44,60,58,45,53,53,66,62,52,59,60,48,45,57,59,61,39,61,56,43,35,63,65,48,63,55,56,54,62,51,70,35,57,42,55,64,70,51,58,60,77,58,57,35,53,59,62,64,57,52,56,48,56,60,51,43,62,67,45,50,64,43,45,58,50,62,66,52,46,64,59,53,63,47,54,66,55,54,56,46,49,67,58,47,52,57,58,64,43,67,61,42,52,40,61,66,46,71,58,57,55,61,58,58,44,63,63,59,57,68,57,35,37,37,37,39,39,41,42,44,44,45,45,45,46,46,46,46,47,48,48,48,49,49,50,50,50,51,52,53,53,53,54,55,55,56,57,58,59,61,61,31,33,37,38,38,38,40,41,41,43,46,46,46,47,48,48,48,49,50,51,52,54,54,55,59,60,63,65,32,38,39,40,45,46,46,48,48,48,48,50,52,52,53,54,54,54,54,55,56,57,58,41,43,44,48,49,49,52,52,52,52,53,54,55,56,56,59,59,65,66,41,43,44,47,47,49,49,50,50,52,52,56,65,34,35,36,38,38,38,38,40,41,42,42,43,43,43,46,46,47,47,48,50,50,50,50,51,51,51,51,51,51,51,52,52,52,52,53,53,53,53,54,54,54,55,55,55,56,56,56,56,56,57,57,57,57,57,58,58,58,59,59,59,59,60,60,60,60,60,61,61,61,61,61,61,61,61,62,62,62,62,63,63,63,63,63,64,64,64,65,65,65,65,66,66,68,68,69,69,70,70,63,44,60,55,65,59,62,57,62,63,46,63,60,58,64,69,51,60,56,54,77,63,64,60,60,58,59,40,61,41,57,63,59,51,62,53,68,53,59,51,61,57,58,65,57,54,75,60,64,58,61,67,62,65,63,69,51,62,75,67,58,60,63,43,65,63,64,61,50,59,55,65,72,50,64,55,63,59,56,74,54,57,54,70,48,66,55,75,64,59,55,57,61,41,71,38,55,56,69,64,72,69,56,62,67,57,69,51,48,69,64,53,67,58,61,64,58,60,57,55,56,57,74,51,62,53,62,46,54,55,58],\"xaxis\":\"x\",\"yaxis\":\"y\",\"type\":\"histogram\"},{\"alignmentgroup\":\"True\",\"bingroup\":\"x\",\"hovertemplate\":\"cp=non-anginal\\u003cbr\\u003eage=%{x}\\u003cbr\\u003ecount=%{y}\\u003cextra\\u003e\\u003c\\u002fextra\\u003e\",\"legendgroup\":\"non-anginal\",\"marker\":{\"color\":\"#00cc96\",\"pattern\":{\"shape\":\"\"}},\"name\":\"non-anginal\",\"offsetgroup\":\"non-anginal\",\"orientation\":\"v\",\"showlegend\":true,\"x\":[37,56,52,57,48,58,50,58,64,44,61,59,58,51,65,53,50,54,46,54,60,54,46,65,65,51,39,68,44,47,53,51,62,44,63,71,49,57,62,58,51,54,51,43,51,64,58,47,41,60,67,68,54,48,52,70,43,53,42,69,50,68,57,64,37,41,41,54,39,67,52,49,54,60,51,42,76,44,44,59,42,66,39,47,67,38,33,36,36,36,37,37,38,39,39,39,40,40,40,42,42,42,43,45,46,46,47,48,48,49,49,51,51,51,52,52,53,53,54,54,55,55,56,56,56,58,59,59,60,47,49,49,50,58,54,58,47,51,53,54,38,38,45,47,47,53,53,56,56,56,57,59,60,61,62,72,73,66,66,60,60,63,63,74,52,55,55,52,61,59,42,55,60,56,69,72,51,55,40,35,63,68,48,45,49,62,62,76,48,62,71,53,58,56,58,54,69,37,74,55,61,61,58,68],\"xaxis\":\"x\",\"yaxis\":\"y\",\"type\":\"histogram\"},{\"alignmentgroup\":\"True\",\"bingroup\":\"x\",\"hovertemplate\":\"cp=atypical angina\\u003cbr\\u003eage=%{x}\\u003cbr\\u003ecount=%{y}\\u003cextra\\u003e\\u003c\\u002fextra\\u003e\",\"legendgroup\":\"atypical angina\",\"marker\":{\"color\":\"#ab63fa\",\"pattern\":{\"shape\":\"\"}},\"name\":\"atypical angina\",\"offsetgroup\":\"atypical angina\",\"orientation\":\"v\",\"showlegend\":true,\"x\":[41,56,56,44,48,49,58,71,41,44,48,52,52,54,41,45,44,29,55,62,59,52,45,46,54,45,63,66,54,50,55,46,34,74,49,42,41,41,62,70,57,58,57,35,58,56,56,55,41,57,28,29,29,31,32,32,32,34,34,34,35,35,36,37,37,38,38,39,39,39,39,39,40,40,41,41,41,41,41,41,42,42,42,43,43,43,43,43,43,44,44,45,45,45,46,47,47,48,48,48,48,48,48,49,49,49,49,50,50,50,50,51,51,51,52,52,52,52,52,53,53,53,53,54,54,54,54,54,54,54,54,54,54,54,54,55,55,55,55,55,55,56,57,58,58,59,59,62,35,36,57,44,55,56,58,58,53,53,55,74,60,56,63,56,62,58,63,55,61,61,54,57,63,62],\"xaxis\":\"x\",\"yaxis\":\"y\",\"type\":\"histogram\"}],                        {\"template\":{\"data\":{\"histogram2dcontour\":[{\"type\":\"histogram2dcontour\",\"colorbar\":{\"outlinewidth\":0,\"ticks\":\"\"},\"colorscale\":[[0.0,\"#0d0887\"],[0.1111111111111111,\"#46039f\"],[0.2222222222222222,\"#7201a8\"],[0.3333333333333333,\"#9c179e\"],[0.4444444444444444,\"#bd3786\"],[0.5555555555555556,\"#d8576b\"],[0.6666666666666666,\"#ed7953\"],[0.7777777777777778,\"#fb9f3a\"],[0.8888888888888888,\"#fdca26\"],[1.0,\"#f0f921\"]]}],\"choropleth\":[{\"type\":\"choropleth\",\"colorbar\":{\"outlinewidth\":0,\"ticks\":\"\"}}],\"histogram2d\":[{\"type\":\"histogram2d\",\"colorbar\":{\"outlinewidth\":0,\"ticks\":\"\"},\"colorscale\":[[0.0,\"#0d0887\"],[0.1111111111111111,\"#46039f\"],[0.2222222222222222,\"#7201a8\"],[0.3333333333333333,\"#9c179e\"],[0.4444444444444444,\"#bd3786\"],[0.5555555555555556,\"#d8576b\"],[0.6666666666666666,\"#ed7953\"],[0.7777777777777778,\"#fb9f3a\"],[0.8888888888888888,\"#fdca26\"],[1.0,\"#f0f921\"]]}],\"heatmap\":[{\"type\":\"heatmap\",\"colorbar\":{\"outlinewidth\":0,\"ticks\":\"\"},\"colorscale\":[[0.0,\"#0d0887\"],[0.1111111111111111,\"#46039f\"],[0.2222222222222222,\"#7201a8\"],[0.3333333333333333,\"#9c179e\"],[0.4444444444444444,\"#bd3786\"],[0.5555555555555556,\"#d8576b\"],[0.6666666666666666,\"#ed7953\"],[0.7777777777777778,\"#fb9f3a\"],[0.8888888888888888,\"#fdca26\"],[1.0,\"#f0f921\"]]}],\"heatmapgl\":[{\"type\":\"heatmapgl\",\"colorbar\":{\"outlinewidth\":0,\"ticks\":\"\"},\"colorscale\":[[0.0,\"#0d0887\"],[0.1111111111111111,\"#46039f\"],[0.2222222222222222,\"#7201a8\"],[0.3333333333333333,\"#9c179e\"],[0.4444444444444444,\"#bd3786\"],[0.5555555555555556,\"#d8576b\"],[0.6666666666666666,\"#ed7953\"],[0.7777777777777778,\"#fb9f3a\"],[0.8888888888888888,\"#fdca26\"],[1.0,\"#f0f921\"]]}],\"contourcarpet\":[{\"type\":\"contourcarpet\",\"colorbar\":{\"outlinewidth\":0,\"ticks\":\"\"}}],\"contour\":[{\"type\":\"contour\",\"colorbar\":{\"outlinewidth\":0,\"ticks\":\"\"},\"colorscale\":[[0.0,\"#0d0887\"],[0.1111111111111111,\"#46039f\"],[0.2222222222222222,\"#7201a8\"],[0.3333333333333333,\"#9c179e\"],[0.4444444444444444,\"#bd3786\"],[0.5555555555555556,\"#d8576b\"],[0.6666666666666666,\"#ed7953\"],[0.7777777777777778,\"#fb9f3a\"],[0.8888888888888888,\"#fdca26\"],[1.0,\"#f0f921\"]]}],\"surface\":[{\"type\":\"surface\",\"colorbar\":{\"outlinewidth\":0,\"ticks\":\"\"},\"colorscale\":[[0.0,\"#0d0887\"],[0.1111111111111111,\"#46039f\"],[0.2222222222222222,\"#7201a8\"],[0.3333333333333333,\"#9c179e\"],[0.4444444444444444,\"#bd3786\"],[0.5555555555555556,\"#d8576b\"],[0.6666666666666666,\"#ed7953\"],[0.7777777777777778,\"#fb9f3a\"],[0.8888888888888888,\"#fdca26\"],[1.0,\"#f0f921\"]]}],\"mesh3d\":[{\"type\":\"mesh3d\",\"colorbar\":{\"outlinewidth\":0,\"ticks\":\"\"}}],\"scatter\":[{\"fillpattern\":{\"fillmode\":\"overlay\",\"size\":10,\"solidity\":0.2},\"type\":\"scatter\"}],\"parcoords\":[{\"type\":\"parcoords\",\"line\":{\"colorbar\":{\"outlinewidth\":0,\"ticks\":\"\"}}}],\"scatterpolargl\":[{\"type\":\"scatterpolargl\",\"marker\":{\"colorbar\":{\"outlinewidth\":0,\"ticks\":\"\"}}}],\"bar\":[{\"error_x\":{\"color\":\"#2a3f5f\"},\"error_y\":{\"color\":\"#2a3f5f\"},\"marker\":{\"line\":{\"color\":\"#E5ECF6\",\"width\":0.5},\"pattern\":{\"fillmode\":\"overlay\",\"size\":10,\"solidity\":0.2}},\"type\":\"bar\"}],\"scattergeo\":[{\"type\":\"scattergeo\",\"marker\":{\"colorbar\":{\"outlinewidth\":0,\"ticks\":\"\"}}}],\"scatterpolar\":[{\"type\":\"scatterpolar\",\"marker\":{\"colorbar\":{\"outlinewidth\":0,\"ticks\":\"\"}}}],\"histogram\":[{\"marker\":{\"pattern\":{\"fillmode\":\"overlay\",\"size\":10,\"solidity\":0.2}},\"type\":\"histogram\"}],\"scattergl\":[{\"type\":\"scattergl\",\"marker\":{\"colorbar\":{\"outlinewidth\":0,\"ticks\":\"\"}}}],\"scatter3d\":[{\"type\":\"scatter3d\",\"line\":{\"colorbar\":{\"outlinewidth\":0,\"ticks\":\"\"}},\"marker\":{\"colorbar\":{\"outlinewidth\":0,\"ticks\":\"\"}}}],\"scattermapbox\":[{\"type\":\"scattermapbox\",\"marker\":{\"colorbar\":{\"outlinewidth\":0,\"ticks\":\"\"}}}],\"scatterternary\":[{\"type\":\"scatterternary\",\"marker\":{\"colorbar\":{\"outlinewidth\":0,\"ticks\":\"\"}}}],\"scattercarpet\":[{\"type\":\"scattercarpet\",\"marker\":{\"colorbar\":{\"outlinewidth\":0,\"ticks\":\"\"}}}],\"carpet\":[{\"aaxis\":{\"endlinecolor\":\"#2a3f5f\",\"gridcolor\":\"white\",\"linecolor\":\"white\",\"minorgridcolor\":\"white\",\"startlinecolor\":\"#2a3f5f\"},\"baxis\":{\"endlinecolor\":\"#2a3f5f\",\"gridcolor\":\"white\",\"linecolor\":\"white\",\"minorgridcolor\":\"white\",\"startlinecolor\":\"#2a3f5f\"},\"type\":\"carpet\"}],\"table\":[{\"cells\":{\"fill\":{\"color\":\"#EBF0F8\"},\"line\":{\"color\":\"white\"}},\"header\":{\"fill\":{\"color\":\"#C8D4E3\"},\"line\":{\"color\":\"white\"}},\"type\":\"table\"}],\"barpolar\":[{\"marker\":{\"line\":{\"color\":\"#E5ECF6\",\"width\":0.5},\"pattern\":{\"fillmode\":\"overlay\",\"size\":10,\"solidity\":0.2}},\"type\":\"barpolar\"}],\"pie\":[{\"automargin\":true,\"type\":\"pie\"}]},\"layout\":{\"autotypenumbers\":\"strict\",\"colorway\":[\"#636efa\",\"#EF553B\",\"#00cc96\",\"#ab63fa\",\"#FFA15A\",\"#19d3f3\",\"#FF6692\",\"#B6E880\",\"#FF97FF\",\"#FECB52\"],\"font\":{\"color\":\"#2a3f5f\"},\"hovermode\":\"closest\",\"hoverlabel\":{\"align\":\"left\"},\"paper_bgcolor\":\"white\",\"plot_bgcolor\":\"#E5ECF6\",\"polar\":{\"bgcolor\":\"#E5ECF6\",\"angularaxis\":{\"gridcolor\":\"white\",\"linecolor\":\"white\",\"ticks\":\"\"},\"radialaxis\":{\"gridcolor\":\"white\",\"linecolor\":\"white\",\"ticks\":\"\"}},\"ternary\":{\"bgcolor\":\"#E5ECF6\",\"aaxis\":{\"gridcolor\":\"white\",\"linecolor\":\"white\",\"ticks\":\"\"},\"baxis\":{\"gridcolor\":\"white\",\"linecolor\":\"white\",\"ticks\":\"\"},\"caxis\":{\"gridcolor\":\"white\",\"linecolor\":\"white\",\"ticks\":\"\"}},\"coloraxis\":{\"colorbar\":{\"outlinewidth\":0,\"ticks\":\"\"}},\"colorscale\":{\"sequential\":[[0.0,\"#0d0887\"],[0.1111111111111111,\"#46039f\"],[0.2222222222222222,\"#7201a8\"],[0.3333333333333333,\"#9c179e\"],[0.4444444444444444,\"#bd3786\"],[0.5555555555555556,\"#d8576b\"],[0.6666666666666666,\"#ed7953\"],[0.7777777777777778,\"#fb9f3a\"],[0.8888888888888888,\"#fdca26\"],[1.0,\"#f0f921\"]],\"sequentialminus\":[[0.0,\"#0d0887\"],[0.1111111111111111,\"#46039f\"],[0.2222222222222222,\"#7201a8\"],[0.3333333333333333,\"#9c179e\"],[0.4444444444444444,\"#bd3786\"],[0.5555555555555556,\"#d8576b\"],[0.6666666666666666,\"#ed7953\"],[0.7777777777777778,\"#fb9f3a\"],[0.8888888888888888,\"#fdca26\"],[1.0,\"#f0f921\"]],\"diverging\":[[0,\"#8e0152\"],[0.1,\"#c51b7d\"],[0.2,\"#de77ae\"],[0.3,\"#f1b6da\"],[0.4,\"#fde0ef\"],[0.5,\"#f7f7f7\"],[0.6,\"#e6f5d0\"],[0.7,\"#b8e186\"],[0.8,\"#7fbc41\"],[0.9,\"#4d9221\"],[1,\"#276419\"]]},\"xaxis\":{\"gridcolor\":\"white\",\"linecolor\":\"white\",\"ticks\":\"\",\"title\":{\"standoff\":15},\"zerolinecolor\":\"white\",\"automargin\":true,\"zerolinewidth\":2},\"yaxis\":{\"gridcolor\":\"white\",\"linecolor\":\"white\",\"ticks\":\"\",\"title\":{\"standoff\":15},\"zerolinecolor\":\"white\",\"automargin\":true,\"zerolinewidth\":2},\"scene\":{\"xaxis\":{\"backgroundcolor\":\"#E5ECF6\",\"gridcolor\":\"white\",\"linecolor\":\"white\",\"showbackground\":true,\"ticks\":\"\",\"zerolinecolor\":\"white\",\"gridwidth\":2},\"yaxis\":{\"backgroundcolor\":\"#E5ECF6\",\"gridcolor\":\"white\",\"linecolor\":\"white\",\"showbackground\":true,\"ticks\":\"\",\"zerolinecolor\":\"white\",\"gridwidth\":2},\"zaxis\":{\"backgroundcolor\":\"#E5ECF6\",\"gridcolor\":\"white\",\"linecolor\":\"white\",\"showbackground\":true,\"ticks\":\"\",\"zerolinecolor\":\"white\",\"gridwidth\":2}},\"shapedefaults\":{\"line\":{\"color\":\"#2a3f5f\"}},\"annotationdefaults\":{\"arrowcolor\":\"#2a3f5f\",\"arrowhead\":0,\"arrowwidth\":1},\"geo\":{\"bgcolor\":\"white\",\"landcolor\":\"#E5ECF6\",\"subunitcolor\":\"white\",\"showland\":true,\"showlakes\":true,\"lakecolor\":\"white\"},\"title\":{\"x\":0.05},\"mapbox\":{\"style\":\"light\"}}},\"xaxis\":{\"anchor\":\"y\",\"domain\":[0.0,1.0],\"title\":{\"text\":\"age\"}},\"yaxis\":{\"anchor\":\"x\",\"domain\":[0.0,1.0],\"title\":{\"text\":\"count\"}},\"legend\":{\"title\":{\"text\":\"cp\"},\"tracegroupgap\":0},\"margin\":{\"t\":50,\"l\":50,\"r\":50,\"b\":50},\"barmode\":\"relative\",\"width\":800,\"height\":400},                        {\"responsive\": true}                    ).then(function(){\n",
              "                            \n",
              "var gd = document.getElementById('0d704579-8d6a-4028-afd6-eb9a7bf0d0c9');\n",
              "var x = new MutationObserver(function (mutations, observer) {{\n",
              "        var display = window.getComputedStyle(gd).display;\n",
              "        if (!display || display === 'none') {{\n",
              "            console.log([gd, 'removed!']);\n",
              "            Plotly.purge(gd);\n",
              "            observer.disconnect();\n",
              "        }}\n",
              "}});\n",
              "\n",
              "// Listen for the removal of the full notebook cells\n",
              "var notebookContainer = gd.closest('#notebook-container');\n",
              "if (notebookContainer) {{\n",
              "    x.observe(notebookContainer, {childList: true});\n",
              "}}\n",
              "\n",
              "// Listen for the clearing of the current output cell\n",
              "var outputEl = gd.closest('.output');\n",
              "if (outputEl) {{\n",
              "    x.observe(outputEl, {childList: true});\n",
              "}}\n",
              "\n",
              "                        })                };                            </script>        </div>\n",
              "</body>\n",
              "</html>"
            ]
          },
          "metadata": {}
        }
      ]
    },
    {
      "cell_type": "markdown",
      "source": [
        "#### Lets Explore thalch column"
      ],
      "metadata": {
        "id": "DaQniQq4z4db"
      }
    },
    {
      "cell_type": "code",
      "source": [
        "df['thalch'].describe()"
      ],
      "metadata": {
        "colab": {
          "base_uri": "https://localhost:8080/"
        },
        "id": "MJ9RVgr1z4db",
        "outputId": "5ab0687d-f974-4954-d05f-dc8330958940"
      },
      "execution_count": 27,
      "outputs": [
        {
          "output_type": "execute_result",
          "data": {
            "text/plain": [
              "count    865.000000\n",
              "mean     137.545665\n",
              "std       25.926276\n",
              "min       60.000000\n",
              "25%      120.000000\n",
              "50%      140.000000\n",
              "75%      157.000000\n",
              "max      202.000000\n",
              "Name: thalch, dtype: float64"
            ]
          },
          "metadata": {},
          "execution_count": 27
        }
      ]
    },
    {
      "cell_type": "code",
      "source": [
        "df['thalch'].corr(df['num'])"
      ],
      "metadata": {
        "colab": {
          "base_uri": "https://localhost:8080/"
        },
        "id": "jN0s6OZnz4dc",
        "outputId": "154cc92d-f89a-4e6f-bc68-e643df9a7d6f"
      },
      "execution_count": 28,
      "outputs": [
        {
          "output_type": "execute_result",
          "data": {
            "text/plain": [
              "-0.36626539944425285"
            ]
          },
          "metadata": {},
          "execution_count": 28
        }
      ]
    },
    {
      "cell_type": "markdown",
      "source": [
        "## *Dealing with Outliers*"
      ],
      "metadata": {
        "id": "zXxcEXsKz4dc"
      }
    },
    {
      "cell_type": "code",
      "source": [
        "df = df.drop('id', axis = 1)"
      ],
      "metadata": {
        "id": "AORKROS7z4dc"
      },
      "execution_count": 29,
      "outputs": []
    },
    {
      "cell_type": "code",
      "source": [
        "\n",
        "numerical_columns = [col for col in df.columns if df[col].dtype != 'object']\n",
        "\n",
        "plt.figure(figsize=(20, 18))\n",
        "\n",
        "colors = ['red', 'green', 'blue','orange', 'purple', 'grey', 'yellow']\n",
        "\n",
        "for i, col in enumerate(numerical_columns):\n",
        "    plt.subplot(4, 2, i+1)\n",
        "    sns.boxplot(x = df[col], color = colors[i])\n",
        "plt.show()"
      ],
      "metadata": {
        "colab": {
          "base_uri": "https://localhost:8080/",
          "height": 1000
        },
        "id": "U8f0HJ6hz4dc",
        "outputId": "33da869d-4440-432b-c6e4-73f849609605"
      },
      "execution_count": 30,
      "outputs": [
        {
          "output_type": "display_data",
          "data": {
            "text/plain": [
              "<Figure size 2000x1800 with 7 Axes>"
            ],
            "image/png": "[encoded data removed]"
          },
          "metadata": {}
        }
      ]
    },
    {
      "cell_type": "markdown",
      "source": [
        "## *Data Distributions*"
      ],
      "metadata": {
        "id": "ea0psPqCz4dc"
      }
    },
    {
      "cell_type": "code",
      "source": [
        "plt.figure(figsize=(15, 20))\n",
        "\n",
        "colors = ['red', 'green', 'blue','orange', 'purple', 'grey', 'yellow']\n",
        "\n",
        "for i, col in enumerate(numerical_columns):\n",
        "    plt.subplot(4, 2, i+1)\n",
        "    sns.histplot(x = df[col], color = colors[i])\n",
        "plt.show()"
      ],
      "metadata": {
        "colab": {
          "base_uri": "https://localhost:8080/",
          "height": 1000
        },
        "id": "R5AvY97Yz4dc",
        "outputId": "c0ce003f-2ec7-4327-f5e1-ee6a86a3ebfc"
      },
      "execution_count": 31,
      "outputs": [
        {
          "output_type": "display_data",
          "data": {
            "text/plain": [
              "<Figure size 1500x2000 with 7 Axes>"
            ],
            "image/png": "[encoded data removed]"
          },
          "metadata": {}
        }
      ]
    },
    {
      "cell_type": "code",
      "source": [
        "fig = px.box(df, y = numerical_columns, color_discrete_sequence=colors)\n",
        "fig.update_layout(title = \"Box Plots for Numeric Columns\", height = 1000, width = 1000)\n",
        "fig.show()"
      ],
      "metadata": {
        "colab": {
          "base_uri": "https://localhost:8080/",
          "height": 1000
        },
        "id": "RYPvbnGnz4dc",
        "outputId": "6bfe3134-9c37-4829-c187-49adc69b0873"
      },
      "execution_count": 32,
      "outputs": [
        {
          "output_type": "display_data",
          "data": {
            "text/html": [
              "<html>\n",
              "<head><meta charset=\"utf-8\" /></head>\n",
              "<body>\n",
              "    <div>            <script src=\"https://cdnjs.cloudflare.com/ajax/libs/mathjax/2.7.5/MathJax.js?config=TeX-AMS-MML_SVG\"></script><script type=\"text/javascript\">if (window.MathJax && window.MathJax.Hub && window.MathJax.Hub.Config) {window.MathJax.Hub.Config({SVG: {font: \"STIX-Web\"}});}</script>                <script type=\"text/javascript\">window.PlotlyConfig = {MathJaxConfig: 'local'};</script>\n",
              "        <script charset=\"utf-8\" src=\"https://cdn.plot.ly/plotly-2.24.1.min.js\"></script>                <div id=\"9c6448d3-fd57-40bb-bd6a-b1156c0cef0f\" class=\"plotly-graph-div\" style=\"height:1000px; width:1000px;\"></div>            <script type=\"text/javascript\">                                    window.PLOTLYENV=window.PLOTLYENV || {};                                    if (document.getElementById(\"9c6448d3-fd57-40bb-bd6a-b1156c0cef0f\")) {                    Plotly.newPlot(                        \"9c6448d3-fd57-40bb-bd6a-b1156c0cef0f\",                        [{\"alignmentgroup\":\"True\",\"hovertemplate\":\"variable=%{x}\\u003cbr\\u003evalue=%{y}\\u003cextra\\u003e\\u003c\\u002fextra\\u003e\",\"legendgroup\":\"\",\"marker\":{\"color\":\"red\"},\"name\":\"\",\"notched\":false,\"offsetgroup\":\"\",\"orientation\":\"v\",\"showlegend\":false,\"x\":[\"age\",\"age\",\"age\",\"age\",\"age\",\"age\",\"age\",\"age\",\"age\",\"age\",\"age\",\"age\",\"age\",\"age\",\"age\",\"age\",\"age\",\"age\",\"age\",\"age\",\"age\",\"age\",\"age\",\"age\",\"age\",\"age\",\"age\",\"age\",\"age\",\"age\",\"age\",\"age\",\"age\",\"age\",\"age\",\"age\",\"age\",\"age\",\"age\",\"age\",\"age\",\"age\",\"age\",\"age\",\"age\",\"age\",\"age\",\"age\",\"age\",\"age\",\"age\",\"age\",\"age\",\"age\",\"age\",\"age\",\"age\",\"age\",\"age\",\"age\",\"age\",\"age\",\"age\",\"age\",\"age\",\"age\",\"age\",\"age\",\"age\",\"age\",\"age\",\"age\",\"age\",\"age\",\"age\",\"age\",\"age\",\"age\",\"age\",\"age\",\"age\",\"age\",\"age\",\"age\",\"age\",\"age\",\"age\",\"age\",\"age\",\"age\",\"age\",\"age\",\"age\",\"age\",\"age\",\"age\",\"age\",\"age\",\"age\",\"age\",\"age\",\"age\",\"age\",\"age\",\"age\",\"age\",\"age\",\"age\",\"age\",\"age\",\"age\",\"age\",\"age\",\"age\",\"age\",\"age\",\"age\",\"age\",\"age\",\"age\",\"age\",\"age\",\"age\",\"age\",\"age\",\"age\",\"age\",\"age\",\"age\",\"age\",\"age\",\"age\",\"age\",\"age\",\"age\",\"age\",\"age\",\"age\",\"age\",\"age\",\"age\",\"age\",\"age\",\"age\",\"age\",\"age\",\"age\",\"age\",\"age\",\"age\",\"age\",\"age\",\"age\",\"age\",\"age\",\"age\",\"age\",\"age\",\"age\",\"age\",\"age\",\"age\",\"age\",\"age\",\"age\",\"age\",\"age\",\"age\",\"age\",\"age\",\"age\",\"age\",\"age\",\"age\",\"age\",\"age\",\"age\",\"age\",\"age\",\"age\",\"age\",\"age\",\"age\",\"age\",\"age\",\"age\",\"age\",\"age\",\"age\",\"age\",\"age\",\"age\",\"age\",\"age\",\"age\",\"age\",\"age\",\"age\",\"age\",\"age\",\"age\",\"age\",\"age\",\"age\",\"age\",\"age\",\"age\",\"age\",\"age\",\"age\",\"age\",\"age\",\"age\",\"age\",\"age\",\"age\",\"age\",\"age\",\"age\",\"age\",\"age\",\"age\",\"age\",\"age\",\"age\",\"age\",\"age\",\"age\",\"age\",\"age\",\"age\",\"age\",\"age\",\"age\",\"age\",\"age\",\"age\",\"age\",\"age\",\"age\",\"age\",\"age\",\"age\",\"age\",\"age\",\"age\",\"age\",\"age\",\"age\",\"age\",\"age\",\"age\",\"age\",\"age\",\"age\",\"age\",\"age\",\"age\",\"age\",\"age\",\"age\",\"age\",\"age\",\"age\",\"age\",\"age\",\"age\",\"age\",\"age\",\"age\",\"age\",\"age\",\"age\",\"age\",\"age\",\"age\",\"age\",\"age\",\"age\",\"age\",\"age\",\"age\",\"age\",\"age\",\"age\",\"age\",\"age\",\"age\",\"age\",\"age\",\"age\",\"age\",\"age\",\"age\",\"age\",\"age\",\"age\",\"age\",\"age\",\"age\",\"age\",\"age\",\"age\",\"age\",\"age\",\"age\",\"age\",\"age\",\"age\",\"age\",\"age\",\"age\",\"age\",\"age\",\"age\",\"age\",\"age\",\"age\",\"age\",\"age\",\"age\",\"age\",\"age\",\"age\",\"age\",\"age\",\"age\",\"age\",\"age\",\"age\",\"age\",\"age\",\"age\",\"age\",\"age\",\"age\",\"age\",\"age\",\"age\",\"age\",\"age\",\"age\",\"age\",\"age\",\"age\",\"age\",\"age\",\"age\",\"age\",\"age\",\"age\",\"age\",\"age\",\"age\",\"age\",\"age\",\"age\",\"age\",\"age\",\"age\",\"age\",\"age\",\"age\",\"age\",\"age\",\"age\",\"age\",\"age\",\"age\",\"age\",\"age\",\"age\",\"age\",\"age\",\"age\",\"age\",\"age\",\"age\",\"age\",\"age\",\"age\",\"age\",\"age\",\"age\",\"age\",\"age\",\"age\",\"age\",\"age\",\"age\",\"age\",\"age\",\"age\",\"age\",\"age\",\"age\",\"age\",\"age\",\"age\",\"age\",\"age\",\"age\",\"age\",\"age\",\"age\",\"age\",\"age\",\"age\",\"age\",\"age\",\"age\",\"age\",\"age\",\"age\",\"age\",\"age\",\"age\",\"age\",\"age\",\"age\",\"age\",\"age\",\"age\",\"age\",\"age\",\"age\",\"age\",\"age\",\"age\",\"age\",\"age\",\"age\",\"age\",\"age\",\"age\",\"age\",\"age\",\"age\",\"age\",\"age\",\"age\",\"age\",\"age\",\"age\",\"age\",\"age\",\"age\",\"age\",\"age\",\"age\",\"age\",\"age\",\"age\",\"age\",\"age\",\"age\",\"age\",\"age\",\"age\",\"age\",\"age\",\"age\",\"age\",\"age\",\"age\",\"age\",\"age\",\"age\",\"age\",\"age\",\"age\",\"age\",\"age\",\"age\",\"age\",\"age\",\"age\",\"age\",\"age\",\"age\",\"age\",\"age\",\"age\",\"age\",\"age\",\"age\",\"age\",\"age\",\"age\",\"age\",\"age\",\"age\",\"age\",\"age\",\"age\",\"age\",\"age\",\"age\",\"age\",\"age\",\"age\",\"age\",\"age\",\"age\",\"age\",\"age\",\"age\",\"age\",\"age\",\"age\",\"age\",\"age\",\"age\",\"age\",\"age\",\"age\",\"age\",\"age\",\"age\",\"age\",\"age\",\"age\",\"age\",\"age\",\"age\",\"age\",\"age\",\"age\",\"age\",\"age\",\"age\",\"age\",\"age\",\"age\",\"age\",\"age\",\"age\",\"age\",\"age\",\"age\",\"age\",\"age\",\"age\",\"age\",\"age\",\"age\",\"age\",\"age\",\"age\",\"age\",\"age\",\"age\",\"age\",\"age\",\"age\",\"age\",\"age\",\"age\",\"age\",\"age\",\"age\",\"age\",\"age\",\"age\",\"age\",\"age\",\"age\",\"age\",\"age\",\"age\",\"age\",\"age\",\"age\",\"age\",\"age\",\"age\",\"age\",\"age\",\"age\",\"age\",\"age\",\"age\",\"age\",\"age\",\"age\",\"age\",\"age\",\"age\",\"age\",\"age\",\"age\",\"age\",\"age\",\"age\",\"age\",\"age\",\"age\",\"age\",\"age\",\"age\",\"age\",\"age\",\"age\",\"age\",\"age\",\"age\",\"age\",\"age\",\"age\",\"age\",\"age\",\"age\",\"age\",\"age\",\"age\",\"age\",\"age\",\"age\",\"age\",\"age\",\"age\",\"age\",\"age\",\"age\",\"age\",\"age\",\"age\",\"age\",\"age\",\"age\",\"age\",\"age\",\"age\",\"age\",\"age\",\"age\",\"age\",\"age\",\"age\",\"age\",\"age\",\"age\",\"age\",\"age\",\"age\",\"age\",\"age\",\"age\",\"age\",\"age\",\"age\",\"age\",\"age\",\"age\",\"age\",\"age\",\"age\",\"age\",\"age\",\"age\",\"age\",\"age\",\"age\",\"age\",\"age\",\"age\",\"age\",\"age\",\"age\",\"age\",\"age\",\"age\",\"age\",\"age\",\"age\",\"age\",\"age\",\"age\",\"age\",\"age\",\"age\",\"age\",\"age\",\"age\",\"age\",\"age\",\"age\",\"age\",\"age\",\"age\",\"age\",\"age\",\"age\",\"age\",\"age\",\"age\",\"age\",\"age\",\"age\",\"age\",\"age\",\"age\",\"age\",\"age\",\"age\",\"age\",\"age\",\"age\",\"age\",\"age\",\"age\",\"age\",\"age\",\"age\",\"age\",\"age\",\"age\",\"age\",\"age\",\"age\",\"age\",\"age\",\"age\",\"age\",\"age\",\"age\",\"age\",\"age\",\"age\",\"age\",\"age\",\"age\",\"age\",\"age\",\"age\",\"age\",\"age\",\"age\",\"age\",\"age\",\"age\",\"age\",\"age\",\"age\",\"age\",\"age\",\"age\",\"age\",\"age\",\"age\",\"age\",\"age\",\"age\",\"age\",\"age\",\"age\",\"age\",\"age\",\"age\",\"age\",\"age\",\"age\",\"age\",\"age\",\"age\",\"age\",\"age\",\"age\",\"age\",\"age\",\"age\",\"age\",\"age\",\"age\",\"age\",\"age\",\"age\",\"age\",\"age\",\"age\",\"age\",\"age\",\"age\",\"age\",\"age\",\"age\",\"age\",\"age\",\"age\",\"age\",\"age\",\"age\",\"age\",\"age\",\"age\",\"age\",\"age\",\"age\",\"age\",\"age\",\"age\",\"age\",\"age\",\"age\",\"age\",\"age\",\"age\",\"age\",\"age\",\"age\",\"age\",\"age\",\"age\",\"age\",\"age\",\"age\",\"age\",\"age\",\"age\",\"age\",\"age\",\"age\",\"age\",\"age\",\"age\",\"age\",\"age\",\"age\",\"age\",\"age\",\"age\",\"age\",\"age\",\"age\",\"age\",\"age\",\"age\",\"age\",\"age\",\"age\",\"age\",\"age\",\"age\",\"age\",\"age\",\"age\",\"age\",\"age\",\"age\",\"age\",\"age\",\"age\",\"age\",\"age\",\"age\",\"age\",\"age\",\"age\",\"age\",\"age\",\"age\",\"age\",\"age\",\"age\",\"age\",\"age\",\"age\",\"age\",\"age\",\"age\",\"age\",\"age\",\"age\",\"age\",\"age\",\"age\",\"age\",\"age\",\"age\",\"age\",\"age\",\"age\",\"age\",\"age\",\"age\",\"age\",\"age\",\"age\",\"age\",\"age\",\"age\",\"age\",\"age\",\"age\",\"age\",\"age\",\"age\",\"age\",\"age\",\"age\",\"age\",\"age\",\"age\",\"age\",\"age\",\"age\",\"age\",\"age\",\"age\",\"age\",\"age\",\"age\",\"age\",\"age\",\"age\",\"age\",\"age\",\"age\",\"age\",\"age\",\"trestbps\",\"trestbps\",\"trestbps\",\"trestbps\",\"trestbps\",\"trestbps\",\"trestbps\",\"trestbps\",\"trestbps\",\"trestbps\",\"trestbps\",\"trestbps\",\"trestbps\",\"trestbps\",\"trestbps\",\"trestbps\",\"trestbps\",\"trestbps\",\"trestbps\",\"trestbps\",\"trestbps\",\"trestbps\",\"trestbps\",\"trestbps\",\"trestbps\",\"trestbps\",\"trestbps\",\"trestbps\",\"trestbps\",\"trestbps\",\"trestbps\",\"trestbps\",\"trestbps\",\"trestbps\",\"trestbps\",\"trestbps\",\"trestbps\",\"trestbps\",\"trestbps\",\"trestbps\",\"trestbps\",\"trestbps\",\"trestbps\",\"trestbps\",\"trestbps\",\"trestbps\",\"trestbps\",\"trestbps\",\"trestbps\",\"trestbps\",\"trestbps\",\"trestbps\",\"trestbps\",\"trestbps\",\"trestbps\",\"trestbps\",\"trestbps\",\"trestbps\",\"trestbps\",\"trestbps\",\"trestbps\",\"trestbps\",\"trestbps\",\"trestbps\",\"trestbps\",\"trestbps\",\"trestbps\",\"trestbps\",\"trestbps\",\"trestbps\",\"trestbps\",\"trestbps\",\"trestbps\",\"trestbps\",\"trestbps\",\"trestbps\",\"trestbps\",\"trestbps\",\"trestbps\",\"trestbps\",\"trestbps\",\"trestbps\",\"trestbps\",\"trestbps\",\"trestbps\",\"trestbps\",\"trestbps\",\"trestbps\",\"trestbps\",\"trestbps\",\"trestbps\",\"trestbps\",\"trestbps\",\"trestbps\",\"trestbps\",\"trestbps\",\"trestbps\",\"trestbps\",\"trestbps\",\"trestbps\",\"trestbps\",\"trestbps\",\"trestbps\",\"trestbps\",\"trestbps\",\"trestbps\",\"trestbps\",\"trestbps\",\"trestbps\",\"trestbps\",\"trestbps\",\"trestbps\",\"trestbps\",\"trestbps\",\"trestbps\",\"trestbps\",\"trestbps\",\"trestbps\",\"trestbps\",\"trestbps\",\"trestbps\",\"trestbps\",\"trestbps\",\"trestbps\",\"trestbps\",\"trestbps\",\"trestbps\",\"trestbps\",\"trestbps\",\"trestbps\",\"trestbps\",\"trestbps\",\"trestbps\",\"trestbps\",\"trestbps\",\"trestbps\",\"trestbps\",\"trestbps\",\"trestbps\",\"trestbps\",\"trestbps\",\"trestbps\",\"trestbps\",\"trestbps\",\"trestbps\",\"trestbps\",\"trestbps\",\"trestbps\",\"trestbps\",\"trestbps\",\"trestbps\",\"trestbps\",\"trestbps\",\"trestbps\",\"trestbps\",\"trestbps\",\"trestbps\",\"trestbps\",\"trestbps\",\"trestbps\",\"trestbps\",\"trestbps\",\"trestbps\",\"trestbps\",\"trestbps\",\"trestbps\",\"trestbps\",\"trestbps\",\"trestbps\",\"trestbps\",\"trestbps\",\"trestbps\",\"trestbps\",\"trestbps\",\"trestbps\",\"trestbps\",\"trestbps\",\"trestbps\",\"trestbps\",\"trestbps\",\"trestbps\",\"trestbps\",\"trestbps\",\"trestbps\",\"trestbps\",\"trestbps\",\"trestbps\",\"trestbps\",\"trestbps\",\"trestbps\",\"trestbps\",\"trestbps\",\"trestbps\",\"trestbps\",\"trestbps\",\"trestbps\",\"trestbps\",\"trestbps\",\"trestbps\",\"trestbps\",\"trestbps\",\"trestbps\",\"trestbps\",\"trestbps\",\"trestbps\",\"trestbps\",\"trestbps\",\"trestbps\",\"trestbps\",\"trestbps\",\"trestbps\",\"trestbps\",\"trestbps\",\"trestbps\",\"trestbps\",\"trestbps\",\"trestbps\",\"trestbps\",\"trestbps\",\"trestbps\",\"trestbps\",\"trestbps\",\"trestbps\",\"trestbps\",\"trestbps\",\"trestbps\",\"trestbps\",\"trestbps\",\"trestbps\",\"trestbps\",\"trestbps\",\"trestbps\",\"trestbps\",\"trestbps\",\"trestbps\",\"trestbps\",\"trestbps\",\"trestbps\",\"trestbps\",\"trestbps\",\"trestbps\",\"trestbps\",\"trestbps\",\"trestbps\",\"trestbps\",\"trestbps\",\"trestbps\",\"trestbps\",\"trestbps\",\"trestbps\",\"trestbps\",\"trestbps\",\"trestbps\",\"trestbps\",\"trestbps\",\"trestbps\",\"trestbps\",\"trestbps\",\"trestbps\",\"trestbps\",\"trestbps\",\"trestbps\",\"trestbps\",\"trestbps\",\"trestbps\",\"trestbps\",\"trestbps\",\"trestbps\",\"trestbps\",\"trestbps\",\"trestbps\",\"trestbps\",\"trestbps\",\"trestbps\",\"trestbps\",\"trestbps\",\"trestbps\",\"trestbps\",\"trestbps\",\"trestbps\",\"trestbps\",\"trestbps\",\"trestbps\",\"trestbps\",\"trestbps\",\"trestbps\",\"trestbps\",\"trestbps\",\"trestbps\",\"trestbps\",\"trestbps\",\"trestbps\",\"trestbps\",\"trestbps\",\"trestbps\",\"trestbps\",\"trestbps\",\"trestbps\",\"trestbps\",\"trestbps\",\"trestbps\",\"trestbps\",\"trestbps\",\"trestbps\",\"trestbps\",\"trestbps\",\"trestbps\",\"trestbps\",\"trestbps\",\"trestbps\",\"trestbps\",\"trestbps\",\"trestbps\",\"trestbps\",\"trestbps\",\"trestbps\",\"trestbps\",\"trestbps\",\"trestbps\",\"trestbps\",\"trestbps\",\"trestbps\",\"trestbps\",\"trestbps\",\"trestbps\",\"trestbps\",\"trestbps\",\"trestbps\",\"trestbps\",\"trestbps\",\"trestbps\",\"trestbps\",\"trestbps\",\"trestbps\",\"trestbps\",\"trestbps\",\"trestbps\",\"trestbps\",\"trestbps\",\"trestbps\",\"trestbps\",\"trestbps\",\"trestbps\",\"trestbps\",\"trestbps\",\"trestbps\",\"trestbps\",\"trestbps\",\"trestbps\",\"trestbps\",\"trestbps\",\"trestbps\",\"trestbps\",\"trestbps\",\"trestbps\",\"trestbps\",\"trestbps\",\"trestbps\",\"trestbps\",\"trestbps\",\"trestbps\",\"trestbps\",\"trestbps\",\"trestbps\",\"trestbps\",\"trestbps\",\"trestbps\",\"trestbps\",\"trestbps\",\"trestbps\",\"trestbps\",\"trestbps\",\"trestbps\",\"trestbps\",\"trestbps\",\"trestbps\",\"trestbps\",\"trestbps\",\"trestbps\",\"trestbps\",\"trestbps\",\"trestbps\",\"trestbps\",\"trestbps\",\"trestbps\",\"trestbps\",\"trestbps\",\"trestbps\",\"trestbps\",\"trestbps\",\"trestbps\",\"trestbps\",\"trestbps\",\"trestbps\",\"trestbps\",\"trestbps\",\"trestbps\",\"trestbps\",\"trestbps\",\"trestbps\",\"trestbps\",\"trestbps\",\"trestbps\",\"trestbps\",\"trestbps\",\"trestbps\",\"trestbps\",\"trestbps\",\"trestbps\",\"trestbps\",\"trestbps\",\"trestbps\",\"trestbps\",\"trestbps\",\"trestbps\",\"trestbps\",\"trestbps\",\"trestbps\",\"trestbps\",\"trestbps\",\"trestbps\",\"trestbps\",\"trestbps\",\"trestbps\",\"trestbps\",\"trestbps\",\"trestbps\",\"trestbps\",\"trestbps\",\"trestbps\",\"trestbps\",\"trestbps\",\"trestbps\",\"trestbps\",\"trestbps\",\"trestbps\",\"trestbps\",\"trestbps\",\"trestbps\",\"trestbps\",\"trestbps\",\"trestbps\",\"trestbps\",\"trestbps\",\"trestbps\",\"trestbps\",\"trestbps\",\"trestbps\",\"trestbps\",\"trestbps\",\"trestbps\",\"trestbps\",\"trestbps\",\"trestbps\",\"trestbps\",\"trestbps\",\"trestbps\",\"trestbps\",\"trestbps\",\"trestbps\",\"trestbps\",\"trestbps\",\"trestbps\",\"trestbps\",\"trestbps\",\"trestbps\",\"trestbps\",\"trestbps\",\"trestbps\",\"trestbps\",\"trestbps\",\"trestbps\",\"trestbps\",\"trestbps\",\"trestbps\",\"trestbps\",\"trestbps\",\"trestbps\",\"trestbps\",\"trestbps\",\"trestbps\",\"trestbps\",\"trestbps\",\"trestbps\",\"trestbps\",\"trestbps\",\"trestbps\",\"trestbps\",\"trestbps\",\"trestbps\",\"trestbps\",\"trestbps\",\"trestbps\",\"trestbps\",\"trestbps\",\"trestbps\",\"trestbps\",\"trestbps\",\"trestbps\",\"trestbps\",\"trestbps\",\"trestbps\",\"trestbps\",\"trestbps\",\"trestbps\",\"trestbps\",\"trestbps\",\"trestbps\",\"trestbps\",\"trestbps\",\"trestbps\",\"trestbps\",\"trestbps\",\"trestbps\",\"trestbps\",\"trestbps\",\"trestbps\",\"trestbps\",\"trestbps\",\"trestbps\",\"trestbps\",\"trestbps\",\"trestbps\",\"trestbps\",\"trestbps\",\"trestbps\",\"trestbps\",\"trestbps\",\"trestbps\",\"trestbps\",\"trestbps\",\"trestbps\",\"trestbps\",\"trestbps\",\"trestbps\",\"trestbps\",\"trestbps\",\"trestbps\",\"trestbps\",\"trestbps\",\"trestbps\",\"trestbps\",\"trestbps\",\"trestbps\",\"trestbps\",\"trestbps\",\"trestbps\",\"trestbps\",\"trestbps\",\"trestbps\",\"trestbps\",\"trestbps\",\"trestbps\",\"trestbps\",\"trestbps\",\"trestbps\",\"trestbps\",\"trestbps\",\"trestbps\",\"trestbps\",\"trestbps\",\"trestbps\",\"trestbps\",\"trestbps\",\"trestbps\",\"trestbps\",\"trestbps\",\"trestbps\",\"trestbps\",\"trestbps\",\"trestbps\",\"trestbps\",\"trestbps\",\"trestbps\",\"trestbps\",\"trestbps\",\"trestbps\",\"trestbps\",\"trestbps\",\"trestbps\",\"trestbps\",\"trestbps\",\"trestbps\",\"trestbps\",\"trestbps\",\"trestbps\",\"trestbps\",\"trestbps\",\"trestbps\",\"trestbps\",\"trestbps\",\"trestbps\",\"trestbps\",\"trestbps\",\"trestbps\",\"trestbps\",\"trestbps\",\"trestbps\",\"trestbps\",\"trestbps\",\"trestbps\",\"trestbps\",\"trestbps\",\"trestbps\",\"trestbps\",\"trestbps\",\"trestbps\",\"trestbps\",\"trestbps\",\"trestbps\",\"trestbps\",\"trestbps\",\"trestbps\",\"trestbps\",\"trestbps\",\"trestbps\",\"trestbps\",\"trestbps\",\"trestbps\",\"trestbps\",\"trestbps\",\"trestbps\",\"trestbps\",\"trestbps\",\"trestbps\",\"trestbps\",\"trestbps\",\"trestbps\",\"trestbps\",\"trestbps\",\"trestbps\",\"trestbps\",\"trestbps\",\"trestbps\",\"trestbps\",\"trestbps\",\"trestbps\",\"trestbps\",\"trestbps\",\"trestbps\",\"trestbps\",\"trestbps\",\"trestbps\",\"trestbps\",\"trestbps\",\"trestbps\",\"trestbps\",\"trestbps\",\"trestbps\",\"trestbps\",\"trestbps\",\"trestbps\",\"trestbps\",\"trestbps\",\"trestbps\",\"trestbps\",\"trestbps\",\"trestbps\",\"trestbps\",\"trestbps\",\"trestbps\",\"trestbps\",\"trestbps\",\"trestbps\",\"trestbps\",\"trestbps\",\"trestbps\",\"trestbps\",\"trestbps\",\"trestbps\",\"trestbps\",\"trestbps\",\"trestbps\",\"trestbps\",\"trestbps\",\"trestbps\",\"trestbps\",\"trestbps\",\"trestbps\",\"trestbps\",\"trestbps\",\"trestbps\",\"trestbps\",\"trestbps\",\"trestbps\",\"trestbps\",\"trestbps\",\"trestbps\",\"trestbps\",\"trestbps\",\"trestbps\",\"trestbps\",\"trestbps\",\"trestbps\",\"trestbps\",\"trestbps\",\"trestbps\",\"trestbps\",\"trestbps\",\"trestbps\",\"trestbps\",\"trestbps\",\"trestbps\",\"trestbps\",\"trestbps\",\"trestbps\",\"trestbps\",\"trestbps\",\"trestbps\",\"trestbps\",\"trestbps\",\"trestbps\",\"trestbps\",\"trestbps\",\"trestbps\",\"trestbps\",\"trestbps\",\"trestbps\",\"trestbps\",\"trestbps\",\"trestbps\",\"trestbps\",\"trestbps\",\"trestbps\",\"trestbps\",\"trestbps\",\"trestbps\",\"trestbps\",\"trestbps\",\"trestbps\",\"trestbps\",\"trestbps\",\"trestbps\",\"trestbps\",\"trestbps\",\"trestbps\",\"trestbps\",\"trestbps\",\"trestbps\",\"trestbps\",\"trestbps\",\"trestbps\",\"trestbps\",\"trestbps\",\"trestbps\",\"trestbps\",\"trestbps\",\"trestbps\",\"trestbps\",\"trestbps\",\"trestbps\",\"trestbps\",\"trestbps\",\"trestbps\",\"trestbps\",\"trestbps\",\"trestbps\",\"trestbps\",\"trestbps\",\"trestbps\",\"trestbps\",\"trestbps\",\"trestbps\",\"trestbps\",\"trestbps\",\"trestbps\",\"trestbps\",\"trestbps\",\"trestbps\",\"trestbps\",\"trestbps\",\"trestbps\",\"trestbps\",\"trestbps\",\"trestbps\",\"trestbps\",\"trestbps\",\"trestbps\",\"trestbps\",\"trestbps\",\"trestbps\",\"trestbps\",\"trestbps\",\"trestbps\",\"trestbps\",\"trestbps\",\"trestbps\",\"trestbps\",\"trestbps\",\"trestbps\",\"trestbps\",\"trestbps\",\"trestbps\",\"trestbps\",\"trestbps\",\"trestbps\",\"trestbps\",\"trestbps\",\"trestbps\",\"trestbps\",\"trestbps\",\"trestbps\",\"trestbps\",\"trestbps\",\"trestbps\",\"trestbps\",\"trestbps\",\"trestbps\",\"trestbps\",\"trestbps\",\"trestbps\",\"trestbps\",\"trestbps\",\"trestbps\",\"trestbps\",\"trestbps\",\"trestbps\",\"trestbps\",\"trestbps\",\"trestbps\",\"trestbps\",\"trestbps\",\"trestbps\",\"trestbps\",\"trestbps\",\"trestbps\",\"trestbps\",\"trestbps\",\"trestbps\",\"trestbps\",\"trestbps\",\"trestbps\",\"trestbps\",\"trestbps\",\"trestbps\",\"trestbps\",\"trestbps\",\"trestbps\",\"trestbps\",\"trestbps\",\"trestbps\",\"trestbps\",\"trestbps\",\"trestbps\",\"trestbps\",\"trestbps\",\"trestbps\",\"trestbps\",\"trestbps\",\"trestbps\",\"trestbps\",\"trestbps\",\"trestbps\",\"trestbps\",\"trestbps\",\"trestbps\",\"trestbps\",\"trestbps\",\"trestbps\",\"trestbps\",\"trestbps\",\"trestbps\",\"trestbps\",\"trestbps\",\"trestbps\",\"trestbps\",\"trestbps\",\"trestbps\",\"trestbps\",\"trestbps\",\"trestbps\",\"trestbps\",\"trestbps\",\"trestbps\",\"trestbps\",\"trestbps\",\"trestbps\",\"trestbps\",\"trestbps\",\"trestbps\",\"trestbps\",\"trestbps\",\"trestbps\",\"trestbps\",\"trestbps\",\"trestbps\",\"trestbps\",\"trestbps\",\"trestbps\",\"trestbps\",\"trestbps\",\"trestbps\",\"trestbps\",\"trestbps\",\"trestbps\",\"trestbps\",\"trestbps\",\"trestbps\",\"trestbps\",\"trestbps\",\"trestbps\",\"trestbps\",\"trestbps\",\"trestbps\",\"trestbps\",\"trestbps\",\"trestbps\",\"trestbps\",\"trestbps\",\"trestbps\",\"trestbps\",\"trestbps\",\"trestbps\",\"trestbps\",\"trestbps\",\"trestbps\",\"trestbps\",\"trestbps\",\"trestbps\",\"trestbps\",\"chol\",\"chol\",\"chol\",\"chol\",\"chol\",\"chol\",\"chol\",\"chol\",\"chol\",\"chol\",\"chol\",\"chol\",\"chol\",\"chol\",\"chol\",\"chol\",\"chol\",\"chol\",\"chol\",\"chol\",\"chol\",\"chol\",\"chol\",\"chol\",\"chol\",\"chol\",\"chol\",\"chol\",\"chol\",\"chol\",\"chol\",\"chol\",\"chol\",\"chol\",\"chol\",\"chol\",\"chol\",\"chol\",\"chol\",\"chol\",\"chol\",\"chol\",\"chol\",\"chol\",\"chol\",\"chol\",\"chol\",\"chol\",\"chol\",\"chol\",\"chol\",\"chol\",\"chol\",\"chol\",\"chol\",\"chol\",\"chol\",\"chol\",\"chol\",\"chol\",\"chol\",\"chol\",\"chol\",\"chol\",\"chol\",\"chol\",\"chol\",\"chol\",\"chol\",\"chol\",\"chol\",\"chol\",\"chol\",\"chol\",\"chol\",\"chol\",\"chol\",\"chol\",\"chol\",\"chol\",\"chol\",\"chol\",\"chol\",\"chol\",\"chol\",\"chol\",\"chol\",\"chol\",\"chol\",\"chol\",\"chol\",\"chol\",\"chol\",\"chol\",\"chol\",\"chol\",\"chol\",\"chol\",\"chol\",\"chol\",\"chol\",\"chol\",\"chol\",\"chol\",\"chol\",\"chol\",\"chol\",\"chol\",\"chol\",\"chol\",\"chol\",\"chol\",\"chol\",\"chol\",\"chol\",\"chol\",\"chol\",\"chol\",\"chol\",\"chol\",\"chol\",\"chol\",\"chol\",\"chol\",\"chol\",\"chol\",\"chol\",\"chol\",\"chol\",\"chol\",\"chol\",\"chol\",\"chol\",\"chol\",\"chol\",\"chol\",\"chol\",\"chol\",\"chol\",\"chol\",\"chol\",\"chol\",\"chol\",\"chol\",\"chol\",\"chol\",\"chol\",\"chol\",\"chol\",\"chol\",\"chol\",\"chol\",\"chol\",\"chol\",\"chol\",\"chol\",\"chol\",\"chol\",\"chol\",\"chol\",\"chol\",\"chol\",\"chol\",\"chol\",\"chol\",\"chol\",\"chol\",\"chol\",\"chol\",\"chol\",\"chol\",\"chol\",\"chol\",\"chol\",\"chol\",\"chol\",\"chol\",\"chol\",\"chol\",\"chol\",\"chol\",\"chol\",\"chol\",\"chol\",\"chol\",\"chol\",\"chol\",\"chol\",\"chol\",\"chol\",\"chol\",\"chol\",\"chol\",\"chol\",\"chol\",\"chol\",\"chol\",\"chol\",\"chol\",\"chol\",\"chol\",\"chol\",\"chol\",\"chol\",\"chol\",\"chol\",\"chol\",\"chol\",\"chol\",\"chol\",\"chol\",\"chol\",\"chol\",\"chol\",\"chol\",\"chol\",\"chol\",\"chol\",\"chol\",\"chol\",\"chol\",\"chol\",\"chol\",\"chol\",\"chol\",\"chol\",\"chol\",\"chol\",\"chol\",\"chol\",\"chol\",\"chol\",\"chol\",\"chol\",\"chol\",\"chol\",\"chol\",\"chol\",\"chol\",\"chol\",\"chol\",\"chol\",\"chol\",\"chol\",\"chol\",\"chol\",\"chol\",\"chol\",\"chol\",\"chol\",\"chol\",\"chol\",\"chol\",\"chol\",\"chol\",\"chol\",\"chol\",\"chol\",\"chol\",\"chol\",\"chol\",\"chol\",\"chol\",\"chol\",\"chol\",\"chol\",\"chol\",\"chol\",\"chol\",\"chol\",\"chol\",\"chol\",\"chol\",\"chol\",\"chol\",\"chol\",\"chol\",\"chol\",\"chol\",\"chol\",\"chol\",\"chol\",\"chol\",\"chol\",\"chol\",\"chol\",\"chol\",\"chol\",\"chol\",\"chol\",\"chol\",\"chol\",\"chol\",\"chol\",\"chol\",\"chol\",\"chol\",\"chol\",\"chol\",\"chol\",\"chol\",\"chol\",\"chol\",\"chol\",\"chol\",\"chol\",\"chol\",\"chol\",\"chol\",\"chol\",\"chol\",\"chol\",\"chol\",\"chol\",\"chol\",\"chol\",\"chol\",\"chol\",\"chol\",\"chol\",\"chol\",\"chol\",\"chol\",\"chol\",\"chol\",\"chol\",\"chol\",\"chol\",\"chol\",\"chol\",\"chol\",\"chol\",\"chol\",\"chol\",\"chol\",\"chol\",\"chol\",\"chol\",\"chol\",\"chol\",\"chol\",\"chol\",\"chol\",\"chol\",\"chol\",\"chol\",\"chol\",\"chol\",\"chol\",\"chol\",\"chol\",\"chol\",\"chol\",\"chol\",\"chol\",\"chol\",\"chol\",\"chol\",\"chol\",\"chol\",\"chol\",\"chol\",\"chol\",\"chol\",\"chol\",\"chol\",\"chol\",\"chol\",\"chol\",\"chol\",\"chol\",\"chol\",\"chol\",\"chol\",\"chol\",\"chol\",\"chol\",\"chol\",\"chol\",\"chol\",\"chol\",\"chol\",\"chol\",\"chol\",\"chol\",\"chol\",\"chol\",\"chol\",\"chol\",\"chol\",\"chol\",\"chol\",\"chol\",\"chol\",\"chol\",\"chol\",\"chol\",\"chol\",\"chol\",\"chol\",\"chol\",\"chol\",\"chol\",\"chol\",\"chol\",\"chol\",\"chol\",\"chol\",\"chol\",\"chol\",\"chol\",\"chol\",\"chol\",\"chol\",\"chol\",\"chol\",\"chol\",\"chol\",\"chol\",\"chol\",\"chol\",\"chol\",\"chol\",\"chol\",\"chol\",\"chol\",\"chol\",\"chol\",\"chol\",\"chol\",\"chol\",\"chol\",\"chol\",\"chol\",\"chol\",\"chol\",\"chol\",\"chol\",\"chol\",\"chol\",\"chol\",\"chol\",\"chol\",\"chol\",\"chol\",\"chol\",\"chol\",\"chol\",\"chol\",\"chol\",\"chol\",\"chol\",\"chol\",\"chol\",\"chol\",\"chol\",\"chol\",\"chol\",\"chol\",\"chol\",\"chol\",\"chol\",\"chol\",\"chol\",\"chol\",\"chol\",\"chol\",\"chol\",\"chol\",\"chol\",\"chol\",\"chol\",\"chol\",\"chol\",\"chol\",\"chol\",\"chol\",\"chol\",\"chol\",\"chol\",\"chol\",\"chol\",\"chol\",\"chol\",\"chol\",\"chol\",\"chol\",\"chol\",\"chol\",\"chol\",\"chol\",\"chol\",\"chol\",\"chol\",\"chol\",\"chol\",\"chol\",\"chol\",\"chol\",\"chol\",\"chol\",\"chol\",\"chol\",\"chol\",\"chol\",\"chol\",\"chol\",\"chol\",\"chol\",\"chol\",\"chol\",\"chol\",\"chol\",\"chol\",\"chol\",\"chol\",\"chol\",\"chol\",\"chol\",\"chol\",\"chol\",\"chol\",\"chol\",\"chol\",\"chol\",\"chol\",\"chol\",\"chol\",\"chol\",\"chol\",\"chol\",\"chol\",\"chol\",\"chol\",\"chol\",\"chol\",\"chol\",\"chol\",\"chol\",\"chol\",\"chol\",\"chol\",\"chol\",\"chol\",\"chol\",\"chol\",\"chol\",\"chol\",\"chol\",\"chol\",\"chol\",\"chol\",\"chol\",\"chol\",\"chol\",\"chol\",\"chol\",\"chol\",\"chol\",\"chol\",\"chol\",\"chol\",\"chol\",\"chol\",\"chol\",\"chol\",\"chol\",\"chol\",\"chol\",\"chol\",\"chol\",\"chol\",\"chol\",\"chol\",\"chol\",\"chol\",\"chol\",\"chol\",\"chol\",\"chol\",\"chol\",\"chol\",\"chol\",\"chol\",\"chol\",\"chol\",\"chol\",\"chol\",\"chol\",\"chol\",\"chol\",\"chol\",\"chol\",\"chol\",\"chol\",\"chol\",\"chol\",\"chol\",\"chol\",\"chol\",\"chol\",\"chol\",\"chol\",\"chol\",\"chol\",\"chol\",\"chol\",\"chol\",\"chol\",\"chol\",\"chol\",\"chol\",\"chol\",\"chol\",\"chol\",\"chol\",\"chol\",\"chol\",\"chol\",\"chol\",\"chol\",\"chol\",\"chol\",\"chol\",\"chol\",\"chol\",\"chol\",\"chol\",\"chol\",\"chol\",\"chol\",\"chol\",\"chol\",\"chol\",\"chol\",\"chol\",\"chol\",\"chol\",\"chol\",\"chol\",\"chol\",\"chol\",\"chol\",\"chol\",\"chol\",\"chol\",\"chol\",\"chol\",\"chol\",\"chol\",\"chol\",\"chol\",\"chol\",\"chol\",\"chol\",\"chol\",\"chol\",\"chol\",\"chol\",\"chol\",\"chol\",\"chol\",\"chol\",\"chol\",\"chol\",\"chol\",\"chol\",\"chol\",\"chol\",\"chol\",\"chol\",\"chol\",\"chol\",\"chol\",\"chol\",\"chol\",\"chol\",\"chol\",\"chol\",\"chol\",\"chol\",\"chol\",\"chol\",\"chol\",\"chol\",\"chol\",\"chol\",\"chol\",\"chol\",\"chol\",\"chol\",\"chol\",\"chol\",\"chol\",\"chol\",\"chol\",\"chol\",\"chol\",\"chol\",\"chol\",\"chol\",\"chol\",\"chol\",\"chol\",\"chol\",\"chol\",\"chol\",\"chol\",\"chol\",\"chol\",\"chol\",\"chol\",\"chol\",\"chol\",\"chol\",\"chol\",\"chol\",\"chol\",\"chol\",\"chol\",\"chol\",\"chol\",\"chol\",\"chol\",\"chol\",\"chol\",\"chol\",\"chol\",\"chol\",\"chol\",\"chol\",\"chol\",\"chol\",\"chol\",\"chol\",\"chol\",\"chol\",\"chol\",\"chol\",\"chol\",\"chol\",\"chol\",\"chol\",\"chol\",\"chol\",\"chol\",\"chol\",\"chol\",\"chol\",\"chol\",\"chol\",\"chol\",\"chol\",\"chol\",\"chol\",\"chol\",\"chol\",\"chol\",\"chol\",\"chol\",\"chol\",\"chol\",\"chol\",\"chol\",\"chol\",\"chol\",\"chol\",\"chol\",\"chol\",\"chol\",\"chol\",\"chol\",\"chol\",\"chol\",\"chol\",\"chol\",\"chol\",\"chol\",\"chol\",\"chol\",\"chol\",\"chol\",\"chol\",\"chol\",\"chol\",\"chol\",\"chol\",\"chol\",\"chol\",\"chol\",\"chol\",\"chol\",\"chol\",\"chol\",\"chol\",\"chol\",\"chol\",\"chol\",\"chol\",\"chol\",\"chol\",\"chol\",\"chol\",\"chol\",\"chol\",\"chol\",\"chol\",\"chol\",\"chol\",\"chol\",\"chol\",\"chol\",\"chol\",\"chol\",\"chol\",\"chol\",\"chol\",\"chol\",\"chol\",\"chol\",\"chol\",\"chol\",\"chol\",\"chol\",\"chol\",\"chol\",\"chol\",\"chol\",\"chol\",\"chol\",\"chol\",\"chol\",\"chol\",\"chol\",\"chol\",\"chol\",\"chol\",\"chol\",\"chol\",\"chol\",\"chol\",\"chol\",\"chol\",\"chol\",\"chol\",\"chol\",\"chol\",\"chol\",\"chol\",\"chol\",\"chol\",\"chol\",\"chol\",\"chol\",\"chol\",\"chol\",\"chol\",\"chol\",\"chol\",\"chol\",\"chol\",\"chol\",\"chol\",\"chol\",\"chol\",\"chol\",\"chol\",\"chol\",\"chol\",\"chol\",\"chol\",\"chol\",\"chol\",\"chol\",\"chol\",\"chol\",\"chol\",\"chol\",\"chol\",\"chol\",\"chol\",\"chol\",\"chol\",\"chol\",\"chol\",\"chol\",\"chol\",\"chol\",\"chol\",\"chol\",\"chol\",\"chol\",\"chol\",\"chol\",\"chol\",\"chol\",\"chol\",\"chol\",\"chol\",\"chol\",\"chol\",\"chol\",\"chol\",\"chol\",\"chol\",\"chol\",\"chol\",\"chol\",\"chol\",\"chol\",\"chol\",\"chol\",\"chol\",\"chol\",\"chol\",\"chol\",\"chol\",\"chol\",\"chol\",\"chol\",\"thalch\",\"thalch\",\"thalch\",\"thalch\",\"thalch\",\"thalch\",\"thalch\",\"thalch\",\"thalch\",\"thalch\",\"thalch\",\"thalch\",\"thalch\",\"thalch\",\"thalch\",\"thalch\",\"thalch\",\"thalch\",\"thalch\",\"thalch\",\"thalch\",\"thalch\",\"thalch\",\"thalch\",\"thalch\",\"thalch\",\"thalch\",\"thalch\",\"thalch\",\"thalch\",\"thalch\",\"thalch\",\"thalch\",\"thalch\",\"thalch\",\"thalch\",\"thalch\",\"thalch\",\"thalch\",\"thalch\",\"thalch\",\"thalch\",\"thalch\",\"thalch\",\"thalch\",\"thalch\",\"thalch\",\"thalch\",\"thalch\",\"thalch\",\"thalch\",\"thalch\",\"thalch\",\"thalch\",\"thalch\",\"thalch\",\"thalch\",\"thalch\",\"thalch\",\"thalch\",\"thalch\",\"thalch\",\"thalch\",\"thalch\",\"thalch\",\"thalch\",\"thalch\",\"thalch\",\"thalch\",\"thalch\",\"thalch\",\"thalch\",\"thalch\",\"thalch\",\"thalch\",\"thalch\",\"thalch\",\"thalch\",\"thalch\",\"thalch\",\"thalch\",\"thalch\",\"thalch\",\"thalch\",\"thalch\",\"thalch\",\"thalch\",\"thalch\",\"thalch\",\"thalch\",\"thalch\",\"thalch\",\"thalch\",\"thalch\",\"thalch\",\"thalch\",\"thalch\",\"thalch\",\"thalch\",\"thalch\",\"thalch\",\"thalch\",\"thalch\",\"thalch\",\"thalch\",\"thalch\",\"thalch\",\"thalch\",\"thalch\",\"thalch\",\"thalch\",\"thalch\",\"thalch\",\"thalch\",\"thalch\",\"thalch\",\"thalch\",\"thalch\",\"thalch\",\"thalch\",\"thalch\",\"thalch\",\"thalch\",\"thalch\",\"thalch\",\"thalch\",\"thalch\",\"thalch\",\"thalch\",\"thalch\",\"thalch\",\"thalch\",\"thalch\",\"thalch\",\"thalch\",\"thalch\",\"thalch\",\"thalch\",\"thalch\",\"thalch\",\"thalch\",\"thalch\",\"thalch\",\"thalch\",\"thalch\",\"thalch\",\"thalch\",\"thalch\",\"thalch\",\"thalch\",\"thalch\",\"thalch\",\"thalch\",\"thalch\",\"thalch\",\"thalch\",\"thalch\",\"thalch\",\"thalch\",\"thalch\",\"thalch\",\"thalch\",\"thalch\",\"thalch\",\"thalch\",\"thalch\",\"thalch\",\"thalch\",\"thalch\",\"thalch\",\"thalch\",\"thalch\",\"thalch\",\"thalch\",\"thalch\",\"thalch\",\"thalch\",\"thalch\",\"thalch\",\"thalch\",\"thalch\",\"thalch\",\"thalch\",\"thalch\",\"thalch\",\"thalch\",\"thalch\",\"thalch\",\"thalch\",\"thalch\",\"thalch\",\"thalch\",\"thalch\",\"thalch\",\"thalch\",\"thalch\",\"thalch\",\"thalch\",\"thalch\",\"thalch\",\"thalch\",\"thalch\",\"thalch\",\"thalch\",\"thalch\",\"thalch\",\"thalch\",\"thalch\",\"thalch\",\"thalch\",\"thalch\",\"thalch\",\"thalch\",\"thalch\",\"thalch\",\"thalch\",\"thalch\",\"thalch\",\"thalch\",\"thalch\",\"thalch\",\"thalch\",\"thalch\",\"thalch\",\"thalch\",\"thalch\",\"thalch\",\"thalch\",\"thalch\",\"thalch\",\"thalch\",\"thalch\",\"thalch\",\"thalch\",\"thalch\",\"thalch\",\"thalch\",\"thalch\",\"thalch\",\"thalch\",\"thalch\",\"thalch\",\"thalch\",\"thalch\",\"thalch\",\"thalch\",\"thalch\",\"thalch\",\"thalch\",\"thalch\",\"thalch\",\"thalch\",\"thalch\",\"thalch\",\"thalch\",\"thalch\",\"thalch\",\"thalch\",\"thalch\",\"thalch\",\"thalch\",\"thalch\",\"thalch\",\"thalch\",\"thalch\",\"thalch\",\"thalch\",\"thalch\",\"thalch\",\"thalch\",\"thalch\",\"thalch\",\"thalch\",\"thalch\",\"thalch\",\"thalch\",\"thalch\",\"thalch\",\"thalch\",\"thalch\",\"thalch\",\"thalch\",\"thalch\",\"thalch\",\"thalch\",\"thalch\",\"thalch\",\"thalch\",\"thalch\",\"thalch\",\"thalch\",\"thalch\",\"thalch\",\"thalch\",\"thalch\",\"thalch\",\"thalch\",\"thalch\",\"thalch\",\"thalch\",\"thalch\",\"thalch\",\"thalch\",\"thalch\",\"thalch\",\"thalch\",\"thalch\",\"thalch\",\"thalch\",\"thalch\",\"thalch\",\"thalch\",\"thalch\",\"thalch\",\"thalch\",\"thalch\",\"thalch\",\"thalch\",\"thalch\",\"thalch\",\"thalch\",\"thalch\",\"thalch\",\"thalch\",\"thalch\",\"thalch\",\"thalch\",\"thalch\",\"thalch\",\"thalch\",\"thalch\",\"thalch\",\"thalch\",\"thalch\",\"thalch\",\"thalch\",\"thalch\",\"thalch\",\"thalch\",\"thalch\",\"thalch\",\"thalch\",\"thalch\",\"thalch\",\"thalch\",\"thalch\",\"thalch\",\"thalch\",\"thalch\",\"thalch\",\"thalch\",\"thalch\",\"thalch\",\"thalch\",\"thalch\",\"thalch\",\"thalch\",\"thalch\",\"thalch\",\"thalch\",\"thalch\",\"thalch\",\"thalch\",\"thalch\",\"thalch\",\"thalch\",\"thalch\",\"thalch\",\"thalch\",\"thalch\",\"thalch\",\"thalch\",\"thalch\",\"thalch\",\"thalch\",\"thalch\",\"thalch\",\"thalch\",\"thalch\",\"thalch\",\"thalch\",\"thalch\",\"thalch\",\"thalch\",\"thalch\",\"thalch\",\"thalch\",\"thalch\",\"thalch\",\"thalch\",\"thalch\",\"thalch\",\"thalch\",\"thalch\",\"thalch\",\"thalch\",\"thalch\",\"thalch\",\"thalch\",\"thalch\",\"thalch\",\"thalch\",\"thalch\",\"thalch\",\"thalch\",\"thalch\",\"thalch\",\"thalch\",\"thalch\",\"thalch\",\"thalch\",\"thalch\",\"thalch\",\"thalch\",\"thalch\",\"thalch\",\"thalch\",\"thalch\",\"thalch\",\"thalch\",\"thalch\",\"thalch\",\"thalch\",\"thalch\",\"thalch\",\"thalch\",\"thalch\",\"thalch\",\"thalch\",\"thalch\",\"thalch\",\"thalch\",\"thalch\",\"thalch\",\"thalch\",\"thalch\",\"thalch\",\"thalch\",\"thalch\",\"thalch\",\"thalch\",\"thalch\",\"thalch\",\"thalch\",\"thalch\",\"thalch\",\"thalch\",\"thalch\",\"thalch\",\"thalch\",\"thalch\",\"thalch\",\"thalch\",\"thalch\",\"thalch\",\"thalch\",\"thalch\",\"thalch\",\"thalch\",\"thalch\",\"thalch\",\"thalch\",\"thalch\",\"thalch\",\"thalch\",\"thalch\",\"thalch\",\"thalch\",\"thalch\",\"thalch\",\"thalch\",\"thalch\",\"thalch\",\"thalch\",\"thalch\",\"thalch\",\"thalch\",\"thalch\",\"thalch\",\"thalch\",\"thalch\",\"thalch\",\"thalch\",\"thalch\",\"thalch\",\"thalch\",\"thalch\",\"thalch\",\"thalch\",\"thalch\",\"thalch\",\"thalch\",\"thalch\",\"thalch\",\"thalch\",\"thalch\",\"thalch\",\"thalch\",\"thalch\",\"thalch\",\"thalch\",\"thalch\",\"thalch\",\"thalch\",\"thalch\",\"thalch\",\"thalch\",\"thalch\",\"thalch\",\"thalch\",\"thalch\",\"thalch\",\"thalch\",\"thalch\",\"thalch\",\"thalch\",\"thalch\",\"thalch\",\"thalch\",\"thalch\",\"thalch\",\"thalch\",\"thalch\",\"thalch\",\"thalch\",\"thalch\",\"thalch\",\"thalch\",\"thalch\",\"thalch\",\"thalch\",\"thalch\",\"thalch\",\"thalch\",\"thalch\",\"thalch\",\"thalch\",\"thalch\",\"thalch\",\"thalch\",\"thalch\",\"thalch\",\"thalch\",\"thalch\",\"thalch\",\"thalch\",\"thalch\",\"thalch\",\"thalch\",\"thalch\",\"thalch\",\"thalch\",\"thalch\",\"thalch\",\"thalch\",\"thalch\",\"thalch\",\"thalch\",\"thalch\",\"thalch\",\"thalch\",\"thalch\",\"thalch\",\"thalch\",\"thalch\",\"thalch\",\"thalch\",\"thalch\",\"thalch\",\"thalch\",\"thalch\",\"thalch\",\"thalch\",\"thalch\",\"thalch\",\"thalch\",\"thalch\",\"thalch\",\"thalch\",\"thalch\",\"thalch\",\"thalch\",\"thalch\",\"thalch\",\"thalch\",\"thalch\",\"thalch\",\"thalch\",\"thalch\",\"thalch\",\"thalch\",\"thalch\",\"thalch\",\"thalch\",\"thalch\",\"thalch\",\"thalch\",\"thalch\",\"thalch\",\"thalch\",\"thalch\",\"thalch\",\"thalch\",\"thalch\",\"thalch\",\"thalch\",\"thalch\",\"thalch\",\"thalch\",\"thalch\",\"thalch\",\"thalch\",\"thalch\",\"thalch\",\"thalch\",\"thalch\",\"thalch\",\"thalch\",\"thalch\",\"thalch\",\"thalch\",\"thalch\",\"thalch\",\"thalch\",\"thalch\",\"thalch\",\"thalch\",\"thalch\",\"thalch\",\"thalch\",\"thalch\",\"thalch\",\"thalch\",\"thalch\",\"thalch\",\"thalch\",\"thalch\",\"thalch\",\"thalch\",\"thalch\",\"thalch\",\"thalch\",\"thalch\",\"thalch\",\"thalch\",\"thalch\",\"thalch\",\"thalch\",\"thalch\",\"thalch\",\"thalch\",\"thalch\",\"thalch\",\"thalch\",\"thalch\",\"thalch\",\"thalch\",\"thalch\",\"thalch\",\"thalch\",\"thalch\",\"thalch\",\"thalch\",\"thalch\",\"thalch\",\"thalch\",\"thalch\",\"thalch\",\"thalch\",\"thalch\",\"thalch\",\"thalch\",\"thalch\",\"thalch\",\"thalch\",\"thalch\",\"thalch\",\"thalch\",\"thalch\",\"thalch\",\"thalch\",\"thalch\",\"thalch\",\"thalch\",\"thalch\",\"thalch\",\"thalch\",\"thalch\",\"thalch\",\"thalch\",\"thalch\",\"thalch\",\"thalch\",\"thalch\",\"thalch\",\"thalch\",\"thalch\",\"thalch\",\"thalch\",\"thalch\",\"thalch\",\"thalch\",\"thalch\",\"thalch\",\"thalch\",\"thalch\",\"thalch\",\"thalch\",\"thalch\",\"thalch\",\"thalch\",\"thalch\",\"thalch\",\"thalch\",\"thalch\",\"thalch\",\"thalch\",\"thalch\",\"thalch\",\"thalch\",\"thalch\",\"thalch\",\"thalch\",\"thalch\",\"thalch\",\"thalch\",\"thalch\",\"thalch\",\"thalch\",\"thalch\",\"thalch\",\"thalch\",\"thalch\",\"thalch\",\"thalch\",\"thalch\",\"thalch\",\"thalch\",\"thalch\",\"thalch\",\"thalch\",\"thalch\",\"thalch\",\"thalch\",\"thalch\",\"thalch\",\"thalch\",\"thalch\",\"thalch\",\"thalch\",\"thalch\",\"thalch\",\"thalch\",\"thalch\",\"thalch\",\"thalch\",\"thalch\",\"thalch\",\"thalch\",\"thalch\",\"thalch\",\"thalch\",\"thalch\",\"thalch\",\"thalch\",\"thalch\",\"thalch\",\"thalch\",\"thalch\",\"thalch\",\"thalch\",\"thalch\",\"thalch\",\"thalch\",\"thalch\",\"thalch\",\"thalch\",\"thalch\",\"thalch\",\"thalch\",\"thalch\",\"thalch\",\"thalch\",\"thalch\",\"thalch\",\"thalch\",\"thalch\",\"thalch\",\"thalch\",\"thalch\",\"thalch\",\"thalch\",\"thalch\",\"thalch\",\"thalch\",\"thalch\",\"thalch\",\"thalch\",\"thalch\",\"thalch\",\"thalch\",\"thalch\",\"thalch\",\"thalch\",\"thalch\",\"thalch\",\"thalch\",\"thalch\",\"thalch\",\"thalch\",\"thalch\",\"thalch\",\"thalch\",\"thalch\",\"thalch\",\"thalch\",\"thalch\",\"thalch\",\"thalch\",\"thalch\",\"thalch\",\"thalch\",\"thalch\",\"thalch\",\"thalch\",\"thalch\",\"thalch\",\"thalch\",\"thalch\",\"thalch\",\"thalch\",\"thalch\",\"thalch\",\"thalch\",\"thalch\",\"thalch\",\"thalch\",\"thalch\",\"thalch\",\"thalch\",\"thalch\",\"thalch\",\"thalch\",\"thalch\",\"thalch\",\"thalch\",\"thalch\",\"thalch\",\"thalch\",\"thalch\",\"thalch\",\"thalch\",\"thalch\",\"thalch\",\"thalch\",\"thalch\",\"thalch\",\"thalch\",\"thalch\",\"thalch\",\"thalch\",\"thalch\",\"thalch\",\"thalch\",\"thalch\",\"thalch\",\"thalch\",\"thalch\",\"thalch\",\"thalch\",\"thalch\",\"thalch\",\"thalch\",\"thalch\",\"thalch\",\"thalch\",\"thalch\",\"thalch\",\"thalch\",\"thalch\",\"thalch\",\"thalch\",\"thalch\",\"thalch\",\"thalch\",\"thalch\",\"thalch\",\"thalch\",\"thalch\",\"thalch\",\"thalch\",\"thalch\",\"thalch\",\"thalch\",\"thalch\",\"thalch\",\"thalch\",\"thalch\",\"thalch\",\"thalch\",\"thalch\",\"thalch\",\"thalch\",\"thalch\",\"thalch\",\"thalch\",\"thalch\",\"thalch\",\"thalch\",\"thalch\",\"thalch\",\"thalch\",\"thalch\",\"thalch\",\"thalch\",\"thalch\",\"thalch\",\"thalch\",\"thalch\",\"thalch\",\"oldpeak\",\"oldpeak\",\"oldpeak\",\"oldpeak\",\"oldpeak\",\"oldpeak\",\"oldpeak\",\"oldpeak\",\"oldpeak\",\"oldpeak\",\"oldpeak\",\"oldpeak\",\"oldpeak\",\"oldpeak\",\"oldpeak\",\"oldpeak\",\"oldpeak\",\"oldpeak\",\"oldpeak\",\"oldpeak\",\"oldpeak\",\"oldpeak\",\"oldpeak\",\"oldpeak\",\"oldpeak\",\"oldpeak\",\"oldpeak\",\"oldpeak\",\"oldpeak\",\"oldpeak\",\"oldpeak\",\"oldpeak\",\"oldpeak\",\"oldpeak\",\"oldpeak\",\"oldpeak\",\"oldpeak\",\"oldpeak\",\"oldpeak\",\"oldpeak\",\"oldpeak\",\"oldpeak\",\"oldpeak\",\"oldpeak\",\"oldpeak\",\"oldpeak\",\"oldpeak\",\"oldpeak\",\"oldpeak\",\"oldpeak\",\"oldpeak\",\"oldpeak\",\"oldpeak\",\"oldpeak\",\"oldpeak\",\"oldpeak\",\"oldpeak\",\"oldpeak\",\"oldpeak\",\"oldpeak\",\"oldpeak\",\"oldpeak\",\"oldpeak\",\"oldpeak\",\"oldpeak\",\"oldpeak\",\"oldpeak\",\"oldpeak\",\"oldpeak\",\"oldpeak\",\"oldpeak\",\"oldpeak\",\"oldpeak\",\"oldpeak\",\"oldpeak\",\"oldpeak\",\"oldpeak\",\"oldpeak\",\"oldpeak\",\"oldpeak\",\"oldpeak\",\"oldpeak\",\"oldpeak\",\"oldpeak\",\"oldpeak\",\"oldpeak\",\"oldpeak\",\"oldpeak\",\"oldpeak\",\"oldpeak\",\"oldpeak\",\"oldpeak\",\"oldpeak\",\"oldpeak\",\"oldpeak\",\"oldpeak\",\"oldpeak\",\"oldpeak\",\"oldpeak\",\"oldpeak\",\"oldpeak\",\"oldpeak\",\"oldpeak\",\"oldpeak\",\"oldpeak\",\"oldpeak\",\"oldpeak\",\"oldpeak\",\"oldpeak\",\"oldpeak\",\"oldpeak\",\"oldpeak\",\"oldpeak\",\"oldpeak\",\"oldpeak\",\"oldpeak\",\"oldpeak\",\"oldpeak\",\"oldpeak\",\"oldpeak\",\"oldpeak\",\"oldpeak\",\"oldpeak\",\"oldpeak\",\"oldpeak\",\"oldpeak\",\"oldpeak\",\"oldpeak\",\"oldpeak\",\"oldpeak\",\"oldpeak\",\"oldpeak\",\"oldpeak\",\"oldpeak\",\"oldpeak\",\"oldpeak\",\"oldpeak\",\"oldpeak\",\"oldpeak\",\"oldpeak\",\"oldpeak\",\"oldpeak\",\"oldpeak\",\"oldpeak\",\"oldpeak\",\"oldpeak\",\"oldpeak\",\"oldpeak\",\"oldpeak\",\"oldpeak\",\"oldpeak\",\"oldpeak\",\"oldpeak\",\"oldpeak\",\"oldpeak\",\"oldpeak\",\"oldpeak\",\"oldpeak\",\"oldpeak\",\"oldpeak\",\"oldpeak\",\"oldpeak\",\"oldpeak\",\"oldpeak\",\"oldpeak\",\"oldpeak\",\"oldpeak\",\"oldpeak\",\"oldpeak\",\"oldpeak\",\"oldpeak\",\"oldpeak\",\"oldpeak\",\"oldpeak\",\"oldpeak\",\"oldpeak\",\"oldpeak\",\"oldpeak\",\"oldpeak\",\"oldpeak\",\"oldpeak\",\"oldpeak\",\"oldpeak\",\"oldpeak\",\"oldpeak\",\"oldpeak\",\"oldpeak\",\"oldpeak\",\"oldpeak\",\"oldpeak\",\"oldpeak\",\"oldpeak\",\"oldpeak\",\"oldpeak\",\"oldpeak\",\"oldpeak\",\"oldpeak\",\"oldpeak\",\"oldpeak\",\"oldpeak\",\"oldpeak\",\"oldpeak\",\"oldpeak\",\"oldpeak\",\"oldpeak\",\"oldpeak\",\"oldpeak\",\"oldpeak\",\"oldpeak\",\"oldpeak\",\"oldpeak\",\"oldpeak\",\"oldpeak\",\"oldpeak\",\"oldpeak\",\"oldpeak\",\"oldpeak\",\"oldpeak\",\"oldpeak\",\"oldpeak\",\"oldpeak\",\"oldpeak\",\"oldpeak\",\"oldpeak\",\"oldpeak\",\"oldpeak\",\"oldpeak\",\"oldpeak\",\"oldpeak\",\"oldpeak\",\"oldpeak\",\"oldpeak\",\"oldpeak\",\"oldpeak\",\"oldpeak\",\"oldpeak\",\"oldpeak\",\"oldpeak\",\"oldpeak\",\"oldpeak\",\"oldpeak\",\"oldpeak\",\"oldpeak\",\"oldpeak\",\"oldpeak\",\"oldpeak\",\"oldpeak\",\"oldpeak\",\"oldpeak\",\"oldpeak\",\"oldpeak\",\"oldpeak\",\"oldpeak\",\"oldpeak\",\"oldpeak\",\"oldpeak\",\"oldpeak\",\"oldpeak\",\"oldpeak\",\"oldpeak\",\"oldpeak\",\"oldpeak\",\"oldpeak\",\"oldpeak\",\"oldpeak\",\"oldpeak\",\"oldpeak\",\"oldpeak\",\"oldpeak\",\"oldpeak\",\"oldpeak\",\"oldpeak\",\"oldpeak\",\"oldpeak\",\"oldpeak\",\"oldpeak\",\"oldpeak\",\"oldpeak\",\"oldpeak\",\"oldpeak\",\"oldpeak\",\"oldpeak\",\"oldpeak\",\"oldpeak\",\"oldpeak\",\"oldpeak\",\"oldpeak\",\"oldpeak\",\"oldpeak\",\"oldpeak\",\"oldpeak\",\"oldpeak\",\"oldpeak\",\"oldpeak\",\"oldpeak\",\"oldpeak\",\"oldpeak\",\"oldpeak\",\"oldpeak\",\"oldpeak\",\"oldpeak\",\"oldpeak\",\"oldpeak\",\"oldpeak\",\"oldpeak\",\"oldpeak\",\"oldpeak\",\"oldpeak\",\"oldpeak\",\"oldpeak\",\"oldpeak\",\"oldpeak\",\"oldpeak\",\"oldpeak\",\"oldpeak\",\"oldpeak\",\"oldpeak\",\"oldpeak\",\"oldpeak\",\"oldpeak\",\"oldpeak\",\"oldpeak\",\"oldpeak\",\"oldpeak\",\"oldpeak\",\"oldpeak\",\"oldpeak\",\"oldpeak\",\"oldpeak\",\"oldpeak\",\"oldpeak\",\"oldpeak\",\"oldpeak\",\"oldpeak\",\"oldpeak\",\"oldpeak\",\"oldpeak\",\"oldpeak\",\"oldpeak\",\"oldpeak\",\"oldpeak\",\"oldpeak\",\"oldpeak\",\"oldpeak\",\"oldpeak\",\"oldpeak\",\"oldpeak\",\"oldpeak\",\"oldpeak\",\"oldpeak\",\"oldpeak\",\"oldpeak\",\"oldpeak\",\"oldpeak\",\"oldpeak\",\"oldpeak\",\"oldpeak\",\"oldpeak\",\"oldpeak\",\"oldpeak\",\"oldpeak\",\"oldpeak\",\"oldpeak\",\"oldpeak\",\"oldpeak\",\"oldpeak\",\"oldpeak\",\"oldpeak\",\"oldpeak\",\"oldpeak\",\"oldpeak\",\"oldpeak\",\"oldpeak\",\"oldpeak\",\"oldpeak\",\"oldpeak\",\"oldpeak\",\"oldpeak\",\"oldpeak\",\"oldpeak\",\"oldpeak\",\"oldpeak\",\"oldpeak\",\"oldpeak\",\"oldpeak\",\"oldpeak\",\"oldpeak\",\"oldpeak\",\"oldpeak\",\"oldpeak\",\"oldpeak\",\"oldpeak\",\"oldpeak\",\"oldpeak\",\"oldpeak\",\"oldpeak\",\"oldpeak\",\"oldpeak\",\"oldpeak\",\"oldpeak\",\"oldpeak\",\"oldpeak\",\"oldpeak\",\"oldpeak\",\"oldpeak\",\"oldpeak\",\"oldpeak\",\"oldpeak\",\"oldpeak\",\"oldpeak\",\"oldpeak\",\"oldpeak\",\"oldpeak\",\"oldpeak\",\"oldpeak\",\"oldpeak\",\"oldpeak\",\"oldpeak\",\"oldpeak\",\"oldpeak\",\"oldpeak\",\"oldpeak\",\"oldpeak\",\"oldpeak\",\"oldpeak\",\"oldpeak\",\"oldpeak\",\"oldpeak\",\"oldpeak\",\"oldpeak\",\"oldpeak\",\"oldpeak\",\"oldpeak\",\"oldpeak\",\"oldpeak\",\"oldpeak\",\"oldpeak\",\"oldpeak\",\"oldpeak\",\"oldpeak\",\"oldpeak\",\"oldpeak\",\"oldpeak\",\"oldpeak\",\"oldpeak\",\"oldpeak\",\"oldpeak\",\"oldpeak\",\"oldpeak\",\"oldpeak\",\"oldpeak\",\"oldpeak\",\"oldpeak\",\"oldpeak\",\"oldpeak\",\"oldpeak\",\"oldpeak\",\"oldpeak\",\"oldpeak\",\"oldpeak\",\"oldpeak\",\"oldpeak\",\"oldpeak\",\"oldpeak\",\"oldpeak\",\"oldpeak\",\"oldpeak\",\"oldpeak\",\"oldpeak\",\"oldpeak\",\"oldpeak\",\"oldpeak\",\"oldpeak\",\"oldpeak\",\"oldpeak\",\"oldpeak\",\"oldpeak\",\"oldpeak\",\"oldpeak\",\"oldpeak\",\"oldpeak\",\"oldpeak\",\"oldpeak\",\"oldpeak\",\"oldpeak\",\"oldpeak\",\"oldpeak\",\"oldpeak\",\"oldpeak\",\"oldpeak\",\"oldpeak\",\"oldpeak\",\"oldpeak\",\"oldpeak\",\"oldpeak\",\"oldpeak\",\"oldpeak\",\"oldpeak\",\"oldpeak\",\"oldpeak\",\"oldpeak\",\"oldpeak\",\"oldpeak\",\"oldpeak\",\"oldpeak\",\"oldpeak\",\"oldpeak\",\"oldpeak\",\"oldpeak\",\"oldpeak\",\"oldpeak\",\"oldpeak\",\"oldpeak\",\"oldpeak\",\"oldpeak\",\"oldpeak\",\"oldpeak\",\"oldpeak\",\"oldpeak\",\"oldpeak\",\"oldpeak\",\"oldpeak\",\"oldpeak\",\"oldpeak\",\"oldpeak\",\"oldpeak\",\"oldpeak\",\"oldpeak\",\"oldpeak\",\"oldpeak\",\"oldpeak\",\"oldpeak\",\"oldpeak\",\"oldpeak\",\"oldpeak\",\"oldpeak\",\"oldpeak\",\"oldpeak\",\"oldpeak\",\"oldpeak\",\"oldpeak\",\"oldpeak\",\"oldpeak\",\"oldpeak\",\"oldpeak\",\"oldpeak\",\"oldpeak\",\"oldpeak\",\"oldpeak\",\"oldpeak\",\"oldpeak\",\"oldpeak\",\"oldpeak\",\"oldpeak\",\"oldpeak\",\"oldpeak\",\"oldpeak\",\"oldpeak\",\"oldpeak\",\"oldpeak\",\"oldpeak\",\"oldpeak\",\"oldpeak\",\"oldpeak\",\"oldpeak\",\"oldpeak\",\"oldpeak\",\"oldpeak\",\"oldpeak\",\"oldpeak\",\"oldpeak\",\"oldpeak\",\"oldpeak\",\"oldpeak\",\"oldpeak\",\"oldpeak\",\"oldpeak\",\"oldpeak\",\"oldpeak\",\"oldpeak\",\"oldpeak\",\"oldpeak\",\"oldpeak\",\"oldpeak\",\"oldpeak\",\"oldpeak\",\"oldpeak\",\"oldpeak\",\"oldpeak\",\"oldpeak\",\"oldpeak\",\"oldpeak\",\"oldpeak\",\"oldpeak\",\"oldpeak\",\"oldpeak\",\"oldpeak\",\"oldpeak\",\"oldpeak\",\"oldpeak\",\"oldpeak\",\"oldpeak\",\"oldpeak\",\"oldpeak\",\"oldpeak\",\"oldpeak\",\"oldpeak\",\"oldpeak\",\"oldpeak\",\"oldpeak\",\"oldpeak\",\"oldpeak\",\"oldpeak\",\"oldpeak\",\"oldpeak\",\"oldpeak\",\"oldpeak\",\"oldpeak\",\"oldpeak\",\"oldpeak\",\"oldpeak\",\"oldpeak\",\"oldpeak\",\"oldpeak\",\"oldpeak\",\"oldpeak\",\"oldpeak\",\"oldpeak\",\"oldpeak\",\"oldpeak\",\"oldpeak\",\"oldpeak\",\"oldpeak\",\"oldpeak\",\"oldpeak\",\"oldpeak\",\"oldpeak\",\"oldpeak\",\"oldpeak\",\"oldpeak\",\"oldpeak\",\"oldpeak\",\"oldpeak\",\"oldpeak\",\"oldpeak\",\"oldpeak\",\"oldpeak\",\"oldpeak\",\"oldpeak\",\"oldpeak\",\"oldpeak\",\"oldpeak\",\"oldpeak\",\"oldpeak\",\"oldpeak\",\"oldpeak\",\"oldpeak\",\"oldpeak\",\"oldpeak\",\"oldpeak\",\"oldpeak\",\"oldpeak\",\"oldpeak\",\"oldpeak\",\"oldpeak\",\"oldpeak\",\"oldpeak\",\"oldpeak\",\"oldpeak\",\"oldpeak\",\"oldpeak\",\"oldpeak\",\"oldpeak\",\"oldpeak\",\"oldpeak\",\"oldpeak\",\"oldpeak\",\"oldpeak\",\"oldpeak\",\"oldpeak\",\"oldpeak\",\"oldpeak\",\"oldpeak\",\"oldpeak\",\"oldpeak\",\"oldpeak\",\"oldpeak\",\"oldpeak\",\"oldpeak\",\"oldpeak\",\"oldpeak\",\"oldpeak\",\"oldpeak\",\"oldpeak\",\"oldpeak\",\"oldpeak\",\"oldpeak\",\"oldpeak\",\"oldpeak\",\"oldpeak\",\"oldpeak\",\"oldpeak\",\"oldpeak\",\"oldpeak\",\"oldpeak\",\"oldpeak\",\"oldpeak\",\"oldpeak\",\"oldpeak\",\"oldpeak\",\"oldpeak\",\"oldpeak\",\"oldpeak\",\"oldpeak\",\"oldpeak\",\"oldpeak\",\"oldpeak\",\"oldpeak\",\"oldpeak\",\"oldpeak\",\"oldpeak\",\"oldpeak\",\"oldpeak\",\"oldpeak\",\"oldpeak\",\"oldpeak\",\"oldpeak\",\"oldpeak\",\"oldpeak\",\"oldpeak\",\"oldpeak\",\"oldpeak\",\"oldpeak\",\"oldpeak\",\"oldpeak\",\"oldpeak\",\"oldpeak\",\"oldpeak\",\"oldpeak\",\"oldpeak\",\"oldpeak\",\"oldpeak\",\"oldpeak\",\"oldpeak\",\"oldpeak\",\"oldpeak\",\"oldpeak\",\"oldpeak\",\"oldpeak\",\"oldpeak\",\"oldpeak\",\"oldpeak\",\"oldpeak\",\"oldpeak\",\"oldpeak\",\"oldpeak\",\"oldpeak\",\"oldpeak\",\"oldpeak\",\"oldpeak\",\"oldpeak\",\"oldpeak\",\"oldpeak\",\"oldpeak\",\"oldpeak\",\"oldpeak\",\"oldpeak\",\"oldpeak\",\"oldpeak\",\"oldpeak\",\"oldpeak\",\"oldpeak\",\"oldpeak\",\"oldpeak\",\"oldpeak\",\"oldpeak\",\"oldpeak\",\"oldpeak\",\"oldpeak\",\"oldpeak\",\"oldpeak\",\"oldpeak\",\"oldpeak\",\"oldpeak\",\"oldpeak\",\"oldpeak\",\"oldpeak\",\"oldpeak\",\"oldpeak\",\"oldpeak\",\"oldpeak\",\"oldpeak\",\"oldpeak\",\"oldpeak\",\"oldpeak\",\"oldpeak\",\"oldpeak\",\"oldpeak\",\"oldpeak\",\"oldpeak\",\"oldpeak\",\"oldpeak\",\"oldpeak\",\"oldpeak\",\"oldpeak\",\"oldpeak\",\"oldpeak\",\"oldpeak\",\"oldpeak\",\"oldpeak\",\"oldpeak\",\"oldpeak\",\"oldpeak\",\"oldpeak\",\"oldpeak\",\"oldpeak\",\"oldpeak\",\"oldpeak\",\"oldpeak\",\"oldpeak\",\"oldpeak\",\"oldpeak\",\"oldpeak\",\"oldpeak\",\"oldpeak\",\"oldpeak\",\"oldpeak\",\"oldpeak\",\"oldpeak\",\"oldpeak\",\"oldpeak\",\"oldpeak\",\"oldpeak\",\"oldpeak\",\"oldpeak\",\"oldpeak\",\"oldpeak\",\"oldpeak\",\"oldpeak\",\"oldpeak\",\"oldpeak\",\"oldpeak\",\"oldpeak\",\"oldpeak\",\"oldpeak\",\"oldpeak\",\"oldpeak\",\"oldpeak\",\"oldpeak\",\"oldpeak\",\"oldpeak\",\"oldpeak\",\"oldpeak\",\"oldpeak\",\"oldpeak\",\"oldpeak\",\"oldpeak\",\"oldpeak\",\"oldpeak\",\"oldpeak\",\"oldpeak\",\"oldpeak\",\"oldpeak\",\"oldpeak\",\"oldpeak\",\"oldpeak\",\"oldpeak\",\"oldpeak\",\"oldpeak\",\"oldpeak\",\"oldpeak\",\"oldpeak\",\"oldpeak\",\"oldpeak\",\"oldpeak\",\"oldpeak\",\"oldpeak\",\"oldpeak\",\"oldpeak\",\"oldpeak\",\"oldpeak\",\"oldpeak\",\"oldpeak\",\"oldpeak\",\"oldpeak\",\"oldpeak\",\"oldpeak\",\"oldpeak\",\"oldpeak\",\"oldpeak\",\"oldpeak\",\"oldpeak\",\"oldpeak\",\"oldpeak\",\"oldpeak\",\"oldpeak\",\"oldpeak\",\"oldpeak\",\"oldpeak\",\"oldpeak\",\"oldpeak\",\"oldpeak\",\"oldpeak\",\"oldpeak\",\"oldpeak\",\"oldpeak\",\"oldpeak\",\"oldpeak\",\"oldpeak\",\"oldpeak\",\"oldpeak\",\"oldpeak\",\"oldpeak\",\"oldpeak\",\"oldpeak\",\"oldpeak\",\"oldpeak\",\"oldpeak\",\"oldpeak\",\"oldpeak\",\"ca\",\"ca\",\"ca\",\"ca\",\"ca\",\"ca\",\"ca\",\"ca\",\"ca\",\"ca\",\"ca\",\"ca\",\"ca\",\"ca\",\"ca\",\"ca\",\"ca\",\"ca\",\"ca\",\"ca\",\"ca\",\"ca\",\"ca\",\"ca\",\"ca\",\"ca\",\"ca\",\"ca\",\"ca\",\"ca\",\"ca\",\"ca\",\"ca\",\"ca\",\"ca\",\"ca\",\"ca\",\"ca\",\"ca\",\"ca\",\"ca\",\"ca\",\"ca\",\"ca\",\"ca\",\"ca\",\"ca\",\"ca\",\"ca\",\"ca\",\"ca\",\"ca\",\"ca\",\"ca\",\"ca\",\"ca\",\"ca\",\"ca\",\"ca\",\"ca\",\"ca\",\"ca\",\"ca\",\"ca\",\"ca\",\"ca\",\"ca\",\"ca\",\"ca\",\"ca\",\"ca\",\"ca\",\"ca\",\"ca\",\"ca\",\"ca\",\"ca\",\"ca\",\"ca\",\"ca\",\"ca\",\"ca\",\"ca\",\"ca\",\"ca\",\"ca\",\"ca\",\"ca\",\"ca\",\"ca\",\"ca\",\"ca\",\"ca\",\"ca\",\"ca\",\"ca\",\"ca\",\"ca\",\"ca\",\"ca\",\"ca\",\"ca\",\"ca\",\"ca\",\"ca\",\"ca\",\"ca\",\"ca\",\"ca\",\"ca\",\"ca\",\"ca\",\"ca\",\"ca\",\"ca\",\"ca\",\"ca\",\"ca\",\"ca\",\"ca\",\"ca\",\"ca\",\"ca\",\"ca\",\"ca\",\"ca\",\"ca\",\"ca\",\"ca\",\"ca\",\"ca\",\"ca\",\"ca\",\"ca\",\"ca\",\"ca\",\"ca\",\"ca\",\"ca\",\"ca\",\"ca\",\"ca\",\"ca\",\"ca\",\"ca\",\"ca\",\"ca\",\"ca\",\"ca\",\"ca\",\"ca\",\"ca\",\"ca\",\"ca\",\"ca\",\"ca\",\"ca\",\"ca\",\"ca\",\"ca\",\"ca\",\"ca\",\"ca\",\"ca\",\"ca\",\"ca\",\"ca\",\"ca\",\"ca\",\"ca\",\"ca\",\"ca\",\"ca\",\"ca\",\"ca\",\"ca\",\"ca\",\"ca\",\"ca\",\"ca\",\"ca\",\"ca\",\"ca\",\"ca\",\"ca\",\"ca\",\"ca\",\"ca\",\"ca\",\"ca\",\"ca\",\"ca\",\"ca\",\"ca\",\"ca\",\"ca\",\"ca\",\"ca\",\"ca\",\"ca\",\"ca\",\"ca\",\"ca\",\"ca\",\"ca\",\"ca\",\"ca\",\"ca\",\"ca\",\"ca\",\"ca\",\"ca\",\"ca\",\"ca\",\"ca\",\"ca\",\"ca\",\"ca\",\"ca\",\"ca\",\"ca\",\"ca\",\"ca\",\"ca\",\"ca\",\"ca\",\"ca\",\"ca\",\"ca\",\"ca\",\"ca\",\"ca\",\"ca\",\"ca\",\"ca\",\"ca\",\"ca\",\"ca\",\"ca\",\"ca\",\"ca\",\"ca\",\"ca\",\"ca\",\"ca\",\"ca\",\"ca\",\"ca\",\"ca\",\"ca\",\"ca\",\"ca\",\"ca\",\"ca\",\"ca\",\"ca\",\"ca\",\"ca\",\"ca\",\"ca\",\"ca\",\"ca\",\"ca\",\"ca\",\"ca\",\"ca\",\"ca\",\"ca\",\"ca\",\"ca\",\"ca\",\"ca\",\"ca\",\"ca\",\"ca\",\"ca\",\"ca\",\"ca\",\"ca\",\"ca\",\"ca\",\"ca\",\"ca\",\"ca\",\"ca\",\"ca\",\"ca\",\"ca\",\"ca\",\"ca\",\"ca\",\"ca\",\"ca\",\"ca\",\"ca\",\"ca\",\"ca\",\"ca\",\"ca\",\"ca\",\"ca\",\"ca\",\"ca\",\"ca\",\"ca\",\"ca\",\"ca\",\"ca\",\"ca\",\"ca\",\"ca\",\"ca\",\"ca\",\"ca\",\"ca\",\"ca\",\"ca\",\"ca\",\"ca\",\"ca\",\"ca\",\"ca\",\"ca\",\"ca\",\"ca\",\"ca\",\"ca\",\"ca\",\"ca\",\"ca\",\"ca\",\"ca\",\"ca\",\"ca\",\"ca\",\"ca\",\"ca\",\"ca\",\"ca\",\"ca\",\"ca\",\"ca\",\"ca\",\"ca\",\"ca\",\"ca\",\"ca\",\"ca\",\"ca\",\"ca\",\"ca\",\"ca\",\"ca\",\"ca\",\"ca\",\"ca\",\"ca\",\"ca\",\"ca\",\"ca\",\"ca\",\"ca\",\"ca\",\"ca\",\"ca\",\"ca\",\"ca\",\"ca\",\"ca\",\"ca\",\"ca\",\"ca\",\"ca\",\"ca\",\"ca\",\"ca\",\"ca\",\"ca\",\"ca\",\"ca\",\"ca\",\"ca\",\"ca\",\"ca\",\"ca\",\"ca\",\"ca\",\"ca\",\"ca\",\"ca\",\"ca\",\"ca\",\"ca\",\"ca\",\"ca\",\"ca\",\"ca\",\"ca\",\"ca\",\"ca\",\"ca\",\"ca\",\"ca\",\"ca\",\"ca\",\"ca\",\"ca\",\"ca\",\"ca\",\"ca\",\"ca\",\"ca\",\"ca\",\"ca\",\"ca\",\"ca\",\"ca\",\"ca\",\"ca\",\"ca\",\"ca\",\"ca\",\"ca\",\"ca\",\"ca\",\"ca\",\"ca\",\"ca\",\"ca\",\"ca\",\"ca\",\"ca\",\"ca\",\"ca\",\"ca\",\"ca\",\"ca\",\"ca\",\"ca\",\"ca\",\"ca\",\"ca\",\"ca\",\"ca\",\"ca\",\"ca\",\"ca\",\"ca\",\"ca\",\"ca\",\"ca\",\"ca\",\"ca\",\"ca\",\"ca\",\"ca\",\"ca\",\"ca\",\"ca\",\"ca\",\"ca\",\"ca\",\"ca\",\"ca\",\"ca\",\"ca\",\"ca\",\"ca\",\"ca\",\"ca\",\"ca\",\"ca\",\"ca\",\"ca\",\"ca\",\"ca\",\"ca\",\"ca\",\"ca\",\"ca\",\"ca\",\"ca\",\"ca\",\"ca\",\"ca\",\"ca\",\"ca\",\"ca\",\"ca\",\"ca\",\"ca\",\"ca\",\"ca\",\"ca\",\"ca\",\"ca\",\"ca\",\"ca\",\"ca\",\"ca\",\"ca\",\"ca\",\"ca\",\"ca\",\"ca\",\"ca\",\"ca\",\"ca\",\"ca\",\"ca\",\"ca\",\"ca\",\"ca\",\"ca\",\"ca\",\"ca\",\"ca\",\"ca\",\"ca\",\"ca\",\"ca\",\"ca\",\"ca\",\"ca\",\"ca\",\"ca\",\"ca\",\"ca\",\"ca\",\"ca\",\"ca\",\"ca\",\"ca\",\"ca\",\"ca\",\"ca\",\"ca\",\"ca\",\"ca\",\"ca\",\"ca\",\"ca\",\"ca\",\"ca\",\"ca\",\"ca\",\"ca\",\"ca\",\"ca\",\"ca\",\"ca\",\"ca\",\"ca\",\"ca\",\"ca\",\"ca\",\"ca\",\"ca\",\"ca\",\"ca\",\"ca\",\"ca\",\"ca\",\"ca\",\"ca\",\"ca\",\"ca\",\"ca\",\"ca\",\"ca\",\"ca\",\"ca\",\"ca\",\"ca\",\"ca\",\"ca\",\"ca\",\"ca\",\"ca\",\"ca\",\"ca\",\"ca\",\"ca\",\"ca\",\"ca\",\"ca\",\"ca\",\"ca\",\"ca\",\"ca\",\"ca\",\"ca\",\"ca\",\"ca\",\"ca\",\"ca\",\"ca\",\"ca\",\"ca\",\"ca\",\"ca\",\"ca\",\"ca\",\"ca\",\"ca\",\"ca\",\"ca\",\"ca\",\"ca\",\"ca\",\"ca\",\"ca\",\"ca\",\"ca\",\"ca\",\"ca\",\"ca\",\"ca\",\"ca\",\"ca\",\"ca\",\"ca\",\"ca\",\"ca\",\"ca\",\"ca\",\"ca\",\"ca\",\"ca\",\"ca\",\"ca\",\"ca\",\"ca\",\"ca\",\"ca\",\"ca\",\"ca\",\"ca\",\"ca\",\"ca\",\"ca\",\"ca\",\"ca\",\"ca\",\"ca\",\"ca\",\"ca\",\"ca\",\"ca\",\"ca\",\"ca\",\"ca\",\"ca\",\"ca\",\"ca\",\"ca\",\"ca\",\"ca\",\"ca\",\"ca\",\"ca\",\"ca\",\"ca\",\"ca\",\"ca\",\"ca\",\"ca\",\"ca\",\"ca\",\"ca\",\"ca\",\"ca\",\"ca\",\"ca\",\"ca\",\"ca\",\"ca\",\"ca\",\"ca\",\"ca\",\"ca\",\"ca\",\"ca\",\"ca\",\"ca\",\"ca\",\"ca\",\"ca\",\"ca\",\"ca\",\"ca\",\"ca\",\"ca\",\"ca\",\"ca\",\"ca\",\"ca\",\"ca\",\"ca\",\"ca\",\"ca\",\"ca\",\"ca\",\"ca\",\"ca\",\"ca\",\"ca\",\"ca\",\"ca\",\"ca\",\"ca\",\"ca\",\"ca\",\"ca\",\"ca\",\"ca\",\"ca\",\"ca\",\"ca\",\"ca\",\"ca\",\"ca\",\"ca\",\"ca\",\"ca\",\"ca\",\"ca\",\"ca\",\"ca\",\"ca\",\"ca\",\"ca\",\"ca\",\"ca\",\"ca\",\"ca\",\"ca\",\"ca\",\"ca\",\"ca\",\"ca\",\"ca\",\"ca\",\"ca\",\"ca\",\"ca\",\"ca\",\"ca\",\"ca\",\"ca\",\"ca\",\"ca\",\"ca\",\"ca\",\"ca\",\"ca\",\"ca\",\"ca\",\"ca\",\"ca\",\"ca\",\"ca\",\"ca\",\"ca\",\"ca\",\"ca\",\"ca\",\"ca\",\"ca\",\"ca\",\"ca\",\"ca\",\"ca\",\"ca\",\"ca\",\"ca\",\"ca\",\"ca\",\"ca\",\"ca\",\"ca\",\"ca\",\"ca\",\"ca\",\"ca\",\"ca\",\"ca\",\"ca\",\"ca\",\"ca\",\"ca\",\"ca\",\"ca\",\"ca\",\"ca\",\"ca\",\"ca\",\"ca\",\"ca\",\"ca\",\"ca\",\"ca\",\"ca\",\"ca\",\"ca\",\"ca\",\"ca\",\"ca\",\"ca\",\"ca\",\"ca\",\"ca\",\"ca\",\"ca\",\"ca\",\"ca\",\"ca\",\"ca\",\"ca\",\"ca\",\"ca\",\"ca\",\"ca\",\"ca\",\"ca\",\"ca\",\"ca\",\"ca\",\"ca\",\"ca\",\"ca\",\"ca\",\"ca\",\"ca\",\"ca\",\"ca\",\"ca\",\"ca\",\"ca\",\"ca\",\"ca\",\"ca\",\"ca\",\"ca\",\"ca\",\"ca\",\"ca\",\"ca\",\"ca\",\"ca\",\"ca\",\"ca\",\"ca\",\"ca\",\"ca\",\"ca\",\"ca\",\"ca\",\"ca\",\"ca\",\"ca\",\"ca\",\"ca\",\"ca\",\"ca\",\"ca\",\"ca\",\"ca\",\"ca\",\"ca\",\"ca\",\"ca\",\"ca\",\"ca\",\"ca\",\"ca\",\"ca\",\"ca\",\"ca\",\"ca\",\"ca\",\"ca\",\"ca\",\"ca\",\"ca\",\"ca\",\"ca\",\"ca\",\"ca\",\"ca\",\"ca\",\"ca\",\"ca\",\"ca\",\"ca\",\"ca\",\"ca\",\"ca\",\"ca\",\"ca\",\"ca\",\"ca\",\"ca\",\"ca\",\"ca\",\"ca\",\"ca\",\"ca\",\"ca\",\"ca\",\"ca\",\"ca\",\"ca\",\"ca\",\"ca\",\"ca\",\"ca\",\"ca\",\"ca\",\"ca\",\"num\",\"num\",\"num\",\"num\",\"num\",\"num\",\"num\",\"num\",\"num\",\"num\",\"num\",\"num\",\"num\",\"num\",\"num\",\"num\",\"num\",\"num\",\"num\",\"num\",\"num\",\"num\",\"num\",\"num\",\"num\",\"num\",\"num\",\"num\",\"num\",\"num\",\"num\",\"num\",\"num\",\"num\",\"num\",\"num\",\"num\",\"num\",\"num\",\"num\",\"num\",\"num\",\"num\",\"num\",\"num\",\"num\",\"num\",\"num\",\"num\",\"num\",\"num\",\"num\",\"num\",\"num\",\"num\",\"num\",\"num\",\"num\",\"num\",\"num\",\"num\",\"num\",\"num\",\"num\",\"num\",\"num\",\"num\",\"num\",\"num\",\"num\",\"num\",\"num\",\"num\",\"num\",\"num\",\"num\",\"num\",\"num\",\"num\",\"num\",\"num\",\"num\",\"num\",\"num\",\"num\",\"num\",\"num\",\"num\",\"num\",\"num\",\"num\",\"num\",\"num\",\"num\",\"num\",\"num\",\"num\",\"num\",\"num\",\"num\",\"num\",\"num\",\"num\",\"num\",\"num\",\"num\",\"num\",\"num\",\"num\",\"num\",\"num\",\"num\",\"num\",\"num\",\"num\",\"num\",\"num\",\"num\",\"num\",\"num\",\"num\",\"num\",\"num\",\"num\",\"num\",\"num\",\"num\",\"num\",\"num\",\"num\",\"num\",\"num\",\"num\",\"num\",\"num\",\"num\",\"num\",\"num\",\"num\",\"num\",\"num\",\"num\",\"num\",\"num\",\"num\",\"num\",\"num\",\"num\",\"num\",\"num\",\"num\",\"num\",\"num\",\"num\",\"num\",\"num\",\"num\",\"num\",\"num\",\"num\",\"num\",\"num\",\"num\",\"num\",\"num\",\"num\",\"num\",\"num\",\"num\",\"num\",\"num\",\"num\",\"num\",\"num\",\"num\",\"num\",\"num\",\"num\",\"num\",\"num\",\"num\",\"num\",\"num\",\"num\",\"num\",\"num\",\"num\",\"num\",\"num\",\"num\",\"num\",\"num\",\"num\",\"num\",\"num\",\"num\",\"num\",\"num\",\"num\",\"num\",\"num\",\"num\",\"num\",\"num\",\"num\",\"num\",\"num\",\"num\",\"num\",\"num\",\"num\",\"num\",\"num\",\"num\",\"num\",\"num\",\"num\",\"num\",\"num\",\"num\",\"num\",\"num\",\"num\",\"num\",\"num\",\"num\",\"num\",\"num\",\"num\",\"num\",\"num\",\"num\",\"num\",\"num\",\"num\",\"num\",\"num\",\"num\",\"num\",\"num\",\"num\",\"num\",\"num\",\"num\",\"num\",\"num\",\"num\",\"num\",\"num\",\"num\",\"num\",\"num\",\"num\",\"num\",\"num\",\"num\",\"num\",\"num\",\"num\",\"num\",\"num\",\"num\",\"num\",\"num\",\"num\",\"num\",\"num\",\"num\",\"num\",\"num\",\"num\",\"num\",\"num\",\"num\",\"num\",\"num\",\"num\",\"num\",\"num\",\"num\",\"num\",\"num\",\"num\",\"num\",\"num\",\"num\",\"num\",\"num\",\"num\",\"num\",\"num\",\"num\",\"num\",\"num\",\"num\",\"num\",\"num\",\"num\",\"num\",\"num\",\"num\",\"num\",\"num\",\"num\",\"num\",\"num\",\"num\",\"num\",\"num\",\"num\",\"num\",\"num\",\"num\",\"num\",\"num\",\"num\",\"num\",\"num\",\"num\",\"num\",\"num\",\"num\",\"num\",\"num\",\"num\",\"num\",\"num\",\"num\",\"num\",\"num\",\"num\",\"num\",\"num\",\"num\",\"num\",\"num\",\"num\",\"num\",\"num\",\"num\",\"num\",\"num\",\"num\",\"num\",\"num\",\"num\",\"num\",\"num\",\"num\",\"num\",\"num\",\"num\",\"num\",\"num\",\"num\",\"num\",\"num\",\"num\",\"num\",\"num\",\"num\",\"num\",\"num\",\"num\",\"num\",\"num\",\"num\",\"num\",\"num\",\"num\",\"num\",\"num\",\"num\",\"num\",\"num\",\"num\",\"num\",\"num\",\"num\",\"num\",\"num\",\"num\",\"num\",\"num\",\"num\",\"num\",\"num\",\"num\",\"num\",\"num\",\"num\",\"num\",\"num\",\"num\",\"num\",\"num\",\"num\",\"num\",\"num\",\"num\",\"num\",\"num\",\"num\",\"num\",\"num\",\"num\",\"num\",\"num\",\"num\",\"num\",\"num\",\"num\",\"num\",\"num\",\"num\",\"num\",\"num\",\"num\",\"num\",\"num\",\"num\",\"num\",\"num\",\"num\",\"num\",\"num\",\"num\",\"num\",\"num\",\"num\",\"num\",\"num\",\"num\",\"num\",\"num\",\"num\",\"num\",\"num\",\"num\",\"num\",\"num\",\"num\",\"num\",\"num\",\"num\",\"num\",\"num\",\"num\",\"num\",\"num\",\"num\",\"num\",\"num\",\"num\",\"num\",\"num\",\"num\",\"num\",\"num\",\"num\",\"num\",\"num\",\"num\",\"num\",\"num\",\"num\",\"num\",\"num\",\"num\",\"num\",\"num\",\"num\",\"num\",\"num\",\"num\",\"num\",\"num\",\"num\",\"num\",\"num\",\"num\",\"num\",\"num\",\"num\",\"num\",\"num\",\"num\",\"num\",\"num\",\"num\",\"num\",\"num\",\"num\",\"num\",\"num\",\"num\",\"num\",\"num\",\"num\",\"num\",\"num\",\"num\",\"num\",\"num\",\"num\",\"num\",\"num\",\"num\",\"num\",\"num\",\"num\",\"num\",\"num\",\"num\",\"num\",\"num\",\"num\",\"num\",\"num\",\"num\",\"num\",\"num\",\"num\",\"num\",\"num\",\"num\",\"num\",\"num\",\"num\",\"num\",\"num\",\"num\",\"num\",\"num\",\"num\",\"num\",\"num\",\"num\",\"num\",\"num\",\"num\",\"num\",\"num\",\"num\",\"num\",\"num\",\"num\",\"num\",\"num\",\"num\",\"num\",\"num\",\"num\",\"num\",\"num\",\"num\",\"num\",\"num\",\"num\",\"num\",\"num\",\"num\",\"num\",\"num\",\"num\",\"num\",\"num\",\"num\",\"num\",\"num\",\"num\",\"num\",\"num\",\"num\",\"num\",\"num\",\"num\",\"num\",\"num\",\"num\",\"num\",\"num\",\"num\",\"num\",\"num\",\"num\",\"num\",\"num\",\"num\",\"num\",\"num\",\"num\",\"num\",\"num\",\"num\",\"num\",\"num\",\"num\",\"num\",\"num\",\"num\",\"num\",\"num\",\"num\",\"num\",\"num\",\"num\",\"num\",\"num\",\"num\",\"num\",\"num\",\"num\",\"num\",\"num\",\"num\",\"num\",\"num\",\"num\",\"num\",\"num\",\"num\",\"num\",\"num\",\"num\",\"num\",\"num\",\"num\",\"num\",\"num\",\"num\",\"num\",\"num\",\"num\",\"num\",\"num\",\"num\",\"num\",\"num\",\"num\",\"num\",\"num\",\"num\",\"num\",\"num\",\"num\",\"num\",\"num\",\"num\",\"num\",\"num\",\"num\",\"num\",\"num\",\"num\",\"num\",\"num\",\"num\",\"num\",\"num\",\"num\",\"num\",\"num\",\"num\",\"num\",\"num\",\"num\",\"num\",\"num\",\"num\",\"num\",\"num\",\"num\",\"num\",\"num\",\"num\",\"num\",\"num\",\"num\",\"num\",\"num\",\"num\",\"num\",\"num\",\"num\",\"num\",\"num\",\"num\",\"num\",\"num\",\"num\",\"num\",\"num\",\"num\",\"num\",\"num\",\"num\",\"num\",\"num\",\"num\",\"num\",\"num\",\"num\",\"num\",\"num\",\"num\",\"num\",\"num\",\"num\",\"num\",\"num\",\"num\",\"num\",\"num\",\"num\",\"num\",\"num\",\"num\",\"num\",\"num\",\"num\",\"num\",\"num\",\"num\",\"num\",\"num\",\"num\",\"num\",\"num\",\"num\",\"num\",\"num\",\"num\",\"num\",\"num\",\"num\",\"num\",\"num\",\"num\",\"num\",\"num\",\"num\",\"num\",\"num\",\"num\",\"num\",\"num\",\"num\",\"num\",\"num\",\"num\",\"num\",\"num\",\"num\",\"num\",\"num\",\"num\",\"num\",\"num\",\"num\",\"num\",\"num\",\"num\",\"num\",\"num\",\"num\",\"num\",\"num\",\"num\",\"num\",\"num\",\"num\",\"num\",\"num\",\"num\",\"num\",\"num\",\"num\",\"num\",\"num\",\"num\",\"num\",\"num\",\"num\",\"num\",\"num\",\"num\",\"num\",\"num\",\"num\",\"num\",\"num\",\"num\",\"num\",\"num\",\"num\",\"num\",\"num\",\"num\",\"num\",\"num\",\"num\",\"num\",\"num\",\"num\",\"num\",\"num\",\"num\",\"num\",\"num\",\"num\",\"num\",\"num\",\"num\",\"num\",\"num\",\"num\",\"num\",\"num\",\"num\",\"num\",\"num\",\"num\",\"num\",\"num\",\"num\",\"num\",\"num\",\"num\",\"num\",\"num\",\"num\",\"num\",\"num\",\"num\",\"num\",\"num\",\"num\",\"num\",\"num\",\"num\",\"num\",\"num\",\"num\",\"num\",\"num\",\"num\",\"num\",\"num\",\"num\",\"num\",\"num\",\"num\",\"num\",\"num\",\"num\",\"num\",\"num\",\"num\",\"num\",\"num\",\"num\",\"num\",\"num\",\"num\",\"num\",\"num\",\"num\",\"num\",\"num\",\"num\",\"num\",\"num\",\"num\",\"num\",\"num\",\"num\",\"num\",\"num\",\"num\",\"num\",\"num\",\"num\",\"num\",\"num\",\"num\",\"num\",\"num\",\"num\",\"num\",\"num\",\"num\",\"num\",\"num\",\"num\",\"num\",\"num\",\"num\",\"num\",\"num\",\"num\",\"num\",\"num\",\"num\",\"num\",\"num\",\"num\",\"num\",\"num\",\"num\",\"num\",\"num\",\"num\",\"num\",\"num\",\"num\",\"num\",\"num\",\"num\",\"num\"],\"x0\":\" \",\"xaxis\":\"x\",\"y\":[63.0,67.0,67.0,37.0,41.0,56.0,62.0,57.0,63.0,53.0,57.0,56.0,56.0,44.0,52.0,57.0,48.0,54.0,48.0,49.0,64.0,58.0,58.0,58.0,60.0,50.0,58.0,66.0,43.0,40.0,69.0,60.0,64.0,59.0,44.0,42.0,43.0,57.0,55.0,61.0,65.0,40.0,71.0,59.0,61.0,58.0,51.0,50.0,65.0,53.0,41.0,65.0,44.0,44.0,60.0,54.0,50.0,41.0,54.0,51.0,51.0,46.0,58.0,54.0,54.0,60.0,60.0,54.0,59.0,46.0,65.0,67.0,62.0,65.0,44.0,65.0,60.0,51.0,48.0,58.0,45.0,53.0,39.0,68.0,52.0,44.0,47.0,53.0,53.0,51.0,66.0,62.0,62.0,44.0,63.0,52.0,59.0,60.0,52.0,48.0,45.0,34.0,57.0,71.0,49.0,54.0,59.0,57.0,61.0,39.0,61.0,56.0,52.0,43.0,62.0,41.0,58.0,35.0,63.0,65.0,48.0,63.0,51.0,55.0,65.0,45.0,56.0,54.0,44.0,62.0,54.0,51.0,29.0,51.0,43.0,55.0,70.0,62.0,35.0,51.0,59.0,59.0,52.0,64.0,58.0,47.0,57.0,41.0,45.0,60.0,52.0,42.0,67.0,55.0,64.0,70.0,51.0,58.0,60.0,68.0,46.0,77.0,54.0,58.0,48.0,57.0,52.0,54.0,35.0,45.0,70.0,53.0,59.0,62.0,64.0,57.0,52.0,56.0,43.0,53.0,48.0,56.0,42.0,59.0,60.0,63.0,42.0,66.0,54.0,69.0,50.0,51.0,43.0,62.0,68.0,67.0,69.0,45.0,50.0,59.0,50.0,64.0,57.0,64.0,43.0,45.0,58.0,50.0,55.0,62.0,37.0,38.0,41.0,66.0,52.0,56.0,46.0,46.0,64.0,59.0,41.0,54.0,39.0,53.0,63.0,34.0,47.0,67.0,54.0,66.0,52.0,55.0,49.0,74.0,54.0,54.0,56.0,46.0,49.0,42.0,41.0,41.0,49.0,61.0,60.0,67.0,58.0,47.0,52.0,62.0,57.0,58.0,64.0,51.0,43.0,42.0,67.0,76.0,70.0,57.0,44.0,58.0,60.0,44.0,61.0,42.0,52.0,59.0,40.0,42.0,61.0,66.0,46.0,71.0,59.0,64.0,66.0,39.0,57.0,58.0,57.0,47.0,55.0,35.0,61.0,58.0,58.0,58.0,56.0,56.0,67.0,55.0,44.0,63.0,63.0,41.0,59.0,57.0,45.0,68.0,57.0,57.0,38.0,28.0,29.0,29.0,30.0,31.0,32.0,32.0,32.0,33.0,34.0,34.0,34.0,35.0,35.0,35.0,35.0,36.0,36.0,36.0,36.0,37.0,37.0,37.0,37.0,37.0,37.0,37.0,38.0,38.0,38.0,39.0,39.0,39.0,39.0,39.0,39.0,39.0,39.0,39.0,39.0,40.0,40.0,40.0,40.0,40.0,41.0,41.0,41.0,41.0,41.0,41.0,41.0,42.0,42.0,42.0,42.0,42.0,42.0,42.0,43.0,43.0,43.0,43.0,43.0,43.0,43.0,43.0,44.0,44.0,44.0,44.0,45.0,45.0,45.0,45.0,45.0,45.0,45.0,46.0,46.0,46.0,46.0,46.0,46.0,46.0,47.0,47.0,47.0,47.0,47.0,48.0,48.0,48.0,48.0,48.0,48.0,48.0,48.0,48.0,48.0,48.0,49.0,49.0,49.0,49.0,49.0,49.0,49.0,49.0,50.0,50.0,50.0,50.0,50.0,50.0,50.0,51.0,51.0,51.0,51.0,51.0,51.0,51.0,52.0,52.0,52.0,52.0,52.0,52.0,52.0,52.0,53.0,53.0,53.0,53.0,53.0,53.0,53.0,53.0,53.0,54.0,54.0,54.0,54.0,54.0,54.0,54.0,54.0,54.0,54.0,54.0,54.0,54.0,54.0,54.0,54.0,55.0,55.0,55.0,55.0,55.0,55.0,55.0,55.0,55.0,55.0,56.0,56.0,56.0,56.0,56.0,57.0,57.0,57.0,58.0,58.0,58.0,58.0,59.0,59.0,59.0,59.0,59.0,60.0,61.0,61.0,62.0,62.0,31.0,33.0,34.0,35.0,36.0,37.0,38.0,38.0,38.0,40.0,41.0,41.0,43.0,46.0,46.0,46.0,47.0,47.0,48.0,48.0,48.0,49.0,49.0,49.0,50.0,50.0,51.0,52.0,54.0,54.0,55.0,57.0,58.0,59.0,60.0,63.0,65.0,32.0,38.0,39.0,40.0,43.0,45.0,46.0,46.0,48.0,48.0,48.0,48.0,50.0,52.0,52.0,53.0,54.0,54.0,54.0,54.0,54.0,55.0,56.0,57.0,58.0,58.0,41.0,43.0,44.0,44.0,46.0,47.0,48.0,49.0,49.0,51.0,52.0,52.0,52.0,52.0,53.0,53.0,54.0,55.0,55.0,55.0,56.0,56.0,56.0,58.0,59.0,59.0,65.0,66.0,41.0,43.0,44.0,47.0,47.0,49.0,49.0,50.0,50.0,52.0,52.0,54.0,56.0,58.0,65.0,32.0,34.0,35.0,36.0,38.0,38.0,38.0,38.0,38.0,38.0,40.0,41.0,42.0,42.0,43.0,43.0,43.0,45.0,46.0,46.0,47.0,47.0,47.0,47.0,48.0,50.0,50.0,50.0,50.0,51.0,51.0,51.0,51.0,51.0,51.0,51.0,52.0,52.0,52.0,52.0,53.0,53.0,53.0,53.0,53.0,53.0,53.0,53.0,54.0,54.0,54.0,55.0,55.0,55.0,55.0,56.0,56.0,56.0,56.0,56.0,56.0,56.0,56.0,57.0,57.0,57.0,57.0,57.0,57.0,58.0,58.0,58.0,59.0,59.0,59.0,59.0,59.0,60.0,60.0,60.0,60.0,60.0,60.0,61.0,61.0,61.0,61.0,61.0,61.0,61.0,61.0,61.0,62.0,62.0,62.0,62.0,62.0,62.0,62.0,63.0,63.0,63.0,63.0,63.0,64.0,64.0,64.0,65.0,65.0,65.0,65.0,66.0,66.0,67.0,68.0,68.0,69.0,69.0,70.0,70.0,72.0,73.0,74.0,63.0,44.0,60.0,55.0,66.0,66.0,65.0,60.0,60.0,60.0,56.0,59.0,62.0,63.0,57.0,62.0,63.0,46.0,63.0,60.0,58.0,64.0,63.0,74.0,52.0,69.0,51.0,60.0,56.0,55.0,54.0,77.0,63.0,55.0,52.0,64.0,60.0,60.0,58.0,59.0,61.0,40.0,61.0,41.0,57.0,63.0,59.0,51.0,59.0,42.0,55.0,63.0,62.0,56.0,53.0,68.0,53.0,60.0,62.0,59.0,51.0,61.0,57.0,56.0,58.0,69.0,67.0,58.0,65.0,63.0,55.0,57.0,65.0,54.0,72.0,75.0,49.0,51.0,60.0,64.0,58.0,61.0,67.0,62.0,65.0,63.0,69.0,51.0,62.0,55.0,75.0,40.0,67.0,58.0,60.0,63.0,35.0,62.0,43.0,63.0,68.0,65.0,48.0,63.0,64.0,61.0,50.0,59.0,55.0,45.0,65.0,61.0,49.0,72.0,50.0,64.0,55.0,63.0,59.0,56.0,62.0,74.0,54.0,57.0,62.0,76.0,54.0,70.0,61.0,48.0,48.0,61.0,66.0,68.0,55.0,62.0,71.0,74.0,53.0,58.0,75.0,56.0,58.0,64.0,54.0,54.0,59.0,55.0,57.0,61.0,41.0,71.0,38.0,55.0,56.0,69.0,64.0,72.0,69.0,56.0,62.0,67.0,57.0,69.0,51.0,48.0,69.0,69.0,64.0,57.0,53.0,37.0,67.0,74.0,63.0,58.0,61.0,64.0,58.0,60.0,57.0,55.0,55.0,56.0,57.0,61.0,61.0,58.0,74.0,68.0,51.0,62.0,53.0,62.0,46.0,54.0,62.0,55.0,58.0,62.0,145.0,160.0,120.0,130.0,130.0,120.0,140.0,120.0,130.0,140.0,140.0,140.0,130.0,120.0,172.0,150.0,110.0,140.0,130.0,130.0,110.0,150.0,120.0,132.0,130.0,120.0,120.0,150.0,150.0,110.0,140.0,117.0,140.0,135.0,130.0,140.0,120.0,150.0,132.0,150.0,150.0,140.0,160.0,150.0,130.0,112.0,110.0,150.0,140.0,130.0,105.0,120.0,112.0,130.0,130.0,124.0,140.0,110.0,125.0,125.0,130.0,142.0,128.0,135.0,120.0,145.0,140.0,150.0,170.0,150.0,155.0,125.0,120.0,110.0,110.0,160.0,125.0,140.0,130.0,150.0,104.0,130.0,140.0,180.0,120.0,140.0,138.0,128.0,138.0,130.0,120.0,160.0,130.0,108.0,135.0,128.0,110.0,150.0,134.0,122.0,115.0,118.0,128.0,110.0,120.0,108.0,140.0,128.0,120.0,118.0,145.0,125.0,118.0,132.0,130.0,135.0,140.0,138.0,130.0,135.0,130.0,150.0,100.0,140.0,138.0,130.0,200.0,110.0,120.0,124.0,120.0,94.0,130.0,140.0,122.0,135.0,145.0,120.0,120.0,125.0,140.0,170.0,128.0,125.0,105.0,108.0,165.0,112.0,128.0,102.0,152.0,102.0,115.0,160.0,120.0,130.0,140.0,125.0,140.0,118.0,101.0,125.0,110.0,100.0,124.0,132.0,138.0,132.0,126.0,112.0,160.0,142.0,174.0,140.0,145.0,152.0,108.0,132.0,130.0,130.0,124.0,134.0,148.0,178.0,158.0,140.0,120.0,160.0,192.0,140.0,129.0,140.0,132.0,138.0,120.0,100.0,160.0,138.0,120.0,160.0,110.0,180.0,150.0,140.0,110.0,142.0,128.0,144.0,130.0,150.0,120.0,120.0,130.0,178.0,112.0,120.0,105.0,138.0,130.0,138.0,112.0,108.0,94.0,123.0,108.0,118.0,112.0,152.0,110.0,112.0,136.0,180.0,118.0,120.0,160.0,122.0,130.0,120.0,134.0,120.0,110.0,126.0,130.0,134.0,120.0,120.0,100.0,110.0,125.0,128.0,110.0,146.0,128.0,120.0,115.0,120.0,106.0,140.0,156.0,124.0,118.0,136.0,150.0,120.0,138.0,136.0,128.0,126.0,152.0,130.0,140.0,160.0,140.0,112.0,134.0,170.0,146.0,138.0,154.0,130.0,110.0,130.0,128.0,122.0,148.0,114.0,170.0,125.0,130.0,120.0,152.0,132.0,120.0,140.0,124.0,120.0,164.0,140.0,110.0,144.0,130.0,130.0,138.0,130.0,120.0,140.0,170.0,100.0,105.0,110.0,125.0,120.0,130.0,150.0,98.0,120.0,140.0,120.0,150.0,120.0,112.0,130.0,150.0,120.0,130.0,130.0,130.0,130.0,120.0,130.0,120.0,140.0,145.0,110.0,120.0,120.0,120.0,130.0,190.0,120.0,160.0,110.0,130.0,130.0,140.0,130.0,130.0,140.0,110.0,125.0,130.0,120.0,120.0,125.0,112.0,115.0,120.0,120.0,150.0,120.0,160.0,140.0,100.0,120.0,120.0,120.0,120.0,150.0,150.0,142.0,120.0,120.0,130.0,150.0,130.0,180.0,132.0,140.0,135.0,120.0,140.0,130.0,140.0,120.0,150.0,110.0,110.0,180.0,140.0,130.0,110.0,160.0,140.0,null,120.0,120.0,120.0,108.0,120.0,150.0,100.0,130.0,140.0,110.0,110.0,110.0,124.0,130.0,100.0,140.0,120.0,140.0,110.0,120.0,120.0,140.0,170.0,140.0,150.0,160.0,110.0,130.0,150.0,125.0,130.0,130.0,120.0,140.0,125.0,130.0,120.0,140.0,160.0,140.0,113.0,140.0,120.0,120.0,140.0,120.0,124.0,130.0,140.0,120.0,120.0,120.0,130.0,140.0,150.0,160.0,120.0,110.0,120.0,120.0,160.0,160.0,120.0,150.0,150.0,110.0,122.0,130.0,120.0,140.0,145.0,110.0,120.0,120.0,140.0,130.0,130.0,130.0,130.0,120.0,130.0,180.0,140.0,130.0,130.0,140.0,135.0,130.0,140.0,130.0,180.0,140.0,120.0,130.0,125.0,160.0,140.0,120.0,100.0,140.0,110.0,120.0,140.0,110.0,120.0,92.0,120.0,110.0,120.0,150.0,110.0,118.0,120.0,140.0,150.0,106.0,120.0,160.0,160.0,115.0,130.0,140.0,145.0,160.0,130.0,125.0,125.0,140.0,140.0,130.0,130.0,100.0,150.0,140.0,118.0,110.0,110.0,150.0,120.0,130.0,120.0,130.0,122.0,160.0,160.0,160.0,130.0,120.0,170.0,120.0,120.0,130.0,130.0,140.0,200.0,140.0,150.0,150.0,160.0,130.0,130.0,120.0,150.0,130.0,140.0,135.0,138.0,130.0,140.0,135.0,112.0,130.0,140.0,160.0,145.0,180.0,140.0,140.0,160.0,145.0,120.0,150.0,170.0,136.0,130.0,140.0,170.0,140.0,120.0,140.0,135.0,120.0,160.0,128.0,150.0,140.0,140.0,140.0,160.0,130.0,155.0,180.0,130.0,95.0,115.0,null,110.0,105.0,110.0,100.0,115.0,135.0,150.0,95.0,125.0,105.0,145.0,100.0,115.0,140.0,110.0,100.0,115.0,110.0,155.0,110.0,160.0,115.0,160.0,115.0,120.0,145.0,120.0,110.0,120.0,130.0,130.0,140.0,95.0,130.0,135.0,165.0,95.0,120.0,130.0,105.0,160.0,120.0,125.0,130.0,80.0,120.0,130.0,180.0,140.0,115.0,120.0,140.0,120.0,125.0,155.0,115.0,120.0,120.0,125.0,140.0,105.0,110.0,140.0,140.0,160.0,95.0,115.0,130.0,170.0,125.0,110.0,120.0,125.0,135.0,115.0,125.0,130.0,135.0,160.0,160.0,200.0,105.0,110.0,125.0,130.0,130.0,150.0,150.0,160.0,140.0,120.0,120.0,160.0,115.0,115.0,150.0,100.0,140.0,150.0,150.0,185.0,200.0,95.0,110.0,115.0,145.0,155.0,160.0,155.0,150.0,145.0,135.0,145.0,135.0,null,115.0,140.0,160.0,160.0,145.0,140.0,130.0,132.0,142.0,110.0,120.0,150.0,180.0,120.0,160.0,126.0,140.0,110.0,null,128.0,120.0,170.0,110.0,126.0,152.0,116.0,120.0,130.0,null,128.0,130.0,null,130.0,120.0,null,null,124.0,160.0,0.0,122.0,144.0,null,120.0,null,154.0,120.0,125.0,null,104.0,null,136.0,122.0,128.0,null,134.0,120.0,null,152.0,124.0,126.0,138.0,154.0,null,null,178.0,null,110.0,130.0,170.0,126.0,140.0,142.0,120.0,null,null,110.0,140.0,null,136.0,120.0,170.0,130.0,null,142.0,142.0,132.0,146.0,160.0,135.0,136.0,130.0,140.0,null,158.0,null,136.0,106.0,120.0,110.0,null,160.0,null,112.0,122.0,130.0,150.0,150.0,102.0,96.0,130.0,120.0,144.0,124.0,150.0,null,null,null,null,null,null,null,116.0,110.0,125.0,null,null,150.0,130.0,110.0,null,104.0,138.0,170.0,140.0,null,132.0,142.0,112.0,null,172.0,120.0,null,null,155.0,150.0,160.0,null,null,134.0,null,null,140.0,null,144.0,null,150.0,130.0,110.0,158.0,128.0,null,150.0,160.0,null,null,null,null,156.0,null,null,140.0,122.0,null,null,180.0,124.0,118.0,140.0,140.0,null,100.0,190.0,130.0,160.0,130.0,122.0,null,120.0,130.0,130.0,null,120.0,150.0,155.0,134.0,114.0,160.0,144.0,158.0,134.0,127.0,null,122.0,null,120.0,233.0,286.0,229.0,250.0,204.0,236.0,268.0,354.0,254.0,203.0,192.0,294.0,256.0,263.0,199.0,168.0,229.0,239.0,275.0,266.0,211.0,283.0,284.0,224.0,206.0,219.0,340.0,226.0,247.0,167.0,239.0,230.0,335.0,234.0,233.0,226.0,177.0,276.0,353.0,243.0,225.0,199.0,302.0,212.0,330.0,230.0,175.0,243.0,417.0,197.0,198.0,177.0,290.0,219.0,253.0,266.0,233.0,172.0,273.0,213.0,305.0,177.0,216.0,304.0,188.0,282.0,185.0,232.0,326.0,231.0,269.0,254.0,267.0,248.0,197.0,360.0,258.0,308.0,245.0,270.0,208.0,264.0,321.0,274.0,325.0,235.0,257.0,216.0,234.0,256.0,302.0,164.0,231.0,141.0,252.0,255.0,239.0,258.0,201.0,222.0,260.0,182.0,303.0,265.0,188.0,309.0,177.0,229.0,260.0,219.0,307.0,249.0,186.0,341.0,263.0,203.0,211.0,183.0,330.0,254.0,256.0,407.0,222.0,217.0,282.0,234.0,288.0,239.0,220.0,209.0,258.0,227.0,204.0,261.0,213.0,250.0,174.0,281.0,198.0,245.0,221.0,288.0,205.0,309.0,240.0,243.0,289.0,250.0,308.0,318.0,298.0,265.0,564.0,289.0,246.0,322.0,299.0,300.0,293.0,277.0,197.0,304.0,214.0,248.0,255.0,207.0,223.0,288.0,282.0,160.0,269.0,226.0,249.0,394.0,212.0,274.0,233.0,184.0,315.0,246.0,274.0,409.0,244.0,270.0,305.0,195.0,240.0,246.0,283.0,254.0,196.0,298.0,247.0,294.0,211.0,299.0,234.0,236.0,244.0,273.0,254.0,325.0,126.0,313.0,211.0,309.0,259.0,200.0,262.0,244.0,215.0,231.0,214.0,228.0,230.0,193.0,204.0,243.0,303.0,271.0,268.0,267.0,199.0,282.0,269.0,210.0,204.0,277.0,206.0,212.0,196.0,327.0,149.0,269.0,201.0,286.0,283.0,249.0,271.0,295.0,235.0,306.0,269.0,234.0,178.0,237.0,234.0,275.0,212.0,208.0,201.0,218.0,263.0,295.0,303.0,209.0,223.0,197.0,245.0,261.0,242.0,319.0,240.0,226.0,166.0,315.0,204.0,218.0,223.0,180.0,207.0,228.0,311.0,149.0,204.0,227.0,278.0,220.0,232.0,197.0,335.0,253.0,205.0,192.0,203.0,318.0,225.0,220.0,221.0,240.0,212.0,342.0,169.0,187.0,197.0,157.0,176.0,241.0,264.0,193.0,131.0,236.0,175.0,132.0,243.0,null,237.0,219.0,198.0,225.0,254.0,298.0,161.0,214.0,220.0,160.0,167.0,308.0,264.0,166.0,340.0,209.0,160.0,260.0,211.0,173.0,283.0,194.0,223.0,315.0,275.0,297.0,292.0,182.0,null,200.0,204.0,null,241.0,339.0,147.0,273.0,307.0,275.0,289.0,215.0,281.0,null,250.0,184.0,245.0,291.0,295.0,269.0,250.0,211.0,196.0,198.0,268.0,228.0,147.0,358.0,223.0,201.0,215.0,249.0,266.0,186.0,null,207.0,218.0,184.0,215.0,412.0,237.0,null,297.0,224.0,null,225.0,224.0,238.0,275.0,230.0,163.0,238.0,240.0,280.0,257.0,null,249.0,263.0,276.0,308.0,null,284.0,195.0,163.0,254.0,227.0,null,245.0,238.0,211.0,null,null,201.0,207.0,253.0,187.0,297.0,null,202.0,328.0,168.0,216.0,209.0,129.0,215.0,194.0,190.0,220.0,200.0,188.0,224.0,179.0,210.0,null,272.0,180.0,284.0,100.0,196.0,259.0,468.0,216.0,274.0,null,320.0,195.0,260.0,182.0,243.0,221.0,230.0,273.0,253.0,309.0,230.0,312.0,171.0,208.0,238.0,246.0,195.0,305.0,217.0,null,365.0,344.0,320.0,394.0,256.0,196.0,326.0,277.0,220.0,270.0,229.0,219.0,184.0,null,276.0,85.0,308.0,347.0,260.0,230.0,251.0,179.0,222.0,188.0,287.0,318.0,213.0,null,246.0,294.0,292.0,193.0,271.0,270.0,246.0,156.0,257.0,267.0,207.0,196.0,282.0,117.0,466.0,289.0,237.0,247.0,202.0,186.0,277.0,193.0,226.0,263.0,260.0,268.0,180.0,265.0,206.0,288.0,264.0,303.0,225.0,216.0,224.0,201.0,265.0,213.0,338.0,248.0,223.0,306.0,529.0,null,280.0,392.0,291.0,219.0,231.0,222.0,275.0,193.0,329.0,355.0,233.0,182.0,null,246.0,237.0,242.0,603.0,null,198.0,268.0,213.0,255.0,211.0,263.0,172.0,175.0,288.0,290.0,272.0,248.0,214.0,341.0,234.0,160.0,342.0,298.0,404.0,246.0,518.0,285.0,216.0,295.0,292.0,248.0,279.0,230.0,388.0,164.0,null,264.0,263.0,null,336.0,288.0,491.0,205.0,291.0,212.0,222.0,231.0,341.0,266.0,331.0,294.0,342.0,393.0,275.0,0.0,0.0,0.0,0.0,0.0,0.0,0.0,0.0,0.0,0.0,0.0,0.0,0.0,0.0,0.0,0.0,0.0,0.0,0.0,0.0,0.0,0.0,0.0,0.0,0.0,0.0,0.0,0.0,0.0,0.0,0.0,0.0,0.0,0.0,0.0,0.0,0.0,0.0,0.0,0.0,0.0,0.0,0.0,0.0,0.0,0.0,0.0,0.0,0.0,0.0,0.0,0.0,0.0,0.0,0.0,0.0,0.0,0.0,0.0,0.0,0.0,0.0,0.0,0.0,0.0,0.0,0.0,0.0,0.0,0.0,0.0,0.0,0.0,0.0,0.0,0.0,0.0,0.0,0.0,0.0,0.0,0.0,0.0,0.0,0.0,0.0,0.0,0.0,0.0,0.0,0.0,0.0,0.0,0.0,0.0,0.0,0.0,0.0,0.0,0.0,0.0,0.0,0.0,0.0,0.0,0.0,0.0,0.0,0.0,0.0,0.0,0.0,0.0,0.0,0.0,0.0,0.0,0.0,0.0,0.0,0.0,0.0,0.0,260.0,209.0,218.0,228.0,213.0,0.0,236.0,0.0,0.0,267.0,166.0,0.0,0.0,0.0,0.0,220.0,177.0,236.0,0.0,0.0,0.0,0.0,0.0,0.0,0.0,0.0,0.0,186.0,100.0,228.0,0.0,171.0,230.0,0.0,0.0,0.0,281.0,0.0,203.0,0.0,0.0,0.0,0.0,0.0,277.0,0.0,233.0,0.0,0.0,240.0,0.0,0.0,153.0,224.0,0.0,0.0,0.0,316.0,0.0,0.0,218.0,0.0,311.0,0.0,0.0,0.0,270.0,0.0,0.0,217.0,214.0,214.0,252.0,220.0,214.0,203.0,0.0,339.0,216.0,276.0,458.0,241.0,384.0,297.0,248.0,308.0,208.0,227.0,210.0,245.0,225.0,240.0,0.0,198.0,195.0,267.0,161.0,258.0,0.0,0.0,195.0,235.0,0.0,305.0,223.0,282.0,349.0,null,160.0,236.0,312.0,283.0,142.0,211.0,218.0,306.0,186.0,252.0,222.0,0.0,0.0,258.0,202.0,197.0,204.0,null,274.0,192.0,298.0,272.0,220.0,200.0,261.0,181.0,260.0,220.0,221.0,216.0,175.0,219.0,310.0,208.0,232.0,273.0,203.0,182.0,274.0,204.0,270.0,292.0,171.0,221.0,289.0,217.0,223.0,null,193.0,null,210.0,282.0,170.0,369.0,173.0,289.0,null,null,216.0,271.0,244.0,285.0,243.0,240.0,219.0,237.0,165.0,213.0,287.0,258.0,256.0,186.0,264.0,null,226.0,203.0,207.0,284.0,337.0,219.0,310.0,254.0,258.0,254.0,300.0,170.0,310.0,333.0,139.0,223.0,385.0,254.0,150.0,108.0,129.0,187.0,172.0,178.0,160.0,163.0,147.0,155.0,148.0,153.0,142.0,173.0,162.0,174.0,168.0,160.0,139.0,171.0,144.0,162.0,160.0,173.0,132.0,158.0,172.0,114.0,171.0,114.0,151.0,160.0,158.0,161.0,179.0,178.0,120.0,112.0,132.0,137.0,114.0,178.0,162.0,157.0,169.0,165.0,123.0,128.0,157.0,152.0,168.0,140.0,153.0,188.0,144.0,109.0,163.0,158.0,152.0,125.0,142.0,160.0,131.0,170.0,113.0,142.0,155.0,165.0,140.0,147.0,148.0,163.0,99.0,158.0,177.0,151.0,141.0,142.0,180.0,111.0,148.0,143.0,182.0,150.0,172.0,180.0,156.0,115.0,160.0,149.0,151.0,145.0,146.0,175.0,172.0,161.0,142.0,157.0,158.0,186.0,185.0,174.0,159.0,130.0,139.0,156.0,162.0,150.0,140.0,140.0,146.0,144.0,190.0,136.0,97.0,132.0,165.0,182.0,132.0,127.0,150.0,154.0,143.0,111.0,174.0,175.0,133.0,126.0,170.0,163.0,147.0,154.0,202.0,186.0,165.0,161.0,125.0,103.0,130.0,166.0,164.0,159.0,184.0,131.0,154.0,152.0,124.0,179.0,170.0,160.0,178.0,122.0,160.0,145.0,96.0,109.0,173.0,171.0,170.0,151.0,156.0,162.0,158.0,122.0,175.0,168.0,169.0,159.0,156.0,138.0,112.0,111.0,143.0,157.0,132.0,88.0,147.0,105.0,162.0,173.0,166.0,150.0,178.0,145.0,161.0,179.0,194.0,120.0,195.0,146.0,163.0,122.0,143.0,106.0,115.0,125.0,131.0,152.0,162.0,125.0,159.0,154.0,173.0,133.0,161.0,147.0,130.0,126.0,155.0,154.0,170.0,182.0,168.0,165.0,160.0,162.0,172.0,152.0,122.0,182.0,172.0,167.0,179.0,95.0,169.0,192.0,143.0,172.0,108.0,132.0,169.0,117.0,126.0,121.0,163.0,116.0,103.0,144.0,162.0,162.0,153.0,163.0,163.0,145.0,96.0,71.0,156.0,118.0,168.0,140.0,126.0,105.0,105.0,157.0,181.0,173.0,142.0,116.0,143.0,141.0,149.0,152.0,171.0,169.0,125.0,125.0,156.0,134.0,181.0,150.0,138.0,138.0,120.0,125.0,162.0,155.0,152.0,152.0,164.0,131.0,143.0,179.0,130.0,174.0,161.0,140.0,146.0,144.0,163.0,169.0,150.0,166.0,144.0,144.0,136.0,182.0,90.0,123.0,132.0,141.0,115.0,174.0,173.0,185.0,160.0,170.0,170.0,150.0,165.0,184.0,155.0,185.0,190.0,168.0,150.0,185.0,150.0,180.0,168.0,180.0,184.0,178.0,172.0,130.0,142.0,184.0,98.0,150.0,168.0,158.0,129.0,150.0,130.0,180.0,146.0,160.0,145.0,120.0,106.0,170.0,160.0,132.0,140.0,150.0,172.0,138.0,167.0,188.0,142.0,180.0,150.0,160.0,170.0,144.0,142.0,137.0,150.0,155.0,136.0,152.0,146.0,170.0,142.0,165.0,175.0,176.0,118.0,154.0,175.0,138.0,115.0,142.0,135.0,170.0,170.0,180.0,144.0,122.0,110.0,140.0,144.0,90.0,165.0,150.0,116.0,140.0,140.0,120.0,135.0,145.0,150.0,174.0,125.0,null,148.0,120.0,125.0,175.0,110.0,130.0,100.0,160.0,118.0,138.0,160.0,160.0,164.0,135.0,174.0,172.0,132.0,130.0,145.0,110.0,160.0,170.0,116.0,135.0,140.0,170.0,120.0,160.0,120.0,145.0,150.0,100.0,148.0,140.0,139.0,140.0,118.0,138.0,165.0,170.0,127.0,142.0,130.0,132.0,162.0,140.0,112.0,148.0,155.0,138.0,140.0,150.0,155.0,140.0,130.0,130.0,137.0,142.0,154.0,110.0,130.0,175.0,137.0,122.0,134.0,160.0,155.0,150.0,137.0,150.0,155.0,160.0,134.0,140.0,110.0,164.0,100.0,114.0,128.0,140.0,98.0,126.0,140.0,150.0,110.0,160.0,100.0,124.0,150.0,120.0,100.0,140.0,135.0,120.0,115.0,116.0,152.0,153.0,150.0,180.0,140.0,160.0,130.0,166.0,170.0,134.0,152.0,170.0,138.0,130.0,150.0,124.0,125.0,145.0,98.0,110.0,115.0,103.0,156.0,175.0,170.0,140.0,150.0,150.0,120.0,140.0,122.0,130.0,145.0,140.0,130.0,125.0,115.0,87.0,130.0,150.0,150.0,130.0,155.0,130.0,115.0,112.0,150.0,102.0,92.0,99.0,121.0,150.0,126.0,116.0,150.0,91.0,125.0,118.0,142.0,128.0,125.0,92.0,92.0,140.0,130.0,120.0,150.0,100.0,175.0,170.0,108.0,120.0,140.0,150.0,96.0,110.0,124.0,82.0,130.0,120.0,105.0,136.0,143.0,96.0,150.0,124.0,122.0,99.0,125.0,119.0,112.0,94.0,118.0,135.0,135.0,98.0,158.0,96.0,122.0,140.0,125.0,134.0,94.0,100.0,150.0,110.0,115.0,127.0,154.0,130.0,125.0,166.0,156.0,179.0,128.0,150.0,120.0,144.0,176.0,128.0,99.0,122.0,145.0,140.0,138.0,133.0,113.0,120.0,118.0,149.0,124.0,128.0,110.0,120.0,156.0,139.0,127.0,92.0,104.0,170.0,163.0,60.0,126.0,120.0,128.0,122.0,82.0,95.0,120.0,115.0,122.0,120.0,120.0,135.0,141.0,155.0,110.0,150.0,150.0,155.0,92.0,83.0,97.0,98.0,99.0,82.0,100.0,148.0,103.0,121.0,148.0,131.0,120.0,100.0,98.0,182.0,138.0,100.0,105.0,175.0,94.0,115.0,119.0,115.0,143.0,110.0,130.0,63.0,99.0,149.0,70.0,110.0,113.0,105.0,115.0,77.0,105.0,117.0,145.0,143.0,123.0,134.0,72.0,128.0,72.0,78.0,109.0,149.0,86.0,154.0,98.0,140.0,145.0,114.0,93.0,67.0,154.0,122.0,90.0,108.0,125.0,120.0,136.0,130.0,null,92.0,157.0,114.0,121.0,123.0,112.0,127.0,140.0,149.0,99.0,120.0,105.0,140.0,141.0,157.0,140.0,117.0,120.0,null,148.0,86.0,84.0,125.0,120.0,118.0,124.0,106.0,111.0,null,180.0,129.0,null,140.0,120.0,null,null,110.0,105.0,155.0,110.0,122.0,null,133.0,null,131.0,80.0,165.0,86.0,111.0,null,84.0,117.0,107.0,128.0,160.0,125.0,null,97.0,161.0,106.0,130.0,140.0,null,null,120.0,null,108.0,148.0,123.0,110.0,118.0,125.0,106.0,null,null,180.0,144.0,null,140.0,102.0,108.0,145.0,null,110.0,140.0,69.0,148.0,130.0,130.0,140.0,138.0,140.0,null,112.0,null,112.0,80.0,150.0,110.0,null,88.0,null,150.0,120.0,160.0,132.0,120.0,110.0,121.0,128.0,135.0,120.0,117.0,150.0,null,null,null,null,null,null,null,102.0,140.0,135.0,null,null,130.0,112.0,100.0,null,120.0,105.0,129.0,120.0,null,162.0,100.0,140.0,null,73.0,86.0,null,null,160.0,118.0,112.0,null,null,102.0,null,null,154.0,null,160.0,null,128.0,115.0,105.0,110.0,119.0,null,135.0,130.0,null,null,120.0,null,119.0,null,null,159.0,84.0,null,null,120.0,122.0,165.0,122.0,94.0,null,110.0,150.0,130.0,113.0,140.0,100.0,null,127.0,98.0,96.0,null,98.0,118.0,112.0,151.0,96.0,108.0,128.0,138.0,126.0,154.0,null,100.0,null,93.0,2.3,1.5,2.6,3.5,1.4,0.8,3.6,0.6,1.4,3.1,0.4,1.3,0.6,0.0,0.5,1.6,1.0,1.2,0.2,0.6,1.8,1.0,1.8,3.2,2.4,1.6,0.0,2.6,1.5,2.0,1.8,1.4,0.0,0.5,0.4,0.0,2.5,0.6,1.2,1.0,1.0,1.4,0.4,1.6,0.0,2.5,0.6,2.6,0.8,1.2,0.0,0.4,0.0,0.0,1.4,2.2,0.6,0.0,0.5,1.4,1.2,1.4,2.2,0.0,1.4,2.8,3.0,1.6,3.4,3.6,0.8,0.2,1.8,0.6,0.0,0.8,2.8,1.5,0.2,0.8,3.0,0.4,0.0,1.6,0.2,0.0,0.0,0.0,0.0,0.5,0.4,6.2,1.8,0.6,0.0,0.0,1.2,2.6,0.8,0.0,0.0,0.0,0.0,0.0,2.0,0.0,0.0,0.4,3.6,1.2,1.0,1.2,0.0,3.0,1.2,0.0,0.0,1.4,1.8,2.8,0.0,4.0,1.2,5.6,1.4,0.6,4.0,2.8,0.0,0.0,0.4,0.0,0.0,0.0,0.2,1.4,2.6,1.4,1.6,2.4,0.0,0.2,0.0,1.8,0.6,0.0,1.0,0.0,0.0,0.0,1.2,0.6,1.6,0.8,2.2,2.4,1.6,0.0,1.2,1.0,0.0,0.0,1.6,1.0,0.0,0.0,0.0,0.0,0.0,0.0,2.9,0.0,0.0,1.2,2.0,1.2,0.1,2.1,1.9,0.0,0.5,1.9,0.8,4.2,0.0,0.0,0.8,0.0,0.0,2.0,0.0,4.2,0.1,1.9,1.5,0.9,0.1,0.2,1.1,0.0,0.0,0.0,0.2,0.2,0.0,0.0,3.0,0.9,0.0,1.4,0.0,3.8,2.0,1.0,0.0,1.9,0.0,0.0,2.0,0.0,0.0,0.0,0.0,2.0,1.8,0.7,0.1,0.0,0.0,0.1,0.1,3.4,0.8,0.2,0.0,3.2,1.6,0.8,0.0,0.0,0.0,0.0,0.0,2.6,0.0,1.0,0.1,1.0,1.0,0.0,1.5,2.0,0.2,0.6,1.2,0.0,0.3,1.1,0.0,0.3,0.3,0.0,0.9,0.0,3.6,1.8,1.0,2.2,0.0,0.0,1.9,2.3,1.8,1.6,0.8,0.6,0.0,0.0,0.0,0.6,3.0,0.0,2.0,0.0,0.0,4.4,2.8,0.4,0.0,0.0,0.8,1.2,2.8,4.0,0.0,0.0,1.0,0.2,1.2,3.4,1.2,0.0,0.0,0.0,0.0,0.0,0.0,0.0,0.0,0.0,0.0,0.0,0.0,0.0,0.0,0.0,0.0,0.0,0.0,0.0,1.0,0.0,0.0,0.0,0.0,0.0,0.0,0.0,0.0,0.0,0.0,0.0,0.0,0.0,2.0,1.0,0.0,0.0,0.0,0.0,0.0,0.0,0.0,0.0,0.0,0.0,0.0,0.0,0.0,0.0,0.0,0.0,0.0,0.0,0.0,0.0,0.0,0.0,0.0,1.5,0.0,0.0,0.0,0.0,0.0,0.0,0.0,0.0,0.0,0.0,0.0,1.0,0.0,0.0,0.0,0.0,0.0,0.0,0.0,0.0,0.0,0.0,0.0,0.0,0.0,1.0,0.0,0.0,1.0,2.0,0.0,0.0,0.0,2.0,0.0,0.0,0.0,2.0,0.0,1.0,0.0,0.0,0.0,0.0,0.0,0.0,0.0,0.0,0.0,0.0,1.0,0.0,0.0,1.0,0.0,0.0,0.0,0.0,0.0,0.0,0.0,2.0,0.5,0.0,0.0,0.0,0.0,0.0,0.0,1.5,0.0,0.0,0.0,0.0,0.0,2.0,0.0,0.0,0.0,0.0,3.0,0.0,0.0,1.0,0.0,1.5,0.0,0.0,0.0,0.0,2.0,0.0,0.0,0.0,1.0,0.0,0.0,0.0,1.0,0.0,0.0,0.0,0.0,0.0,0.0,0.0,0.0,0.0,0.5,0.0,0.0,0.0,1.0,0.0,1.0,0.8,0.0,0.0,0.0,0.0,0.0,1.0,0.0,1.0,0.0,0.0,0.0,1.0,0.0,0.0,1.0,1.5,1.0,0.0,0.0,3.0,1.5,0.0,0.0,2.5,1.0,0.0,1.0,2.0,0.0,0.0,1.0,1.0,1.5,0.0,2.0,1.0,1.0,0.0,0.0,0.0,0.0,1.0,2.0,0.0,2.0,3.0,1.0,0.0,1.5,1.0,0.0,1.5,0.0,1.0,0.0,2.0,0.0,1.0,0.0,0.0,2.0,3.0,1.5,2.0,2.0,0.0,1.5,0.0,1.5,1.0,1.0,0.0,2.0,1.5,1.0,3.0,0.0,2.0,2.0,1.0,3.0,2.0,2.0,0.0,1.5,1.0,1.0,2.0,1.0,1.0,2.0,4.0,0.0,1.5,1.5,0.0,2.0,2.0,1.0,1.5,2.0,2.0,0.0,0.0,2.0,1.0,3.0,2.0,0.0,2.0,3.0,0.0,2.0,5.0,2.5,2.0,2.5,0.0,3.0,1.0,1.0,0.7,0.2,null,1.0,2.8,0.0,-1.1,0.0,0.0,null,0.0,1.6,-1.5,0.0,1.5,2.0,0.5,-0.1,-2.6,1.5,0.0,1.0,2.1,0.0,0.0,0.0,0.5,0.0,0.7,1.5,0.0,0.0,-0.7,0.0,0.0,2.2,0.0,2.0,1.0,null,0.0,0.7,0.0,0.0,0.0,1.5,1.0,2.0,0.0,3.0,1.5,0.2,0.1,0.3,0.0,0.0,-2.0,0.0,-1.0,-1.0,0.0,1.0,1.8,0.3,1.4,2.0,0.0,2.0,0.7,0.5,1.0,0.0,2.6,0.0,0.0,0.9,1.0,2.4,0.1,1.1,0.5,0.5,0.4,0.0,1.5,1.4,0.0,0.0,2.5,0.0,2.0,1.0,0.0,1.7,-0.8,0.0,2.5,-0.5,2.0,-0.9,2.0,2.0,3.7,0.0,1.0,1.1,1.3,0.0,null,1.0,null,0.0,2.0,0.0,0.0,1.8,0.0,null,0.0,2.0,1.6,0.0,1.3,3.0,0.0,1.5,2.5,1.3,-0.5,0.0,1.5,2.0,0.5,0.0,1.0,0.5,null,1.0,0.0,2.5,2.0,1.5,0.0,1.0,2.0,0.0,null,3.0,1.0,null,0.5,1.5,null,null,2.0,1.0,1.5,2.0,1.0,null,2.0,null,1.5,0.0,0.0,1.5,0.0,null,0.0,1.3,0.0,2.0,0.0,2.5,null,1.6,2.0,0.0,3.0,1.5,null,null,0.0,null,2.0,2.0,2.5,2.0,2.5,2.5,1.5,null,null,null,2.0,null,3.0,1.0,0.0,3.0,null,2.5,1.0,1.0,3.0,0.0,1.0,4.0,2.0,2.0,null,3.0,null,3.0,0.0,1.5,0.0,null,2.0,null,null,0.5,3.0,0.0,1.5,1.0,1.0,0.5,4.0,1.0,1.0,0.0,null,null,null,null,null,null,null,0.0,2.0,2.5,null,null,4.0,2.0,0.0,null,3.5,1.5,3.0,0.0,null,0.0,1.5,1.5,null,2.0,0.0,null,null,null,0.0,2.0,null,null,4.0,null,null,2.0,null,2.0,null,1.5,0.0,1.5,2.5,2.0,null,0.5,1.5,null,null,3.0,null,3.0,null,null,1.5,0.0,null,null,0.8,2.0,1.0,2.0,0.0,null,0.0,2.0,0.0,1.0,0.5,0.0,null,1.7,1.5,1.0,null,0.0,0.0,1.5,0.0,1.0,3.0,1.5,0.0,0.0,0.0,null,0.0,null,0.0,0.0,3.0,2.0,0.0,0.0,0.0,2.0,0.0,1.0,0.0,0.0,0.0,1.0,0.0,0.0,0.0,0.0,0.0,0.0,0.0,0.0,0.0,0.0,2.0,2.0,0.0,0.0,0.0,0.0,0.0,2.0,2.0,0.0,0.0,0.0,0.0,0.0,1.0,1.0,0.0,3.0,0.0,2.0,0.0,0.0,1.0,0.0,0.0,1.0,0.0,1.0,0.0,1.0,0.0,1.0,1.0,1.0,0.0,1.0,1.0,0.0,0.0,3.0,0.0,1.0,2.0,0.0,0.0,0.0,0.0,0.0,2.0,2.0,2.0,1.0,0.0,1.0,1.0,0.0,0.0,0.0,0.0,0.0,0.0,0.0,0.0,0.0,0.0,0.0,0.0,0.0,3.0,3.0,0.0,0.0,1.0,1.0,2.0,1.0,0.0,0.0,0.0,1.0,1.0,3.0,0.0,1.0,1.0,1.0,0.0,0.0,1.0,0.0,0.0,1.0,0.0,0.0,0.0,3.0,1.0,2.0,3.0,0.0,0.0,1.0,0.0,2.0,1.0,0.0,0.0,0.0,1.0,0.0,0.0,0.0,0.0,0.0,1.0,0.0,0.0,0.0,0.0,0.0,0.0,0.0,0.0,3.0,0.0,0.0,1.0,0.0,0.0,0.0,1.0,1.0,3.0,0.0,2.0,2.0,1.0,0.0,3.0,0.0,0.0,2.0,0.0,null,1.0,0.0,0.0,1.0,0.0,0.0,0.0,2.0,1.0,3.0,1.0,1.0,3.0,0.0,2.0,2.0,0.0,0.0,2.0,0.0,3.0,1.0,3.0,0.0,3.0,null,3.0,0.0,2.0,1.0,0.0,0.0,0.0,0.0,0.0,1.0,0.0,0.0,3.0,2.0,0.0,0.0,0.0,0.0,0.0,0.0,2.0,1.0,0.0,0.0,0.0,2.0,0.0,0.0,0.0,0.0,2.0,2.0,0.0,0.0,1.0,1.0,1.0,0.0,0.0,3.0,1.0,1.0,2.0,0.0,0.0,0.0,0.0,0.0,0.0,0.0,2.0,0.0,0.0,1.0,1.0,2.0,0.0,0.0,1.0,1.0,0.0,0.0,0.0,2.0,0.0,0.0,0.0,1.0,2.0,0.0,0.0,1.0,0.0,0.0,1.0,0.0,0.0,1.0,0.0,2.0,0.0,2.0,0.0,1.0,0.0,1.0,0.0,1.0,0.0,1.0,0.0,1.0,3.0,2.0,null,0.0,0.0,0.0,0.0,0.0,2.0,0.0,0.0,2.0,0.0,0.0,2.0,1.0,1.0,null,null,null,null,null,null,null,null,null,null,null,null,null,null,null,null,null,null,null,null,null,null,null,null,null,null,null,null,null,null,null,null,null,null,null,null,null,null,null,null,null,null,null,null,null,null,null,null,null,null,null,null,null,null,null,null,null,null,null,null,null,null,null,null,null,null,null,null,null,null,null,null,null,null,null,null,null,null,null,null,null,null,null,null,null,null,null,null,null,null,null,null,null,null,null,null,null,null,null,null,null,null,null,null,null,null,null,null,null,null,null,null,0.0,null,null,null,null,null,null,null,null,null,null,null,null,null,null,null,null,null,null,null,null,null,null,null,null,null,null,null,null,null,null,null,null,null,null,null,null,null,null,null,null,null,null,null,null,null,null,null,null,null,null,null,null,null,null,null,null,null,null,null,null,null,null,null,null,null,null,null,null,null,null,0.0,null,null,null,null,null,null,null,null,null,null,null,null,null,null,null,null,null,null,null,null,null,null,0.0,null,null,null,null,null,null,null,null,null,null,null,null,null,null,null,null,null,null,null,null,null,null,null,null,null,null,null,null,null,null,null,null,null,null,null,null,null,null,null,null,null,null,null,null,null,null,null,null,null,null,null,null,null,null,null,null,null,null,null,null,null,null,null,null,null,null,null,null,null,null,null,null,null,null,null,null,null,null,null,null,null,null,null,null,null,null,null,null,null,null,null,null,null,null,null,null,null,null,null,null,null,null,null,null,null,null,null,null,null,null,null,null,null,null,null,null,null,null,null,null,null,null,null,null,null,null,null,null,null,null,null,null,null,null,null,null,null,null,null,null,null,null,null,null,null,null,null,null,null,null,null,null,1.0,null,null,null,null,null,null,null,null,null,null,null,null,null,2.0,1.0,null,null,null,null,null,null,null,null,null,null,null,null,null,null,2.0,null,null,null,null,null,null,null,null,null,null,null,null,null,null,null,null,null,null,null,null,null,null,null,null,null,2.0,null,null,null,null,null,null,null,null,null,null,null,null,null,null,null,null,null,null,null,null,null,null,null,null,null,null,null,null,null,null,0.0,null,null,null,null,null,null,null,null,null,null,0.0,null,null,null,null,null,null,null,null,null,null,null,null,null,null,null,null,null,null,null,null,null,null,null,null,null,null,null,null,null,null,null,null,null,null,null,null,null,null,null,null,null,null,null,null,null,null,null,null,null,null,null,null,null,null,null,null,null,null,null,null,null,null,null,null,null,null,null,null,null,null,null,null,null,null,null,null,null,null,null,null,null,null,null,null,null,null,null,null,null,null,null,null,null,null,null,null,null,null,null,null,null,null,null,null,null,null,null,null,null,null,null,null,null,null,null,null,null,null,null,null,null,null,null,null,null,null,null,null,null,null,null,null,null,null,null,null,null,null,null,null,null,null,null,null,null,null,null,null,null,null,null,null,null,null,null,null,null,null,null,null,0.0,2.0,1.0,0.0,0.0,0.0,3.0,0.0,2.0,1.0,0.0,0.0,2.0,0.0,0.0,0.0,1.0,0.0,0.0,0.0,0.0,0.0,1.0,3.0,4.0,0.0,0.0,0.0,0.0,3.0,0.0,2.0,1.0,0.0,0.0,0.0,3.0,1.0,3.0,0.0,4.0,0.0,0.0,0.0,1.0,4.0,0.0,4.0,0.0,0.0,0.0,0.0,2.0,0.0,1.0,1.0,1.0,1.0,0.0,0.0,2.0,0.0,1.0,0.0,2.0,2.0,1.0,0.0,2.0,1.0,0.0,3.0,1.0,1.0,1.0,0.0,1.0,0.0,0.0,3.0,0.0,0.0,0.0,3.0,0.0,0.0,0.0,0.0,0.0,0.0,0.0,3.0,0.0,0.0,0.0,1.0,2.0,3.0,0.0,0.0,0.0,0.0,0.0,0.0,3.0,0.0,2.0,1.0,2.0,3.0,1.0,1.0,0.0,2.0,2.0,0.0,0.0,0.0,3.0,2.0,3.0,4.0,0.0,3.0,1.0,0.0,3.0,3.0,0.0,0.0,0.0,0.0,0.0,0.0,0.0,0.0,4.0,3.0,1.0,0.0,0.0,1.0,0.0,1.0,0.0,1.0,4.0,0.0,0.0,0.0,0.0,0.0,0.0,4.0,3.0,1.0,1.0,1.0,2.0,0.0,0.0,4.0,0.0,0.0,0.0,0.0,0.0,0.0,1.0,0.0,3.0,0.0,1.0,0.0,4.0,1.0,0.0,1.0,0.0,0.0,3.0,2.0,0.0,0.0,1.0,0.0,0.0,2.0,1.0,2.0,0.0,3.0,1.0,2.0,0.0,3.0,0.0,0.0,0.0,1.0,0.0,0.0,0.0,0.0,0.0,3.0,3.0,3.0,0.0,1.0,0.0,4.0,0.0,3.0,1.0,0.0,0.0,0.0,0.0,0.0,0.0,0.0,0.0,3.0,1.0,0.0,0.0,0.0,3.0,2.0,0.0,2.0,1.0,0.0,0.0,3.0,2.0,1.0,0.0,0.0,0.0,0.0,0.0,2.0,0.0,2.0,2.0,1.0,3.0,0.0,0.0,1.0,0.0,0.0,0.0,0.0,0.0,0.0,0.0,1.0,0.0,3.0,0.0,0.0,4.0,2.0,2.0,2.0,1.0,0.0,1.0,0.0,2.0,0.0,1.0,0.0,0.0,0.0,1.0,0.0,2.0,0.0,3.0,0.0,2.0,4.0,2.0,0.0,0.0,0.0,1.0,0.0,2.0,2.0,1.0,0.0,3.0,1.0,1.0,2.0,3.0,1.0,0.0,0.0,0.0,0.0,0.0,0.0,0.0,0.0,0.0,0.0,0.0,0.0,0.0,0.0,0.0,0.0,0.0,0.0,0.0,0.0,0.0,0.0,0.0,0.0,0.0,0.0,0.0,0.0,0.0,0.0,0.0,0.0,0.0,0.0,0.0,0.0,0.0,0.0,0.0,0.0,0.0,0.0,0.0,0.0,0.0,0.0,0.0,0.0,0.0,0.0,0.0,0.0,0.0,0.0,0.0,0.0,0.0,0.0,0.0,0.0,0.0,0.0,0.0,0.0,0.0,0.0,0.0,0.0,0.0,0.0,0.0,0.0,0.0,0.0,0.0,0.0,0.0,0.0,0.0,0.0,0.0,0.0,0.0,0.0,0.0,0.0,0.0,0.0,0.0,0.0,0.0,0.0,0.0,0.0,0.0,0.0,0.0,0.0,0.0,0.0,0.0,0.0,0.0,0.0,0.0,0.0,0.0,0.0,0.0,0.0,0.0,0.0,0.0,0.0,0.0,0.0,0.0,0.0,0.0,0.0,0.0,0.0,0.0,0.0,0.0,0.0,0.0,0.0,0.0,0.0,0.0,0.0,0.0,0.0,0.0,0.0,0.0,0.0,0.0,0.0,0.0,0.0,0.0,0.0,0.0,0.0,0.0,0.0,0.0,0.0,0.0,0.0,0.0,0.0,0.0,0.0,0.0,0.0,0.0,0.0,0.0,0.0,0.0,0.0,0.0,0.0,0.0,0.0,0.0,0.0,0.0,0.0,0.0,0.0,0.0,0.0,0.0,0.0,0.0,0.0,0.0,0.0,0.0,0.0,0.0,0.0,0.0,0.0,0.0,1.0,1.0,1.0,1.0,1.0,1.0,1.0,1.0,1.0,1.0,1.0,1.0,1.0,1.0,1.0,1.0,1.0,1.0,1.0,1.0,1.0,1.0,1.0,1.0,1.0,1.0,1.0,1.0,1.0,1.0,1.0,1.0,1.0,1.0,1.0,1.0,1.0,1.0,1.0,1.0,1.0,1.0,1.0,1.0,1.0,1.0,1.0,1.0,1.0,1.0,1.0,1.0,1.0,1.0,1.0,1.0,1.0,1.0,1.0,1.0,1.0,1.0,1.0,1.0,1.0,1.0,1.0,1.0,1.0,1.0,1.0,1.0,1.0,1.0,1.0,1.0,1.0,1.0,1.0,1.0,1.0,1.0,1.0,1.0,1.0,1.0,1.0,1.0,1.0,1.0,1.0,1.0,1.0,1.0,1.0,1.0,1.0,1.0,1.0,1.0,1.0,1.0,1.0,1.0,1.0,1.0,1.0,1.0,3.0,1.0,2.0,1.0,0.0,1.0,2.0,1.0,2.0,2.0,1.0,2.0,3.0,4.0,2.0,0.0,1.0,1.0,1.0,3.0,2.0,1.0,2.0,1.0,3.0,3.0,1.0,2.0,4.0,3.0,2.0,1.0,2.0,2.0,2.0,2.0,2.0,2.0,3.0,0.0,1.0,1.0,1.0,4.0,2.0,0.0,2.0,3.0,1.0,0.0,1.0,4.0,2.0,0.0,2.0,2.0,1.0,2.0,2.0,3.0,1.0,1.0,3.0,2.0,3.0,2.0,1.0,1.0,4.0,1.0,1.0,3.0,2.0,1.0,1.0,1.0,3.0,1.0,3.0,3.0,1.0,3.0,1.0,1.0,3.0,3.0,3.0,1.0,2.0,2.0,2.0,1.0,1.0,3.0,2.0,1.0,3.0,1.0,2.0,3.0,3.0,1.0,3.0,1.0,1.0,1.0,3.0,0.0,3.0,1.0,3.0,2.0,3.0,1.0,1.0,3.0,1.0,3.0,0.0,1.0,1.0,2.0,0.0,2.0,1.0,0.0,0.0,3.0,0.0,3.0,1.0,0.0,1.0,1.0,1.0,1.0,0.0,4.0,1.0,0.0,0.0,2.0,1.0,3.0,0.0,2.0,2.0,2.0,1.0,1.0,3.0,3.0,3.0,3.0,3.0,2.0,3.0,2.0,0.0,1.0,0.0,3.0,1.0,3.0,0.0,4.0,2.0,1.0,0.0,2.0,0.0,1.0,0.0,2.0,0.0,1.0,2.0,2.0,3.0,0.0,1.0,0.0,2.0,1.0,4.0,2.0,2.0,3.0,1.0,1.0,1.0,0.0,2.0,0.0,3.0,3.0,1.0,2.0,3.0,2.0,1.0,0.0,2.0,2.0,2.0,4.0,2.0,3.0,0.0,1.0,1.0,3.0,0.0,3.0,1.0,0.0,3.0,0.0,1.0,1.0,0.0,1.0,3.0,1.0,1.0,0.0,3.0,1.0,1.0,0.0,0.0,3.0,0.0,3.0,1.0,1.0,3.0,2.0,2.0,3.0,1.0,2.0,3.0,1.0,0.0,1.0,4.0,1.0,2.0,0.0,0.0,1.0,3.0,1.0,0.0,3.0,0.0,3.0,3.0,0.0,2.0,0.0,4.0,2.0,4.0,0.0,0.0,0.0,1.0,3.0,3.0,0.0,3.0,1.0,1.0,2.0,2.0,2.0,2.0,2.0,1.0,4.0,3.0,3.0,3.0,1.0,3.0,2.0,0.0,2.0,1.0,1.0,0.0,3.0,1.0,0.0,0.0,4.0,2.0,3.0,1.0,1.0,0.0,1.0,1.0,0.0,1.0,3.0,2.0,2.0,0.0,0.0,4.0,3.0,1.0,2.0,1.0,0.0,2.0,0.0,1.0],\"y0\":\" \",\"yaxis\":\"y\",\"type\":\"box\"}],                        {\"template\":{\"data\":{\"histogram2dcontour\":[{\"type\":\"histogram2dcontour\",\"colorbar\":{\"outlinewidth\":0,\"ticks\":\"\"},\"colorscale\":[[0.0,\"#0d0887\"],[0.1111111111111111,\"#46039f\"],[0.2222222222222222,\"#7201a8\"],[0.3333333333333333,\"#9c179e\"],[0.4444444444444444,\"#bd3786\"],[0.5555555555555556,\"#d8576b\"],[0.6666666666666666,\"#ed7953\"],[0.7777777777777778,\"#fb9f3a\"],[0.8888888888888888,\"#fdca26\"],[1.0,\"#f0f921\"]]}],\"choropleth\":[{\"type\":\"choropleth\",\"colorbar\":{\"outlinewidth\":0,\"ticks\":\"\"}}],\"histogram2d\":[{\"type\":\"histogram2d\",\"colorbar\":{\"outlinewidth\":0,\"ticks\":\"\"},\"colorscale\":[[0.0,\"#0d0887\"],[0.1111111111111111,\"#46039f\"],[0.2222222222222222,\"#7201a8\"],[0.3333333333333333,\"#9c179e\"],[0.4444444444444444,\"#bd3786\"],[0.5555555555555556,\"#d8576b\"],[0.6666666666666666,\"#ed7953\"],[0.7777777777777778,\"#fb9f3a\"],[0.8888888888888888,\"#fdca26\"],[1.0,\"#f0f921\"]]}],\"heatmap\":[{\"type\":\"heatmap\",\"colorbar\":{\"outlinewidth\":0,\"ticks\":\"\"},\"colorscale\":[[0.0,\"#0d0887\"],[0.1111111111111111,\"#46039f\"],[0.2222222222222222,\"#7201a8\"],[0.3333333333333333,\"#9c179e\"],[0.4444444444444444,\"#bd3786\"],[0.5555555555555556,\"#d8576b\"],[0.6666666666666666,\"#ed7953\"],[0.7777777777777778,\"#fb9f3a\"],[0.8888888888888888,\"#fdca26\"],[1.0,\"#f0f921\"]]}],\"heatmapgl\":[{\"type\":\"heatmapgl\",\"colorbar\":{\"outlinewidth\":0,\"ticks\":\"\"},\"colorscale\":[[0.0,\"#0d0887\"],[0.1111111111111111,\"#46039f\"],[0.2222222222222222,\"#7201a8\"],[0.3333333333333333,\"#9c179e\"],[0.4444444444444444,\"#bd3786\"],[0.5555555555555556,\"#d8576b\"],[0.6666666666666666,\"#ed7953\"],[0.7777777777777778,\"#fb9f3a\"],[0.8888888888888888,\"#fdca26\"],[1.0,\"#f0f921\"]]}],\"contourcarpet\":[{\"type\":\"contourcarpet\",\"colorbar\":{\"outlinewidth\":0,\"ticks\":\"\"}}],\"contour\":[{\"type\":\"contour\",\"colorbar\":{\"outlinewidth\":0,\"ticks\":\"\"},\"colorscale\":[[0.0,\"#0d0887\"],[0.1111111111111111,\"#46039f\"],[0.2222222222222222,\"#7201a8\"],[0.3333333333333333,\"#9c179e\"],[0.4444444444444444,\"#bd3786\"],[0.5555555555555556,\"#d8576b\"],[0.6666666666666666,\"#ed7953\"],[0.7777777777777778,\"#fb9f3a\"],[0.8888888888888888,\"#fdca26\"],[1.0,\"#f0f921\"]]}],\"surface\":[{\"type\":\"surface\",\"colorbar\":{\"outlinewidth\":0,\"ticks\":\"\"},\"colorscale\":[[0.0,\"#0d0887\"],[0.1111111111111111,\"#46039f\"],[0.2222222222222222,\"#7201a8\"],[0.3333333333333333,\"#9c179e\"],[0.4444444444444444,\"#bd3786\"],[0.5555555555555556,\"#d8576b\"],[0.6666666666666666,\"#ed7953\"],[0.7777777777777778,\"#fb9f3a\"],[0.8888888888888888,\"#fdca26\"],[1.0,\"#f0f921\"]]}],\"mesh3d\":[{\"type\":\"mesh3d\",\"colorbar\":{\"outlinewidth\":0,\"ticks\":\"\"}}],\"scatter\":[{\"fillpattern\":{\"fillmode\":\"overlay\",\"size\":10,\"solidity\":0.2},\"type\":\"scatter\"}],\"parcoords\":[{\"type\":\"parcoords\",\"line\":{\"colorbar\":{\"outlinewidth\":0,\"ticks\":\"\"}}}],\"scatterpolargl\":[{\"type\":\"scatterpolargl\",\"marker\":{\"colorbar\":{\"outlinewidth\":0,\"ticks\":\"\"}}}],\"bar\":[{\"error_x\":{\"color\":\"#2a3f5f\"},\"error_y\":{\"color\":\"#2a3f5f\"},\"marker\":{\"line\":{\"color\":\"#E5ECF6\",\"width\":0.5},\"pattern\":{\"fillmode\":\"overlay\",\"size\":10,\"solidity\":0.2}},\"type\":\"bar\"}],\"scattergeo\":[{\"type\":\"scattergeo\",\"marker\":{\"colorbar\":{\"outlinewidth\":0,\"ticks\":\"\"}}}],\"scatterpolar\":[{\"type\":\"scatterpolar\",\"marker\":{\"colorbar\":{\"outlinewidth\":0,\"ticks\":\"\"}}}],\"histogram\":[{\"marker\":{\"pattern\":{\"fillmode\":\"overlay\",\"size\":10,\"solidity\":0.2}},\"type\":\"histogram\"}],\"scattergl\":[{\"type\":\"scattergl\",\"marker\":{\"colorbar\":{\"outlinewidth\":0,\"ticks\":\"\"}}}],\"scatter3d\":[{\"type\":\"scatter3d\",\"line\":{\"colorbar\":{\"outlinewidth\":0,\"ticks\":\"\"}},\"marker\":{\"colorbar\":{\"outlinewidth\":0,\"ticks\":\"\"}}}],\"scattermapbox\":[{\"type\":\"scattermapbox\",\"marker\":{\"colorbar\":{\"outlinewidth\":0,\"ticks\":\"\"}}}],\"scatterternary\":[{\"type\":\"scatterternary\",\"marker\":{\"colorbar\":{\"outlinewidth\":0,\"ticks\":\"\"}}}],\"scattercarpet\":[{\"type\":\"scattercarpet\",\"marker\":{\"colorbar\":{\"outlinewidth\":0,\"ticks\":\"\"}}}],\"carpet\":[{\"aaxis\":{\"endlinecolor\":\"#2a3f5f\",\"gridcolor\":\"white\",\"linecolor\":\"white\",\"minorgridcolor\":\"white\",\"startlinecolor\":\"#2a3f5f\"},\"baxis\":{\"endlinecolor\":\"#2a3f5f\",\"gridcolor\":\"white\",\"linecolor\":\"white\",\"minorgridcolor\":\"white\",\"startlinecolor\":\"#2a3f5f\"},\"type\":\"carpet\"}],\"table\":[{\"cells\":{\"fill\":{\"color\":\"#EBF0F8\"},\"line\":{\"color\":\"white\"}},\"header\":{\"fill\":{\"color\":\"#C8D4E3\"},\"line\":{\"color\":\"white\"}},\"type\":\"table\"}],\"barpolar\":[{\"marker\":{\"line\":{\"color\":\"#E5ECF6\",\"width\":0.5},\"pattern\":{\"fillmode\":\"overlay\",\"size\":10,\"solidity\":0.2}},\"type\":\"barpolar\"}],\"pie\":[{\"automargin\":true,\"type\":\"pie\"}]},\"layout\":{\"autotypenumbers\":\"strict\",\"colorway\":[\"#636efa\",\"#EF553B\",\"#00cc96\",\"#ab63fa\",\"#FFA15A\",\"#19d3f3\",\"#FF6692\",\"#B6E880\",\"#FF97FF\",\"#FECB52\"],\"font\":{\"color\":\"#2a3f5f\"},\"hovermode\":\"closest\",\"hoverlabel\":{\"align\":\"left\"},\"paper_bgcolor\":\"white\",\"plot_bgcolor\":\"#E5ECF6\",\"polar\":{\"bgcolor\":\"#E5ECF6\",\"angularaxis\":{\"gridcolor\":\"white\",\"linecolor\":\"white\",\"ticks\":\"\"},\"radialaxis\":{\"gridcolor\":\"white\",\"linecolor\":\"white\",\"ticks\":\"\"}},\"ternary\":{\"bgcolor\":\"#E5ECF6\",\"aaxis\":{\"gridcolor\":\"white\",\"linecolor\":\"white\",\"ticks\":\"\"},\"baxis\":{\"gridcolor\":\"white\",\"linecolor\":\"white\",\"ticks\":\"\"},\"caxis\":{\"gridcolor\":\"white\",\"linecolor\":\"white\",\"ticks\":\"\"}},\"coloraxis\":{\"colorbar\":{\"outlinewidth\":0,\"ticks\":\"\"}},\"colorscale\":{\"sequential\":[[0.0,\"#0d0887\"],[0.1111111111111111,\"#46039f\"],[0.2222222222222222,\"#7201a8\"],[0.3333333333333333,\"#9c179e\"],[0.4444444444444444,\"#bd3786\"],[0.5555555555555556,\"#d8576b\"],[0.6666666666666666,\"#ed7953\"],[0.7777777777777778,\"#fb9f3a\"],[0.8888888888888888,\"#fdca26\"],[1.0,\"#f0f921\"]],\"sequentialminus\":[[0.0,\"#0d0887\"],[0.1111111111111111,\"#46039f\"],[0.2222222222222222,\"#7201a8\"],[0.3333333333333333,\"#9c179e\"],[0.4444444444444444,\"#bd3786\"],[0.5555555555555556,\"#d8576b\"],[0.6666666666666666,\"#ed7953\"],[0.7777777777777778,\"#fb9f3a\"],[0.8888888888888888,\"#fdca26\"],[1.0,\"#f0f921\"]],\"diverging\":[[0,\"#8e0152\"],[0.1,\"#c51b7d\"],[0.2,\"#de77ae\"],[0.3,\"#f1b6da\"],[0.4,\"#fde0ef\"],[0.5,\"#f7f7f7\"],[0.6,\"#e6f5d0\"],[0.7,\"#b8e186\"],[0.8,\"#7fbc41\"],[0.9,\"#4d9221\"],[1,\"#276419\"]]},\"xaxis\":{\"gridcolor\":\"white\",\"linecolor\":\"white\",\"ticks\":\"\",\"title\":{\"standoff\":15},\"zerolinecolor\":\"white\",\"automargin\":true,\"zerolinewidth\":2},\"yaxis\":{\"gridcolor\":\"white\",\"linecolor\":\"white\",\"ticks\":\"\",\"title\":{\"standoff\":15},\"zerolinecolor\":\"white\",\"automargin\":true,\"zerolinewidth\":2},\"scene\":{\"xaxis\":{\"backgroundcolor\":\"#E5ECF6\",\"gridcolor\":\"white\",\"linecolor\":\"white\",\"showbackground\":true,\"ticks\":\"\",\"zerolinecolor\":\"white\",\"gridwidth\":2},\"yaxis\":{\"backgroundcolor\":\"#E5ECF6\",\"gridcolor\":\"white\",\"linecolor\":\"white\",\"showbackground\":true,\"ticks\":\"\",\"zerolinecolor\":\"white\",\"gridwidth\":2},\"zaxis\":{\"backgroundcolor\":\"#E5ECF6\",\"gridcolor\":\"white\",\"linecolor\":\"white\",\"showbackground\":true,\"ticks\":\"\",\"zerolinecolor\":\"white\",\"gridwidth\":2}},\"shapedefaults\":{\"line\":{\"color\":\"#2a3f5f\"}},\"annotationdefaults\":{\"arrowcolor\":\"#2a3f5f\",\"arrowhead\":0,\"arrowwidth\":1},\"geo\":{\"bgcolor\":\"white\",\"landcolor\":\"#E5ECF6\",\"subunitcolor\":\"white\",\"showland\":true,\"showlakes\":true,\"lakecolor\":\"white\"},\"title\":{\"x\":0.05},\"mapbox\":{\"style\":\"light\"}}},\"xaxis\":{\"anchor\":\"y\",\"domain\":[0.0,1.0],\"title\":{\"text\":\"variable\"}},\"yaxis\":{\"anchor\":\"x\",\"domain\":[0.0,1.0],\"title\":{\"text\":\"value\"}},\"legend\":{\"tracegroupgap\":0},\"margin\":{\"t\":60},\"boxmode\":\"group\",\"title\":{\"text\":\"Box Plots for Numeric Columns\"},\"height\":1000,\"width\":1000},                        {\"responsive\": true}                    ).then(function(){\n",
              "                            \n",
              "var gd = document.getElementById('9c6448d3-fd57-40bb-bd6a-b1156c0cef0f');\n",
              "var x = new MutationObserver(function (mutations, observer) {{\n",
              "        var display = window.getComputedStyle(gd).display;\n",
              "        if (!display || display === 'none') {{\n",
              "            console.log([gd, 'removed!']);\n",
              "            Plotly.purge(gd);\n",
              "            observer.disconnect();\n",
              "        }}\n",
              "}});\n",
              "\n",
              "// Listen for the removal of the full notebook cells\n",
              "var notebookContainer = gd.closest('#notebook-container');\n",
              "if (notebookContainer) {{\n",
              "    x.observe(notebookContainer, {childList: true});\n",
              "}}\n",
              "\n",
              "// Listen for the clearing of the current output cell\n",
              "var outputEl = gd.closest('.output');\n",
              "if (outputEl) {{\n",
              "    x.observe(outputEl, {childList: true});\n",
              "}}\n",
              "\n",
              "                        })                };                            </script>        </div>\n",
              "</body>\n",
              "</html>"
            ]
          },
          "metadata": {}
        }
      ]
    },
    {
      "cell_type": "code",
      "source": [
        "# there is an outlier in trestbps\n",
        "\n",
        "df[df['trestbps'] == 0]\n",
        "\n",
        "# Lets remove this row\n",
        "df = df[df['trestbps'] != 0]"
      ],
      "metadata": {
        "id": "m1VChF8Wz4dd"
      },
      "execution_count": 33,
      "outputs": []
    },
    {
      "cell_type": "markdown",
      "source": [
        "### Checking Missing Values"
      ],
      "metadata": {
        "id": "lgQfSHFKz4dd"
      }
    },
    {
      "cell_type": "code",
      "source": [
        "# create a heatmap for df to check missing values\n",
        "plt.figure(figsize=(16, 6))\n",
        "sns.heatmap(df.isnull(), cbar=False)\n",
        "plt.title('Missing values after imputation')\n",
        "plt.show()"
      ],
      "metadata": {
        "colab": {
          "base_uri": "https://localhost:8080/",
          "height": 545
        },
        "id": "z-4Skpo3z4dd",
        "outputId": "2ea82ad4-7118-460d-bd37-79f0881e951e"
      },
      "execution_count": 34,
      "outputs": [
        {
          "output_type": "display_data",
          "data": {
            "text/plain": [
              "<Figure size 1600x600 with 1 Axes>"
            ],
            "image/png": "[encoded data removed]"
          },
          "metadata": {}
        }
      ]
    },
    {
      "cell_type": "code",
      "source": [
        "(df.isnull().sum() / len(df) * 100).sort_values(ascending=False)"
      ],
      "metadata": {
        "colab": {
          "base_uri": "https://localhost:8080/"
        },
        "id": "oQxnhgXGz4dd",
        "outputId": "9066f0bc-b697-4460-8473-7549557e3795"
      },
      "execution_count": 35,
      "outputs": [
        {
          "output_type": "execute_result",
          "data": {
            "text/plain": [
              "ca          66.376496\n",
              "thal        52.774755\n",
              "slope       33.623504\n",
              "fbs          9.793254\n",
              "oldpeak      6.746464\n",
              "trestbps     6.420022\n",
              "thalch       5.984766\n",
              "exang        5.984766\n",
              "chol         3.264418\n",
              "restecg      0.217628\n",
              "age          0.000000\n",
              "sex          0.000000\n",
              "dataset      0.000000\n",
              "cp           0.000000\n",
              "num          0.000000\n",
              "dtype: float64"
            ]
          },
          "metadata": {},
          "execution_count": 35
        }
      ]
    },
    {
      "cell_type": "code",
      "source": [
        "df.info()"
      ],
      "metadata": {
        "colab": {
          "base_uri": "https://localhost:8080/"
        },
        "id": "ReQZGRCSz4dd",
        "outputId": "1aaa8196-a772-417c-ee9a-0e24985421dd"
      },
      "execution_count": 36,
      "outputs": [
        {
          "output_type": "stream",
          "name": "stdout",
          "text": [
            "<class 'pandas.core.frame.DataFrame'>\n",
            "Int64Index: 919 entries, 0 to 919\n",
            "Data columns (total 15 columns):\n",
            " #   Column    Non-Null Count  Dtype  \n",
            "---  ------    --------------  -----  \n",
            " 0   age       919 non-null    int64  \n",
            " 1   sex       919 non-null    object \n",
            " 2   dataset   919 non-null    object \n",
            " 3   cp        919 non-null    object \n",
            " 4   trestbps  860 non-null    float64\n",
            " 5   chol      889 non-null    float64\n",
            " 6   fbs       829 non-null    object \n",
            " 7   restecg   917 non-null    object \n",
            " 8   thalch    864 non-null    float64\n",
            " 9   exang     864 non-null    object \n",
            " 10  oldpeak   857 non-null    float64\n",
            " 11  slope     610 non-null    object \n",
            " 12  ca        309 non-null    float64\n",
            " 13  thal      434 non-null    object \n",
            " 14  num       919 non-null    int64  \n",
            "dtypes: float64(5), int64(2), object(8)\n",
            "memory usage: 114.9+ KB\n"
          ]
        }
      ]
    },
    {
      "cell_type": "code",
      "source": [
        "# Impute Missing values through simple imputer\n",
        "\n",
        "cat_imputer = SimpleImputer(strategy='most_frequent')\n",
        "cat_columns = ['fbs', 'exang', 'restecg']\n",
        "\n",
        "df[cat_columns] = cat_imputer.fit_transform(df[cat_columns])\n",
        "\n",
        "num_imputer = IterativeImputer(max_iter=10, random_state=42)\n",
        "num_columns = ['oldpeak', 'trestbps', 'thalch', 'chol']\n",
        "\n",
        "df[num_columns] = num_imputer.fit_transform(df[num_columns])"
      ],
      "metadata": {
        "id": "qnklw3d3z4dd"
      },
      "execution_count": 37,
      "outputs": []
    },
    {
      "cell_type": "code",
      "source": [
        "(df.isnull().sum() / len(df) * 100).sort_values(ascending=False)"
      ],
      "metadata": {
        "colab": {
          "base_uri": "https://localhost:8080/"
        },
        "id": "F4KVYSw_z4di",
        "outputId": "f0681ff3-1e04-4ac4-eb09-b3dcc5e3b82c"
      },
      "execution_count": 38,
      "outputs": [
        {
          "output_type": "execute_result",
          "data": {
            "text/plain": [
              "ca          66.376496\n",
              "thal        52.774755\n",
              "slope       33.623504\n",
              "age          0.000000\n",
              "sex          0.000000\n",
              "dataset      0.000000\n",
              "cp           0.000000\n",
              "trestbps     0.000000\n",
              "chol         0.000000\n",
              "fbs          0.000000\n",
              "restecg      0.000000\n",
              "thalch       0.000000\n",
              "exang        0.000000\n",
              "oldpeak      0.000000\n",
              "num          0.000000\n",
              "dtype: float64"
            ]
          },
          "metadata": {},
          "execution_count": 38
        }
      ]
    },
    {
      "cell_type": "code",
      "source": [
        "df_clean = df.dropna()\n",
        "df_missing = df[df.isna().any(axis=1)]"
      ],
      "metadata": {
        "id": "kGv28mcWz4di"
      },
      "execution_count": 39,
      "outputs": []
    },
    {
      "cell_type": "code",
      "source": [
        "percentage_distribution = df_clean['slope'].value_counts(normalize=True) * 100\n",
        "percentage_distribution = percentage_distribution.round(2)\n",
        "print(percentage_distribution)\n"
      ],
      "metadata": {
        "colab": {
          "base_uri": "https://localhost:8080/"
        },
        "id": "sZEXyKoxz4dj",
        "outputId": "d3992704-40c8-4e09-b942-3fb8ef322928"
      },
      "execution_count": 40,
      "outputs": [
        {
          "output_type": "stream",
          "name": "stdout",
          "text": [
            "flat           46.49\n",
            "upsloping      46.49\n",
            "downsloping     7.02\n",
            "Name: slope, dtype: float64\n"
          ]
        }
      ]
    },
    {
      "cell_type": "code",
      "source": [
        "df_clean.head()"
      ],
      "metadata": {
        "colab": {
          "base_uri": "https://localhost:8080/",
          "height": 206
        },
        "id": "PIbeUPIPz4dj",
        "outputId": "ec52658f-590f-4c6b-8f5c-c159af2d61ed"
      },
      "execution_count": 41,
      "outputs": [
        {
          "output_type": "execute_result",
          "data": {
            "text/plain": [
              "   age     sex    dataset               cp  trestbps   chol    fbs  \\\n",
              "0   63    Male  Cleveland   typical angina     145.0  233.0   True   \n",
              "1   67    Male  Cleveland     asymptomatic     160.0  286.0  False   \n",
              "2   67    Male  Cleveland     asymptomatic     120.0  229.0  False   \n",
              "3   37    Male  Cleveland      non-anginal     130.0  250.0  False   \n",
              "4   41  Female  Cleveland  atypical angina     130.0  204.0  False   \n",
              "\n",
              "          restecg  thalch  exang  oldpeak        slope   ca  \\\n",
              "0  lv hypertrophy   150.0  False      2.3  downsloping  0.0   \n",
              "1  lv hypertrophy   108.0   True      1.5         flat  3.0   \n",
              "2  lv hypertrophy   129.0   True      2.6         flat  2.0   \n",
              "3          normal   187.0  False      3.5  downsloping  0.0   \n",
              "4  lv hypertrophy   172.0  False      1.4    upsloping  0.0   \n",
              "\n",
              "                thal  num  \n",
              "0       fixed defect    0  \n",
              "1             normal    2  \n",
              "2  reversable defect    1  \n",
              "3             normal    0  \n",
              "4             normal    0  "
            ],
            "text/html": [
              "\n",
              "  <div id=\"df-2d424603-fe65-46e5-a1c4-c569b72f570a\" class=\"colab-df-container\">\n",
              "    <div>\n",
              "<style scoped>\n",
              "    .dataframe tbody tr th:only-of-type {\n",
              "        vertical-align: middle;\n",
              "    }\n",
              "\n",
              "    .dataframe tbody tr th {\n",
              "        vertical-align: top;\n",
              "    }\n",
              "\n",
              "    .dataframe thead th {\n",
              "        text-align: right;\n",
              "    }\n",
              "</style>\n",
              "<table border=\"1\" class=\"dataframe\">\n",
              "  <thead>\n",
              "    <tr style=\"text-align: right;\">\n",
              "      <th></th>\n",
              "      <th>age</th>\n",
              "      <th>sex</th>\n",
              "      <th>dataset</th>\n",
              "      <th>cp</th>\n",
              "      <th>trestbps</th>\n",
              "      <th>chol</th>\n",
              "      <th>fbs</th>\n",
              "      <th>restecg</th>\n",
              "      <th>thalch</th>\n",
              "      <th>exang</th>\n",
              "      <th>oldpeak</th>\n",
              "      <th>slope</th>\n",
              "      <th>ca</th>\n",
              "      <th>thal</th>\n",
              "      <th>num</th>\n",
              "    </tr>\n",
              "  </thead>\n",
              "  <tbody>\n",
              "    <tr>\n",
              "      <th>0</th>\n",
              "      <td>63</td>\n",
              "      <td>Male</td>\n",
              "      <td>Cleveland</td>\n",
              "      <td>typical angina</td>\n",
              "      <td>145.0</td>\n",
              "      <td>233.0</td>\n",
              "      <td>True</td>\n",
              "      <td>lv hypertrophy</td>\n",
              "      <td>150.0</td>\n",
              "      <td>False</td>\n",
              "      <td>2.3</td>\n",
              "      <td>downsloping</td>\n",
              "      <td>0.0</td>\n",
              "      <td>fixed defect</td>\n",
              "      <td>0</td>\n",
              "    </tr>\n",
              "    <tr>\n",
              "      <th>1</th>\n",
              "      <td>67</td>\n",
              "      <td>Male</td>\n",
              "      <td>Cleveland</td>\n",
              "      <td>asymptomatic</td>\n",
              "      <td>160.0</td>\n",
              "      <td>286.0</td>\n",
              "      <td>False</td>\n",
              "      <td>lv hypertrophy</td>\n",
              "      <td>108.0</td>\n",
              "      <td>True</td>\n",
              "      <td>1.5</td>\n",
              "      <td>flat</td>\n",
              "      <td>3.0</td>\n",
              "      <td>normal</td>\n",
              "      <td>2</td>\n",
              "    </tr>\n",
              "    <tr>\n",
              "      <th>2</th>\n",
              "      <td>67</td>\n",
              "      <td>Male</td>\n",
              "      <td>Cleveland</td>\n",
              "      <td>asymptomatic</td>\n",
              "      <td>120.0</td>\n",
              "      <td>229.0</td>\n",
              "      <td>False</td>\n",
              "      <td>lv hypertrophy</td>\n",
              "      <td>129.0</td>\n",
              "      <td>True</td>\n",
              "      <td>2.6</td>\n",
              "      <td>flat</td>\n",
              "      <td>2.0</td>\n",
              "      <td>reversable defect</td>\n",
              "      <td>1</td>\n",
              "    </tr>\n",
              "    <tr>\n",
              "      <th>3</th>\n",
              "      <td>37</td>\n",
              "      <td>Male</td>\n",
              "      <td>Cleveland</td>\n",
              "      <td>non-anginal</td>\n",
              "      <td>130.0</td>\n",
              "      <td>250.0</td>\n",
              "      <td>False</td>\n",
              "      <td>normal</td>\n",
              "      <td>187.0</td>\n",
              "      <td>False</td>\n",
              "      <td>3.5</td>\n",
              "      <td>downsloping</td>\n",
              "      <td>0.0</td>\n",
              "      <td>normal</td>\n",
              "      <td>0</td>\n",
              "    </tr>\n",
              "    <tr>\n",
              "      <th>4</th>\n",
              "      <td>41</td>\n",
              "      <td>Female</td>\n",
              "      <td>Cleveland</td>\n",
              "      <td>atypical angina</td>\n",
              "      <td>130.0</td>\n",
              "      <td>204.0</td>\n",
              "      <td>False</td>\n",
              "      <td>lv hypertrophy</td>\n",
              "      <td>172.0</td>\n",
              "      <td>False</td>\n",
              "      <td>1.4</td>\n",
              "      <td>upsloping</td>\n",
              "      <td>0.0</td>\n",
              "      <td>normal</td>\n",
              "      <td>0</td>\n",
              "    </tr>\n",
              "  </tbody>\n",
              "</table>\n",
              "</div>\n",
              "    <div class=\"colab-df-buttons\">\n",
              "\n",
              "  <div class=\"colab-df-container\">\n",
              "    <button class=\"colab-df-convert\" onclick=\"convertToInteractive('df-2d424603-fe65-46e5-a1c4-c569b72f570a')\"\n",
              "            title=\"Convert this dataframe to an interactive table.\"\n",
              "            style=\"display:none;\">\n",
              "\n",
              "  <svg xmlns=\"http://www.w3.org/2000/svg\" height=\"24px\" viewBox=\"0 -960 960 960\">\n",
              "    <path d=\"M120-120v-720h720v720H120Zm60-500h600v-160H180v160Zm220 220h160v-160H400v160Zm0 220h160v-160H400v160ZM180-400h160v-160H180v160Zm440 0h160v-160H620v160ZM180-180h160v-160H180v160Zm440 0h160v-160H620v160Z\"/>\n",
              "  </svg>\n",
              "    </button>\n",
              "\n",
              "  <style>\n",
              "    .colab-df-container {\n",
              "      display:flex;\n",
              "      gap: 12px;\n",
              "    }\n",
              "\n",
              "    .colab-df-convert {\n",
              "      background-color: #E8F0FE;\n",
              "      border: none;\n",
              "      border-radius: 50%;\n",
              "      cursor: pointer;\n",
              "      display: none;\n",
              "      fill: #1967D2;\n",
              "      height: 32px;\n",
              "      padding: 0 0 0 0;\n",
              "      width: 32px;\n",
              "    }\n",
              "\n",
              "    .colab-df-convert:hover {\n",
              "      background-color: #E2EBFA;\n",
              "      box-shadow: 0px 1px 2px rgba(60, 64, 67, 0.3), 0px 1px 3px 1px rgba(60, 64, 67, 0.15);\n",
              "      fill: #174EA6;\n",
              "    }\n",
              "\n",
              "    .colab-df-buttons div {\n",
              "      margin-bottom: 4px;\n",
              "    }\n",
              "\n",
              "    [theme=dark] .colab-df-convert {\n",
              "      background-color: #3B4455;\n",
              "      fill: #D2E3FC;\n",
              "    }\n",
              "\n",
              "    [theme=dark] .colab-df-convert:hover {\n",
              "      background-color: #434B5C;\n",
              "      box-shadow: 0px 1px 3px 1px rgba(0, 0, 0, 0.15);\n",
              "      filter: drop-shadow(0px 1px 2px rgba(0, 0, 0, 0.3));\n",
              "      fill: #FFFFFF;\n",
              "    }\n",
              "  </style>\n",
              "\n",
              "    <script>\n",
              "      const buttonEl =\n",
              "        document.querySelector('#df-2d424603-fe65-46e5-a1c4-c569b72f570a button.colab-df-convert');\n",
              "      buttonEl.style.display =\n",
              "        google.colab.kernel.accessAllowed ? 'block' : 'none';\n",
              "\n",
              "      async function convertToInteractive(key) {\n",
              "        const element = document.querySelector('#df-2d424603-fe65-46e5-a1c4-c569b72f570a');\n",
              "        const dataTable =\n",
              "          await google.colab.kernel.invokeFunction('convertToInteractive',\n",
              "                                                    [key], {});\n",
              "        if (!dataTable) return;\n",
              "\n",
              "        const docLinkHtml = 'Like what you see? Visit the ' +\n",
              "          '<a target=\"_blank\" href=https://colab.research.google.com/notebooks/data_table.ipynb>data table notebook</a>'\n",
              "          + ' to learn more about interactive tables.';\n",
              "        element.innerHTML = '';\n",
              "        dataTable['output_type'] = 'display_data';\n",
              "        await google.colab.output.renderOutput(dataTable, element);\n",
              "        const docLink = document.createElement('div');\n",
              "        docLink.innerHTML = docLinkHtml;\n",
              "        element.appendChild(docLink);\n",
              "      }\n",
              "    </script>\n",
              "  </div>\n",
              "\n",
              "\n",
              "<div id=\"df-106eb638-b6c5-4266-a575-651ea141a245\">\n",
              "  <button class=\"colab-df-quickchart\" onclick=\"quickchart('df-106eb638-b6c5-4266-a575-651ea141a245')\"\n",
              "            title=\"Suggest charts\"\n",
              "            style=\"display:none;\">\n",
              "\n",
              "<svg xmlns=\"http://www.w3.org/2000/svg\" height=\"24px\"viewBox=\"0 0 24 24\"\n",
              "     width=\"24px\">\n",
              "    <g>\n",
              "        <path d=\"M19 3H5c-1.1 0-2 .9-2 2v14c0 1.1.9 2 2 2h14c1.1 0 2-.9 2-2V5c0-1.1-.9-2-2-2zM9 17H7v-7h2v7zm4 0h-2V7h2v10zm4 0h-2v-4h2v4z\"/>\n",
              "    </g>\n",
              "</svg>\n",
              "  </button>\n",
              "\n",
              "<style>\n",
              "  .colab-df-quickchart {\n",
              "      --bg-color: #E8F0FE;\n",
              "      --fill-color: #1967D2;\n",
              "      --hover-bg-color: #E2EBFA;\n",
              "      --hover-fill-color: #174EA6;\n",
              "      --disabled-fill-color: #AAA;\n",
              "      --disabled-bg-color: #DDD;\n",
              "  }\n",
              "\n",
              "  [theme=dark] .colab-df-quickchart {\n",
              "      --bg-color: #3B4455;\n",
              "      --fill-color: #D2E3FC;\n",
              "      --hover-bg-color: #434B5C;\n",
              "      --hover-fill-color: #FFFFFF;\n",
              "      --disabled-bg-color: #3B4455;\n",
              "      --disabled-fill-color: #666;\n",
              "  }\n",
              "\n",
              "  .colab-df-quickchart {\n",
              "    background-color: var(--bg-color);\n",
              "    border: none;\n",
              "    border-radius: 50%;\n",
              "    cursor: pointer;\n",
              "    display: none;\n",
              "    fill: var(--fill-color);\n",
              "    height: 32px;\n",
              "    padding: 0;\n",
              "    width: 32px;\n",
              "  }\n",
              "\n",
              "  .colab-df-quickchart:hover {\n",
              "    background-color: var(--hover-bg-color);\n",
              "    box-shadow: 0 1px 2px rgba(60, 64, 67, 0.3), 0 1px 3px 1px rgba(60, 64, 67, 0.15);\n",
              "    fill: var(--button-hover-fill-color);\n",
              "  }\n",
              "\n",
              "  .colab-df-quickchart-complete:disabled,\n",
              "  .colab-df-quickchart-complete:disabled:hover {\n",
              "    background-color: var(--disabled-bg-color);\n",
              "    fill: var(--disabled-fill-color);\n",
              "    box-shadow: none;\n",
              "  }\n",
              "\n",
              "  .colab-df-spinner {\n",
              "    border: 2px solid var(--fill-color);\n",
              "    border-color: transparent;\n",
              "    border-bottom-color: var(--fill-color);\n",
              "    animation:\n",
              "      spin 1s steps(1) infinite;\n",
              "  }\n",
              "\n",
              "  @keyframes spin {\n",
              "    0% {\n",
              "      border-color: transparent;\n",
              "      border-bottom-color: var(--fill-color);\n",
              "      border-left-color: var(--fill-color);\n",
              "    }\n",
              "    20% {\n",
              "      border-color: transparent;\n",
              "      border-left-color: var(--fill-color);\n",
              "      border-top-color: var(--fill-color);\n",
              "    }\n",
              "    30% {\n",
              "      border-color: transparent;\n",
              "      border-left-color: var(--fill-color);\n",
              "      border-top-color: var(--fill-color);\n",
              "      border-right-color: var(--fill-color);\n",
              "    }\n",
              "    40% {\n",
              "      border-color: transparent;\n",
              "      border-right-color: var(--fill-color);\n",
              "      border-top-color: var(--fill-color);\n",
              "    }\n",
              "    60% {\n",
              "      border-color: transparent;\n",
              "      border-right-color: var(--fill-color);\n",
              "    }\n",
              "    80% {\n",
              "      border-color: transparent;\n",
              "      border-right-color: var(--fill-color);\n",
              "      border-bottom-color: var(--fill-color);\n",
              "    }\n",
              "    90% {\n",
              "      border-color: transparent;\n",
              "      border-bottom-color: var(--fill-color);\n",
              "    }\n",
              "  }\n",
              "</style>\n",
              "\n",
              "  <script>\n",
              "    async function quickchart(key) {\n",
              "      const quickchartButtonEl =\n",
              "        document.querySelector('#' + key + ' button');\n",
              "      quickchartButtonEl.disabled = true;  // To prevent multiple clicks.\n",
              "      quickchartButtonEl.classList.add('colab-df-spinner');\n",
              "      try {\n",
              "        const charts = await google.colab.kernel.invokeFunction(\n",
              "            'suggestCharts', [key], {});\n",
              "      } catch (error) {\n",
              "        console.error('Error during call to suggestCharts:', error);\n",
              "      }\n",
              "      quickchartButtonEl.classList.remove('colab-df-spinner');\n",
              "      quickchartButtonEl.classList.add('colab-df-quickchart-complete');\n",
              "    }\n",
              "    (() => {\n",
              "      let quickchartButtonEl =\n",
              "        document.querySelector('#df-106eb638-b6c5-4266-a575-651ea141a245 button');\n",
              "      quickchartButtonEl.style.display =\n",
              "        google.colab.kernel.accessAllowed ? 'block' : 'none';\n",
              "    })();\n",
              "  </script>\n",
              "</div>\n",
              "\n",
              "    </div>\n",
              "  </div>\n"
            ]
          },
          "metadata": {},
          "execution_count": 41
        }
      ]
    },
    {
      "cell_type": "markdown",
      "source": [
        "While training the model, we need to remove the columns with missing values in df_missing dataframe.\n",
        "This is because when we will predict the missing column the model will not ask for the missing value columns.\n",
        "\n",
        "If we train the model with columns that have missing values in df_missing, when we will try to predict, the model will ask for those columns."
      ],
      "metadata": {
        "id": "7m-6nEpXz4dj"
      }
    },
    {
      "cell_type": "code",
      "source": [
        "def predictions(target, drop_c):\n",
        "    X = df_clean.drop(drop_c, axis = 1)\n",
        "    y = df_clean[target]\n",
        "\n",
        "    le = LabelEncoder()\n",
        "\n",
        "    for col in X.columns:\n",
        "        if X[col].dtype == 'object':\n",
        "            X[col] = le.fit_transform(X[col])\n",
        "\n",
        "    model = RandomForestClassifier()\n",
        "\n",
        "    model.fit(X, y)\n",
        "\n",
        "    # Perform k-fold cross-validation with k=5\n",
        "    kf = StratifiedKFold(n_splits=6, shuffle=True, random_state=42)\n",
        "    scores = cross_val_score(model, X, y, cv=kf, scoring='accuracy')\n",
        "\n",
        "    print(\"Scores for each fold:\", scores)\n",
        "    print(\"Mean score:\", scores.mean())\n",
        "\n",
        "    # Plot the results\n",
        "    plt.figure(figsize=(8,6))\n",
        "    plt.plot(range(1,7), scores, color='blue', linestyle='dashed', marker='o', markerfacecolor='red', markersize=12)\n",
        "    plt.title('K-Fold Cross-Validation Results')\n",
        "    plt.xlabel('Fold Number')\n",
        "    plt.ylabel('Accuracy')\n",
        "    plt.ylim([0.5, 1.0])\n",
        "    plt.show()\n",
        "\n",
        "    return model"
      ],
      "metadata": {
        "id": "hYxQ7E1Ez4dj"
      },
      "execution_count": 42,
      "outputs": []
    },
    {
      "cell_type": "code",
      "source": [
        "model_slope = predictions('slope', ['slope', 'thal', 'ca'])"
      ],
      "metadata": {
        "colab": {
          "base_uri": "https://localhost:8080/",
          "height": 599
        },
        "id": "fXLoHf2zz4dj",
        "outputId": "82713f07-3231-45f7-b0df-03b51ba3b2ae"
      },
      "execution_count": 43,
      "outputs": [
        {
          "output_type": "stream",
          "name": "stdout",
          "text": [
            "Scores for each fold: [0.64       0.78       0.66       0.78       0.7        0.67346939]\n",
            "Mean score: 0.7055782312925171\n"
          ]
        },
        {
          "output_type": "display_data",
          "data": {
            "text/plain": [
              "<Figure size 800x600 with 1 Axes>"
            ],
            "image/png": "[encoded data removed]"
          },
          "metadata": {}
        }
      ]
    },
    {
      "cell_type": "code",
      "source": [
        "model_thal = predictions('thal', ['slope', 'thal', 'ca'])"
      ],
      "metadata": {
        "colab": {
          "base_uri": "https://localhost:8080/",
          "height": 599
        },
        "id": "_KNWu9-Bz4dj",
        "outputId": "38a91ffc-f930-4a37-e550-dfc47c405c3e"
      },
      "execution_count": 44,
      "outputs": [
        {
          "output_type": "stream",
          "name": "stdout",
          "text": [
            "Scores for each fold: [0.64       0.72       0.74       0.72       0.76       0.67346939]\n",
            "Mean score: 0.7089115646258501\n"
          ]
        },
        {
          "output_type": "display_data",
          "data": {
            "text/plain": [
              "<Figure size 800x600 with 1 Axes>"
            ],
            "image/png": "[encoded data removed]"
          },
          "metadata": {}
        }
      ]
    },
    {
      "cell_type": "code",
      "source": [
        "model_ca = predictions('ca', ['slope', 'thal', 'ca'])"
      ],
      "metadata": {
        "colab": {
          "base_uri": "https://localhost:8080/",
          "height": 599
        },
        "id": "z-XNcT05z4dk",
        "outputId": "e4fa3893-cbe3-4aff-bf11-b64ce7cabc4e"
      },
      "execution_count": 45,
      "outputs": [
        {
          "output_type": "stream",
          "name": "stdout",
          "text": [
            "Scores for each fold: [0.6        0.64       0.68       0.64       0.62       0.63265306]\n",
            "Mean score: 0.6354421768707483\n"
          ]
        },
        {
          "output_type": "display_data",
          "data": {
            "text/plain": [
              "<Figure size 800x600 with 1 Axes>"
            ],
            "image/png": "[encoded data removed]"
          },
          "metadata": {}
        }
      ]
    },
    {
      "cell_type": "markdown",
      "source": [
        "### Our Models are ready, lets use them to predict the missing values"
      ],
      "metadata": {
        "id": "8arCAI6Wz4dk"
      }
    },
    {
      "cell_type": "code",
      "source": [
        "df_missing.isnull().sum()"
      ],
      "metadata": {
        "colab": {
          "base_uri": "https://localhost:8080/"
        },
        "id": "4yV_4M6xz4dk",
        "outputId": "966463f0-1017-4e07-ef38-f175f53b5a42"
      },
      "execution_count": 46,
      "outputs": [
        {
          "output_type": "execute_result",
          "data": {
            "text/plain": [
              "age           0\n",
              "sex           0\n",
              "dataset       0\n",
              "cp            0\n",
              "trestbps      0\n",
              "chol          0\n",
              "fbs           0\n",
              "restecg       0\n",
              "thalch        0\n",
              "exang         0\n",
              "oldpeak       0\n",
              "slope       309\n",
              "ca          610\n",
              "thal        485\n",
              "num           0\n",
              "dtype: int64"
            ]
          },
          "metadata": {},
          "execution_count": 46
        }
      ]
    },
    {
      "cell_type": "code",
      "source": [
        "from sklearn.preprocessing import LabelEncoder\n",
        "\n",
        "def predict_missing_values(df_missing, model, target_column, exclude_columns=[]):\n",
        "    # Prepare encoded DataFrame\n",
        "    df_encoded = df_missing.drop(exclude_columns + [target_column], axis=1, errors='ignore')\n",
        "\n",
        "    # Label encode categorical columns\n",
        "    le = LabelEncoder()\n",
        "    for col in df_encoded.columns:\n",
        "        if df_encoded[col].dtype == 'object':\n",
        "            df_encoded[col] = le.fit_transform(df_encoded[col])\n",
        "\n",
        "    # Predict missing values\n",
        "    features_to_predict = df_encoded.drop([target_column], axis=1, errors='ignore')\n",
        "    y_pred = model.predict(features_to_predict)\n",
        "\n",
        "    # Replace missing values in the original DataFrame\n",
        "    df_missing[target_column] = y_pred\n",
        "\n",
        "# Usage:\n",
        "predict_missing_values(df_missing, model_slope, 'slope', exclude_columns=['thal', 'ca'])\n"
      ],
      "metadata": {
        "id": "FYCy-L9Vz4dk"
      },
      "execution_count": 47,
      "outputs": []
    },
    {
      "cell_type": "code",
      "source": [
        "predict_missing_values(df_missing, model_thal, 'thal', exclude_columns=['ca', 'slope'])\n",
        "predict_missing_values(df_missing, model_ca, 'ca', exclude_columns=['thal', 'slope'])"
      ],
      "metadata": {
        "id": "KhBmCjqMz4dk"
      },
      "execution_count": 48,
      "outputs": []
    },
    {
      "cell_type": "code",
      "source": [
        "df_missing.isnull().sum() / len(df) * 100"
      ],
      "metadata": {
        "colab": {
          "base_uri": "https://localhost:8080/"
        },
        "id": "3ZvDeM8Vz4dk",
        "outputId": "e93deca1-7879-453a-faa8-d63141e6dc2e"
      },
      "execution_count": 49,
      "outputs": [
        {
          "output_type": "execute_result",
          "data": {
            "text/plain": [
              "age         0.0\n",
              "sex         0.0\n",
              "dataset     0.0\n",
              "cp          0.0\n",
              "trestbps    0.0\n",
              "chol        0.0\n",
              "fbs         0.0\n",
              "restecg     0.0\n",
              "thalch      0.0\n",
              "exang       0.0\n",
              "oldpeak     0.0\n",
              "slope       0.0\n",
              "ca          0.0\n",
              "thal        0.0\n",
              "num         0.0\n",
              "dtype: float64"
            ]
          },
          "metadata": {},
          "execution_count": 49
        }
      ]
    },
    {
      "cell_type": "code",
      "source": [
        "# create a heatmap for df to check missing values\n",
        "plt.figure(figsize=(16, 6))\n",
        "sns.heatmap(df_missing.isnull(), cbar=False)\n",
        "plt.title('Missing values after imputation')\n",
        "plt.show()"
      ],
      "metadata": {
        "colab": {
          "base_uri": "https://localhost:8080/",
          "height": 545
        },
        "id": "yDDHxJ5Iz4dl",
        "outputId": "86c9e43d-869c-444c-b777-da266a8f2e89"
      },
      "execution_count": 50,
      "outputs": [
        {
          "output_type": "display_data",
          "data": {
            "text/plain": [
              "<Figure size 1600x600 with 1 Axes>"
            ],
            "image/png": "[encoded data removed]"
          },
          "metadata": {}
        }
      ]
    },
    {
      "cell_type": "code",
      "source": [
        "# Concatenate the two dataframes\n",
        "df_complete = pd.concat([df_missing, df_clean], axis=0)\n",
        "\n",
        "# Shape of the Dataframe\n",
        "print(\"The shape of the complete dataframe is: \", df_complete.shape)\n",
        "\n",
        "df_complete.head()"
      ],
      "metadata": {
        "colab": {
          "base_uri": "https://localhost:8080/",
          "height": 223
        },
        "id": "44kRjzFWz4dl",
        "outputId": "d54ccfa1-ec87-466e-dc20-a5b762e7a7b2"
      },
      "execution_count": 51,
      "outputs": [
        {
          "output_type": "stream",
          "name": "stdout",
          "text": [
            "The shape of the complete dataframe is:  (919, 15)\n"
          ]
        },
        {
          "output_type": "execute_result",
          "data": {
            "text/plain": [
              "     age     sex    dataset               cp  trestbps   chol    fbs  \\\n",
              "87    53  Female  Cleveland      non-anginal     128.0  216.0  False   \n",
              "166   52    Male  Cleveland      non-anginal     138.0  223.0  False   \n",
              "192   43    Male  Cleveland     asymptomatic     132.0  247.0   True   \n",
              "266   52    Male  Cleveland     asymptomatic     128.0  204.0   True   \n",
              "287   58    Male  Cleveland  atypical angina     125.0  220.0  False   \n",
              "\n",
              "            restecg  thalch  exang  oldpeak      slope   ca  \\\n",
              "87   lv hypertrophy   115.0  False      0.0  upsloping  0.0   \n",
              "166          normal   169.0  False      0.0  upsloping  0.0   \n",
              "192  lv hypertrophy   143.0   True      0.1  upsloping  0.0   \n",
              "266          normal   156.0   True      1.0  upsloping  2.0   \n",
              "287          normal   144.0  False      0.4  upsloping  0.0   \n",
              "\n",
              "                  thal  num  \n",
              "87              normal    0  \n",
              "166             normal    0  \n",
              "192  reversable defect    1  \n",
              "266  reversable defect    2  \n",
              "287  reversable defect    0  "
            ],
            "text/html": [
              "\n",
              "  <div id=\"df-11490fac-076e-4fe0-8243-4e00e5069e9e\" class=\"colab-df-container\">\n",
              "    <div>\n",
              "<style scoped>\n",
              "    .dataframe tbody tr th:only-of-type {\n",
              "        vertical-align: middle;\n",
              "    }\n",
              "\n",
              "    .dataframe tbody tr th {\n",
              "        vertical-align: top;\n",
              "    }\n",
              "\n",
              "    .dataframe thead th {\n",
              "        text-align: right;\n",
              "    }\n",
              "</style>\n",
              "<table border=\"1\" class=\"dataframe\">\n",
              "  <thead>\n",
              "    <tr style=\"text-align: right;\">\n",
              "      <th></th>\n",
              "      <th>age</th>\n",
              "      <th>sex</th>\n",
              "      <th>dataset</th>\n",
              "      <th>cp</th>\n",
              "      <th>trestbps</th>\n",
              "      <th>chol</th>\n",
              "      <th>fbs</th>\n",
              "      <th>restecg</th>\n",
              "      <th>thalch</th>\n",
              "      <th>exang</th>\n",
              "      <th>oldpeak</th>\n",
              "      <th>slope</th>\n",
              "      <th>ca</th>\n",
              "      <th>thal</th>\n",
              "      <th>num</th>\n",
              "    </tr>\n",
              "  </thead>\n",
              "  <tbody>\n",
              "    <tr>\n",
              "      <th>87</th>\n",
              "      <td>53</td>\n",
              "      <td>Female</td>\n",
              "      <td>Cleveland</td>\n",
              "      <td>non-anginal</td>\n",
              "      <td>128.0</td>\n",
              "      <td>216.0</td>\n",
              "      <td>False</td>\n",
              "      <td>lv hypertrophy</td>\n",
              "      <td>115.0</td>\n",
              "      <td>False</td>\n",
              "      <td>0.0</td>\n",
              "      <td>upsloping</td>\n",
              "      <td>0.0</td>\n",
              "      <td>normal</td>\n",
              "      <td>0</td>\n",
              "    </tr>\n",
              "    <tr>\n",
              "      <th>166</th>\n",
              "      <td>52</td>\n",
              "      <td>Male</td>\n",
              "      <td>Cleveland</td>\n",
              "      <td>non-anginal</td>\n",
              "      <td>138.0</td>\n",
              "      <td>223.0</td>\n",
              "      <td>False</td>\n",
              "      <td>normal</td>\n",
              "      <td>169.0</td>\n",
              "      <td>False</td>\n",
              "      <td>0.0</td>\n",
              "      <td>upsloping</td>\n",
              "      <td>0.0</td>\n",
              "      <td>normal</td>\n",
              "      <td>0</td>\n",
              "    </tr>\n",
              "    <tr>\n",
              "      <th>192</th>\n",
              "      <td>43</td>\n",
              "      <td>Male</td>\n",
              "      <td>Cleveland</td>\n",
              "      <td>asymptomatic</td>\n",
              "      <td>132.0</td>\n",
              "      <td>247.0</td>\n",
              "      <td>True</td>\n",
              "      <td>lv hypertrophy</td>\n",
              "      <td>143.0</td>\n",
              "      <td>True</td>\n",
              "      <td>0.1</td>\n",
              "      <td>upsloping</td>\n",
              "      <td>0.0</td>\n",
              "      <td>reversable defect</td>\n",
              "      <td>1</td>\n",
              "    </tr>\n",
              "    <tr>\n",
              "      <th>266</th>\n",
              "      <td>52</td>\n",
              "      <td>Male</td>\n",
              "      <td>Cleveland</td>\n",
              "      <td>asymptomatic</td>\n",
              "      <td>128.0</td>\n",
              "      <td>204.0</td>\n",
              "      <td>True</td>\n",
              "      <td>normal</td>\n",
              "      <td>156.0</td>\n",
              "      <td>True</td>\n",
              "      <td>1.0</td>\n",
              "      <td>upsloping</td>\n",
              "      <td>2.0</td>\n",
              "      <td>reversable defect</td>\n",
              "      <td>2</td>\n",
              "    </tr>\n",
              "    <tr>\n",
              "      <th>287</th>\n",
              "      <td>58</td>\n",
              "      <td>Male</td>\n",
              "      <td>Cleveland</td>\n",
              "      <td>atypical angina</td>\n",
              "      <td>125.0</td>\n",
              "      <td>220.0</td>\n",
              "      <td>False</td>\n",
              "      <td>normal</td>\n",
              "      <td>144.0</td>\n",
              "      <td>False</td>\n",
              "      <td>0.4</td>\n",
              "      <td>upsloping</td>\n",
              "      <td>0.0</td>\n",
              "      <td>reversable defect</td>\n",
              "      <td>0</td>\n",
              "    </tr>\n",
              "  </tbody>\n",
              "</table>\n",
              "</div>\n",
              "    <div class=\"colab-df-buttons\">\n",
              "\n",
              "  <div class=\"colab-df-container\">\n",
              "    <button class=\"colab-df-convert\" onclick=\"convertToInteractive('df-11490fac-076e-4fe0-8243-4e00e5069e9e')\"\n",
              "            title=\"Convert this dataframe to an interactive table.\"\n",
              "            style=\"display:none;\">\n",
              "\n",
              "  <svg xmlns=\"http://www.w3.org/2000/svg\" height=\"24px\" viewBox=\"0 -960 960 960\">\n",
              "    <path d=\"M120-120v-720h720v720H120Zm60-500h600v-160H180v160Zm220 220h160v-160H400v160Zm0 220h160v-160H400v160ZM180-400h160v-160H180v160Zm440 0h160v-160H620v160ZM180-180h160v-160H180v160Zm440 0h160v-160H620v160Z\"/>\n",
              "  </svg>\n",
              "    </button>\n",
              "\n",
              "  <style>\n",
              "    .colab-df-container {\n",
              "      display:flex;\n",
              "      gap: 12px;\n",
              "    }\n",
              "\n",
              "    .colab-df-convert {\n",
              "      background-color: #E8F0FE;\n",
              "      border: none;\n",
              "      border-radius: 50%;\n",
              "      cursor: pointer;\n",
              "      display: none;\n",
              "      fill: #1967D2;\n",
              "      height: 32px;\n",
              "      padding: 0 0 0 0;\n",
              "      width: 32px;\n",
              "    }\n",
              "\n",
              "    .colab-df-convert:hover {\n",
              "      background-color: #E2EBFA;\n",
              "      box-shadow: 0px 1px 2px rgba(60, 64, 67, 0.3), 0px 1px 3px 1px rgba(60, 64, 67, 0.15);\n",
              "      fill: #174EA6;\n",
              "    }\n",
              "\n",
              "    .colab-df-buttons div {\n",
              "      margin-bottom: 4px;\n",
              "    }\n",
              "\n",
              "    [theme=dark] .colab-df-convert {\n",
              "      background-color: #3B4455;\n",
              "      fill: #D2E3FC;\n",
              "    }\n",
              "\n",
              "    [theme=dark] .colab-df-convert:hover {\n",
              "      background-color: #434B5C;\n",
              "      box-shadow: 0px 1px 3px 1px rgba(0, 0, 0, 0.15);\n",
              "      filter: drop-shadow(0px 1px 2px rgba(0, 0, 0, 0.3));\n",
              "      fill: #FFFFFF;\n",
              "    }\n",
              "  </style>\n",
              "\n",
              "    <script>\n",
              "      const buttonEl =\n",
              "        document.querySelector('#df-11490fac-076e-4fe0-8243-4e00e5069e9e button.colab-df-convert');\n",
              "      buttonEl.style.display =\n",
              "        google.colab.kernel.accessAllowed ? 'block' : 'none';\n",
              "\n",
              "      async function convertToInteractive(key) {\n",
              "        const element = document.querySelector('#df-11490fac-076e-4fe0-8243-4e00e5069e9e');\n",
              "        const dataTable =\n",
              "          await google.colab.kernel.invokeFunction('convertToInteractive',\n",
              "                                                    [key], {});\n",
              "        if (!dataTable) return;\n",
              "\n",
              "        const docLinkHtml = 'Like what you see? Visit the ' +\n",
              "          '<a target=\"_blank\" href=https://colab.research.google.com/notebooks/data_table.ipynb>data table notebook</a>'\n",
              "          + ' to learn more about interactive tables.';\n",
              "        element.innerHTML = '';\n",
              "        dataTable['output_type'] = 'display_data';\n",
              "        await google.colab.output.renderOutput(dataTable, element);\n",
              "        const docLink = document.createElement('div');\n",
              "        docLink.innerHTML = docLinkHtml;\n",
              "        element.appendChild(docLink);\n",
              "      }\n",
              "    </script>\n",
              "  </div>\n",
              "\n",
              "\n",
              "<div id=\"df-c3b18241-03f4-4102-91b5-60a82b2a2620\">\n",
              "  <button class=\"colab-df-quickchart\" onclick=\"quickchart('df-c3b18241-03f4-4102-91b5-60a82b2a2620')\"\n",
              "            title=\"Suggest charts\"\n",
              "            style=\"display:none;\">\n",
              "\n",
              "<svg xmlns=\"http://www.w3.org/2000/svg\" height=\"24px\"viewBox=\"0 0 24 24\"\n",
              "     width=\"24px\">\n",
              "    <g>\n",
              "        <path d=\"M19 3H5c-1.1 0-2 .9-2 2v14c0 1.1.9 2 2 2h14c1.1 0 2-.9 2-2V5c0-1.1-.9-2-2-2zM9 17H7v-7h2v7zm4 0h-2V7h2v10zm4 0h-2v-4h2v4z\"/>\n",
              "    </g>\n",
              "</svg>\n",
              "  </button>\n",
              "\n",
              "<style>\n",
              "  .colab-df-quickchart {\n",
              "      --bg-color: #E8F0FE;\n",
              "      --fill-color: #1967D2;\n",
              "      --hover-bg-color: #E2EBFA;\n",
              "      --hover-fill-color: #174EA6;\n",
              "      --disabled-fill-color: #AAA;\n",
              "      --disabled-bg-color: #DDD;\n",
              "  }\n",
              "\n",
              "  [theme=dark] .colab-df-quickchart {\n",
              "      --bg-color: #3B4455;\n",
              "      --fill-color: #D2E3FC;\n",
              "      --hover-bg-color: #434B5C;\n",
              "      --hover-fill-color: #FFFFFF;\n",
              "      --disabled-bg-color: #3B4455;\n",
              "      --disabled-fill-color: #666;\n",
              "  }\n",
              "\n",
              "  .colab-df-quickchart {\n",
              "    background-color: var(--bg-color);\n",
              "    border: none;\n",
              "    border-radius: 50%;\n",
              "    cursor: pointer;\n",
              "    display: none;\n",
              "    fill: var(--fill-color);\n",
              "    height: 32px;\n",
              "    padding: 0;\n",
              "    width: 32px;\n",
              "  }\n",
              "\n",
              "  .colab-df-quickchart:hover {\n",
              "    background-color: var(--hover-bg-color);\n",
              "    box-shadow: 0 1px 2px rgba(60, 64, 67, 0.3), 0 1px 3px 1px rgba(60, 64, 67, 0.15);\n",
              "    fill: var(--button-hover-fill-color);\n",
              "  }\n",
              "\n",
              "  .colab-df-quickchart-complete:disabled,\n",
              "  .colab-df-quickchart-complete:disabled:hover {\n",
              "    background-color: var(--disabled-bg-color);\n",
              "    fill: var(--disabled-fill-color);\n",
              "    box-shadow: none;\n",
              "  }\n",
              "\n",
              "  .colab-df-spinner {\n",
              "    border: 2px solid var(--fill-color);\n",
              "    border-color: transparent;\n",
              "    border-bottom-color: var(--fill-color);\n",
              "    animation:\n",
              "      spin 1s steps(1) infinite;\n",
              "  }\n",
              "\n",
              "  @keyframes spin {\n",
              "    0% {\n",
              "      border-color: transparent;\n",
              "      border-bottom-color: var(--fill-color);\n",
              "      border-left-color: var(--fill-color);\n",
              "    }\n",
              "    20% {\n",
              "      border-color: transparent;\n",
              "      border-left-color: var(--fill-color);\n",
              "      border-top-color: var(--fill-color);\n",
              "    }\n",
              "    30% {\n",
              "      border-color: transparent;\n",
              "      border-left-color: var(--fill-color);\n",
              "      border-top-color: var(--fill-color);\n",
              "      border-right-color: var(--fill-color);\n",
              "    }\n",
              "    40% {\n",
              "      border-color: transparent;\n",
              "      border-right-color: var(--fill-color);\n",
              "      border-top-color: var(--fill-color);\n",
              "    }\n",
              "    60% {\n",
              "      border-color: transparent;\n",
              "      border-right-color: var(--fill-color);\n",
              "    }\n",
              "    80% {\n",
              "      border-color: transparent;\n",
              "      border-right-color: var(--fill-color);\n",
              "      border-bottom-color: var(--fill-color);\n",
              "    }\n",
              "    90% {\n",
              "      border-color: transparent;\n",
              "      border-bottom-color: var(--fill-color);\n",
              "    }\n",
              "  }\n",
              "</style>\n",
              "\n",
              "  <script>\n",
              "    async function quickchart(key) {\n",
              "      const quickchartButtonEl =\n",
              "        document.querySelector('#' + key + ' button');\n",
              "      quickchartButtonEl.disabled = true;  // To prevent multiple clicks.\n",
              "      quickchartButtonEl.classList.add('colab-df-spinner');\n",
              "      try {\n",
              "        const charts = await google.colab.kernel.invokeFunction(\n",
              "            'suggestCharts', [key], {});\n",
              "      } catch (error) {\n",
              "        console.error('Error during call to suggestCharts:', error);\n",
              "      }\n",
              "      quickchartButtonEl.classList.remove('colab-df-spinner');\n",
              "      quickchartButtonEl.classList.add('colab-df-quickchart-complete');\n",
              "    }\n",
              "    (() => {\n",
              "      let quickchartButtonEl =\n",
              "        document.querySelector('#df-c3b18241-03f4-4102-91b5-60a82b2a2620 button');\n",
              "      quickchartButtonEl.style.display =\n",
              "        google.colab.kernel.accessAllowed ? 'block' : 'none';\n",
              "    })();\n",
              "  </script>\n",
              "</div>\n",
              "\n",
              "    </div>\n",
              "  </div>\n"
            ]
          },
          "metadata": {},
          "execution_count": 51
        }
      ]
    },
    {
      "cell_type": "code",
      "source": [
        "df_complete.isnull().sum() / len(df) * 100"
      ],
      "metadata": {
        "colab": {
          "base_uri": "https://localhost:8080/"
        },
        "id": "WR9nodO3z4dl",
        "outputId": "49ea17e9-9820-4c05-abfa-f4fa7994e488"
      },
      "execution_count": 52,
      "outputs": [
        {
          "output_type": "execute_result",
          "data": {
            "text/plain": [
              "age         0.0\n",
              "sex         0.0\n",
              "dataset     0.0\n",
              "cp          0.0\n",
              "trestbps    0.0\n",
              "chol        0.0\n",
              "fbs         0.0\n",
              "restecg     0.0\n",
              "thalch      0.0\n",
              "exang       0.0\n",
              "oldpeak     0.0\n",
              "slope       0.0\n",
              "ca          0.0\n",
              "thal        0.0\n",
              "num         0.0\n",
              "dtype: float64"
            ]
          },
          "metadata": {},
          "execution_count": 52
        }
      ]
    },
    {
      "cell_type": "code",
      "source": [
        "df = df_complete"
      ],
      "metadata": {
        "id": "Pyfi5dEPz4dl"
      },
      "execution_count": 53,
      "outputs": []
    },
    {
      "cell_type": "code",
      "source": [
        "df = df.drop(columns=['dataset'], axis =1)"
      ],
      "metadata": {
        "id": "MMqBiEhKz4dl"
      },
      "execution_count": 54,
      "outputs": []
    },
    {
      "cell_type": "code",
      "source": [
        "df.shape"
      ],
      "metadata": {
        "colab": {
          "base_uri": "https://localhost:8080/"
        },
        "id": "nQcD4sMuz4dl",
        "outputId": "3c7f7777-0f90-4f8a-fe93-9e938555ed1a"
      },
      "execution_count": 55,
      "outputs": [
        {
          "output_type": "execute_result",
          "data": {
            "text/plain": [
              "(919, 14)"
            ]
          },
          "metadata": {},
          "execution_count": 55
        }
      ]
    },
    {
      "cell_type": "markdown",
      "source": [
        "------\n",
        "\n",
        "<span style=\"color: teal; font-size: 300%; font-weight: bold;\">Machine Learning</span>"
      ],
      "metadata": {
        "id": "VtSCvN0Bz4dm"
      }
    },
    {
      "cell_type": "markdown",
      "source": [
        "### Log Transformation"
      ],
      "metadata": {
        "id": "Ca159XlOz4dm"
      }
    },
    {
      "cell_type": "code",
      "source": [
        "df['age'] = np.log(df['age'])\n",
        "df.head()"
      ],
      "metadata": {
        "colab": {
          "base_uri": "https://localhost:8080/",
          "height": 206
        },
        "id": "wTFyAxgLz4dm",
        "outputId": "be94d3c2-ea1f-4a89-c899-d790f4e21941"
      },
      "execution_count": 56,
      "outputs": [
        {
          "output_type": "execute_result",
          "data": {
            "text/plain": [
              "          age     sex               cp  trestbps   chol    fbs  \\\n",
              "87   3.970292  Female      non-anginal     128.0  216.0  False   \n",
              "166  3.951244    Male      non-anginal     138.0  223.0  False   \n",
              "192  3.761200    Male     asymptomatic     132.0  247.0   True   \n",
              "266  3.951244    Male     asymptomatic     128.0  204.0   True   \n",
              "287  4.060443    Male  atypical angina     125.0  220.0  False   \n",
              "\n",
              "            restecg  thalch  exang  oldpeak      slope   ca  \\\n",
              "87   lv hypertrophy   115.0  False      0.0  upsloping  0.0   \n",
              "166          normal   169.0  False      0.0  upsloping  0.0   \n",
              "192  lv hypertrophy   143.0   True      0.1  upsloping  0.0   \n",
              "266          normal   156.0   True      1.0  upsloping  2.0   \n",
              "287          normal   144.0  False      0.4  upsloping  0.0   \n",
              "\n",
              "                  thal  num  \n",
              "87              normal    0  \n",
              "166             normal    0  \n",
              "192  reversable defect    1  \n",
              "266  reversable defect    2  \n",
              "287  reversable defect    0  "
            ],
            "text/html": [
              "\n",
              "  <div id=\"df-29799746-064f-45f3-87f7-3861f1adbe1c\" class=\"colab-df-container\">\n",
              "    <div>\n",
              "<style scoped>\n",
              "    .dataframe tbody tr th:only-of-type {\n",
              "        vertical-align: middle;\n",
              "    }\n",
              "\n",
              "    .dataframe tbody tr th {\n",
              "        vertical-align: top;\n",
              "    }\n",
              "\n",
              "    .dataframe thead th {\n",
              "        text-align: right;\n",
              "    }\n",
              "</style>\n",
              "<table border=\"1\" class=\"dataframe\">\n",
              "  <thead>\n",
              "    <tr style=\"text-align: right;\">\n",
              "      <th></th>\n",
              "      <th>age</th>\n",
              "      <th>sex</th>\n",
              "      <th>cp</th>\n",
              "      <th>trestbps</th>\n",
              "      <th>chol</th>\n",
              "      <th>fbs</th>\n",
              "      <th>restecg</th>\n",
              "      <th>thalch</th>\n",
              "      <th>exang</th>\n",
              "      <th>oldpeak</th>\n",
              "      <th>slope</th>\n",
              "      <th>ca</th>\n",
              "      <th>thal</th>\n",
              "      <th>num</th>\n",
              "    </tr>\n",
              "  </thead>\n",
              "  <tbody>\n",
              "    <tr>\n",
              "      <th>87</th>\n",
              "      <td>3.970292</td>\n",
              "      <td>Female</td>\n",
              "      <td>non-anginal</td>\n",
              "      <td>128.0</td>\n",
              "      <td>216.0</td>\n",
              "      <td>False</td>\n",
              "      <td>lv hypertrophy</td>\n",
              "      <td>115.0</td>\n",
              "      <td>False</td>\n",
              "      <td>0.0</td>\n",
              "      <td>upsloping</td>\n",
              "      <td>0.0</td>\n",
              "      <td>normal</td>\n",
              "      <td>0</td>\n",
              "    </tr>\n",
              "    <tr>\n",
              "      <th>166</th>\n",
              "      <td>3.951244</td>\n",
              "      <td>Male</td>\n",
              "      <td>non-anginal</td>\n",
              "      <td>138.0</td>\n",
              "      <td>223.0</td>\n",
              "      <td>False</td>\n",
              "      <td>normal</td>\n",
              "      <td>169.0</td>\n",
              "      <td>False</td>\n",
              "      <td>0.0</td>\n",
              "      <td>upsloping</td>\n",
              "      <td>0.0</td>\n",
              "      <td>normal</td>\n",
              "      <td>0</td>\n",
              "    </tr>\n",
              "    <tr>\n",
              "      <th>192</th>\n",
              "      <td>3.761200</td>\n",
              "      <td>Male</td>\n",
              "      <td>asymptomatic</td>\n",
              "      <td>132.0</td>\n",
              "      <td>247.0</td>\n",
              "      <td>True</td>\n",
              "      <td>lv hypertrophy</td>\n",
              "      <td>143.0</td>\n",
              "      <td>True</td>\n",
              "      <td>0.1</td>\n",
              "      <td>upsloping</td>\n",
              "      <td>0.0</td>\n",
              "      <td>reversable defect</td>\n",
              "      <td>1</td>\n",
              "    </tr>\n",
              "    <tr>\n",
              "      <th>266</th>\n",
              "      <td>3.951244</td>\n",
              "      <td>Male</td>\n",
              "      <td>asymptomatic</td>\n",
              "      <td>128.0</td>\n",
              "      <td>204.0</td>\n",
              "      <td>True</td>\n",
              "      <td>normal</td>\n",
              "      <td>156.0</td>\n",
              "      <td>True</td>\n",
              "      <td>1.0</td>\n",
              "      <td>upsloping</td>\n",
              "      <td>2.0</td>\n",
              "      <td>reversable defect</td>\n",
              "      <td>2</td>\n",
              "    </tr>\n",
              "    <tr>\n",
              "      <th>287</th>\n",
              "      <td>4.060443</td>\n",
              "      <td>Male</td>\n",
              "      <td>atypical angina</td>\n",
              "      <td>125.0</td>\n",
              "      <td>220.0</td>\n",
              "      <td>False</td>\n",
              "      <td>normal</td>\n",
              "      <td>144.0</td>\n",
              "      <td>False</td>\n",
              "      <td>0.4</td>\n",
              "      <td>upsloping</td>\n",
              "      <td>0.0</td>\n",
              "      <td>reversable defect</td>\n",
              "      <td>0</td>\n",
              "    </tr>\n",
              "  </tbody>\n",
              "</table>\n",
              "</div>\n",
              "    <div class=\"colab-df-buttons\">\n",
              "\n",
              "  <div class=\"colab-df-container\">\n",
              "    <button class=\"colab-df-convert\" onclick=\"convertToInteractive('df-29799746-064f-45f3-87f7-3861f1adbe1c')\"\n",
              "            title=\"Convert this dataframe to an interactive table.\"\n",
              "            style=\"display:none;\">\n",
              "\n",
              "  <svg xmlns=\"http://www.w3.org/2000/svg\" height=\"24px\" viewBox=\"0 -960 960 960\">\n",
              "    <path d=\"M120-120v-720h720v720H120Zm60-500h600v-160H180v160Zm220 220h160v-160H400v160Zm0 220h160v-160H400v160ZM180-400h160v-160H180v160Zm440 0h160v-160H620v160ZM180-180h160v-160H180v160Zm440 0h160v-160H620v160Z\"/>\n",
              "  </svg>\n",
              "    </button>\n",
              "\n",
              "  <style>\n",
              "    .colab-df-container {\n",
              "      display:flex;\n",
              "      gap: 12px;\n",
              "    }\n",
              "\n",
              "    .colab-df-convert {\n",
              "      background-color: #E8F0FE;\n",
              "      border: none;\n",
              "      border-radius: 50%;\n",
              "      cursor: pointer;\n",
              "      display: none;\n",
              "      fill: #1967D2;\n",
              "      height: 32px;\n",
              "      padding: 0 0 0 0;\n",
              "      width: 32px;\n",
              "    }\n",
              "\n",
              "    .colab-df-convert:hover {\n",
              "      background-color: #E2EBFA;\n",
              "      box-shadow: 0px 1px 2px rgba(60, 64, 67, 0.3), 0px 1px 3px 1px rgba(60, 64, 67, 0.15);\n",
              "      fill: #174EA6;\n",
              "    }\n",
              "\n",
              "    .colab-df-buttons div {\n",
              "      margin-bottom: 4px;\n",
              "    }\n",
              "\n",
              "    [theme=dark] .colab-df-convert {\n",
              "      background-color: #3B4455;\n",
              "      fill: #D2E3FC;\n",
              "    }\n",
              "\n",
              "    [theme=dark] .colab-df-convert:hover {\n",
              "      background-color: #434B5C;\n",
              "      box-shadow: 0px 1px 3px 1px rgba(0, 0, 0, 0.15);\n",
              "      filter: drop-shadow(0px 1px 2px rgba(0, 0, 0, 0.3));\n",
              "      fill: #FFFFFF;\n",
              "    }\n",
              "  </style>\n",
              "\n",
              "    <script>\n",
              "      const buttonEl =\n",
              "        document.querySelector('#df-29799746-064f-45f3-87f7-3861f1adbe1c button.colab-df-convert');\n",
              "      buttonEl.style.display =\n",
              "        google.colab.kernel.accessAllowed ? 'block' : 'none';\n",
              "\n",
              "      async function convertToInteractive(key) {\n",
              "        const element = document.querySelector('#df-29799746-064f-45f3-87f7-3861f1adbe1c');\n",
              "        const dataTable =\n",
              "          await google.colab.kernel.invokeFunction('convertToInteractive',\n",
              "                                                    [key], {});\n",
              "        if (!dataTable) return;\n",
              "\n",
              "        const docLinkHtml = 'Like what you see? Visit the ' +\n",
              "          '<a target=\"_blank\" href=https://colab.research.google.com/notebooks/data_table.ipynb>data table notebook</a>'\n",
              "          + ' to learn more about interactive tables.';\n",
              "        element.innerHTML = '';\n",
              "        dataTable['output_type'] = 'display_data';\n",
              "        await google.colab.output.renderOutput(dataTable, element);\n",
              "        const docLink = document.createElement('div');\n",
              "        docLink.innerHTML = docLinkHtml;\n",
              "        element.appendChild(docLink);\n",
              "      }\n",
              "    </script>\n",
              "  </div>\n",
              "\n",
              "\n",
              "<div id=\"df-b958c0b4-d24b-4e98-9f1d-15edeecb85f3\">\n",
              "  <button class=\"colab-df-quickchart\" onclick=\"quickchart('df-b958c0b4-d24b-4e98-9f1d-15edeecb85f3')\"\n",
              "            title=\"Suggest charts\"\n",
              "            style=\"display:none;\">\n",
              "\n",
              "<svg xmlns=\"http://www.w3.org/2000/svg\" height=\"24px\"viewBox=\"0 0 24 24\"\n",
              "     width=\"24px\">\n",
              "    <g>\n",
              "        <path d=\"M19 3H5c-1.1 0-2 .9-2 2v14c0 1.1.9 2 2 2h14c1.1 0 2-.9 2-2V5c0-1.1-.9-2-2-2zM9 17H7v-7h2v7zm4 0h-2V7h2v10zm4 0h-2v-4h2v4z\"/>\n",
              "    </g>\n",
              "</svg>\n",
              "  </button>\n",
              "\n",
              "<style>\n",
              "  .colab-df-quickchart {\n",
              "      --bg-color: #E8F0FE;\n",
              "      --fill-color: #1967D2;\n",
              "      --hover-bg-color: #E2EBFA;\n",
              "      --hover-fill-color: #174EA6;\n",
              "      --disabled-fill-color: #AAA;\n",
              "      --disabled-bg-color: #DDD;\n",
              "  }\n",
              "\n",
              "  [theme=dark] .colab-df-quickchart {\n",
              "      --bg-color: #3B4455;\n",
              "      --fill-color: #D2E3FC;\n",
              "      --hover-bg-color: #434B5C;\n",
              "      --hover-fill-color: #FFFFFF;\n",
              "      --disabled-bg-color: #3B4455;\n",
              "      --disabled-fill-color: #666;\n",
              "  }\n",
              "\n",
              "  .colab-df-quickchart {\n",
              "    background-color: var(--bg-color);\n",
              "    border: none;\n",
              "    border-radius: 50%;\n",
              "    cursor: pointer;\n",
              "    display: none;\n",
              "    fill: var(--fill-color);\n",
              "    height: 32px;\n",
              "    padding: 0;\n",
              "    width: 32px;\n",
              "  }\n",
              "\n",
              "  .colab-df-quickchart:hover {\n",
              "    background-color: var(--hover-bg-color);\n",
              "    box-shadow: 0 1px 2px rgba(60, 64, 67, 0.3), 0 1px 3px 1px rgba(60, 64, 67, 0.15);\n",
              "    fill: var(--button-hover-fill-color);\n",
              "  }\n",
              "\n",
              "  .colab-df-quickchart-complete:disabled,\n",
              "  .colab-df-quickchart-complete:disabled:hover {\n",
              "    background-color: var(--disabled-bg-color);\n",
              "    fill: var(--disabled-fill-color);\n",
              "    box-shadow: none;\n",
              "  }\n",
              "\n",
              "  .colab-df-spinner {\n",
              "    border: 2px solid var(--fill-color);\n",
              "    border-color: transparent;\n",
              "    border-bottom-color: var(--fill-color);\n",
              "    animation:\n",
              "      spin 1s steps(1) infinite;\n",
              "  }\n",
              "\n",
              "  @keyframes spin {\n",
              "    0% {\n",
              "      border-color: transparent;\n",
              "      border-bottom-color: var(--fill-color);\n",
              "      border-left-color: var(--fill-color);\n",
              "    }\n",
              "    20% {\n",
              "      border-color: transparent;\n",
              "      border-left-color: var(--fill-color);\n",
              "      border-top-color: var(--fill-color);\n",
              "    }\n",
              "    30% {\n",
              "      border-color: transparent;\n",
              "      border-left-color: var(--fill-color);\n",
              "      border-top-color: var(--fill-color);\n",
              "      border-right-color: var(--fill-color);\n",
              "    }\n",
              "    40% {\n",
              "      border-color: transparent;\n",
              "      border-right-color: var(--fill-color);\n",
              "      border-top-color: var(--fill-color);\n",
              "    }\n",
              "    60% {\n",
              "      border-color: transparent;\n",
              "      border-right-color: var(--fill-color);\n",
              "    }\n",
              "    80% {\n",
              "      border-color: transparent;\n",
              "      border-right-color: var(--fill-color);\n",
              "      border-bottom-color: var(--fill-color);\n",
              "    }\n",
              "    90% {\n",
              "      border-color: transparent;\n",
              "      border-bottom-color: var(--fill-color);\n",
              "    }\n",
              "  }\n",
              "</style>\n",
              "\n",
              "  <script>\n",
              "    async function quickchart(key) {\n",
              "      const quickchartButtonEl =\n",
              "        document.querySelector('#' + key + ' button');\n",
              "      quickchartButtonEl.disabled = true;  // To prevent multiple clicks.\n",
              "      quickchartButtonEl.classList.add('colab-df-spinner');\n",
              "      try {\n",
              "        const charts = await google.colab.kernel.invokeFunction(\n",
              "            'suggestCharts', [key], {});\n",
              "      } catch (error) {\n",
              "        console.error('Error during call to suggestCharts:', error);\n",
              "      }\n",
              "      quickchartButtonEl.classList.remove('colab-df-spinner');\n",
              "      quickchartButtonEl.classList.add('colab-df-quickchart-complete');\n",
              "    }\n",
              "    (() => {\n",
              "      let quickchartButtonEl =\n",
              "        document.querySelector('#df-b958c0b4-d24b-4e98-9f1d-15edeecb85f3 button');\n",
              "      quickchartButtonEl.style.display =\n",
              "        google.colab.kernel.accessAllowed ? 'block' : 'none';\n",
              "    })();\n",
              "  </script>\n",
              "</div>\n",
              "\n",
              "    </div>\n",
              "  </div>\n"
            ]
          },
          "metadata": {},
          "execution_count": 56
        }
      ]
    },
    {
      "cell_type": "code",
      "source": [
        "df.columns"
      ],
      "metadata": {
        "colab": {
          "base_uri": "https://localhost:8080/"
        },
        "id": "SgILemvOz4dm",
        "outputId": "c343c72a-7185-494e-f0e4-ea67689aba6c"
      },
      "execution_count": 57,
      "outputs": [
        {
          "output_type": "execute_result",
          "data": {
            "text/plain": [
              "Index(['age', 'sex', 'cp', 'trestbps', 'chol', 'fbs', 'restecg', 'thalch',\n",
              "       'exang', 'oldpeak', 'slope', 'ca', 'thal', 'num'],\n",
              "      dtype='object')"
            ]
          },
          "metadata": {},
          "execution_count": 57
        }
      ]
    },
    {
      "cell_type": "code",
      "source": [
        "#Spliting Data\n",
        "\n",
        "X = df.drop('num', axis= 1)\n",
        "y = df['num']\n",
        "\n",
        "scaler = MinMaxScaler()\n",
        "columns_to_scale = ['trestbps', 'thalch', 'chol']\n",
        "X[columns_to_scale] = scaler.fit_transform(X[columns_to_scale])\n",
        "\n",
        "\n",
        "sex_encoder = LabelEncoder()\n",
        "dataset_encoder = LabelEncoder()\n",
        "cp_encoder = LabelEncoder()\n",
        "fbs_encoder = LabelEncoder()\n",
        "restecg_encoder = LabelEncoder()\n",
        "exang_encoder = LabelEncoder()\n",
        "slope_encoder = LabelEncoder()\n",
        "thal_encoder = LabelEncoder()\n",
        "\n",
        "\n",
        "X['sex'] = sex_encoder.fit_transform(X['sex'])\n",
        "X['cp'] = cp_encoder.fit_transform(X['cp'])\n",
        "X['fbs'] = fbs_encoder.fit_transform(X['fbs'])\n",
        "X['restecg'] = restecg_encoder.fit_transform(X['restecg'])\n",
        "X['exang'] = exang_encoder.fit_transform(X['exang'])\n",
        "X['slope'] = slope_encoder.fit_transform(X['slope'])\n",
        "X['thal'] = thal_encoder.fit_transform(X['thal'])"
      ],
      "metadata": {
        "id": "pGRYDitzz4dm"
      },
      "execution_count": 61,
      "outputs": []
    },
    {
      "cell_type": "code",
      "source": [
        "X.head()"
      ],
      "metadata": {
        "colab": {
          "base_uri": "https://localhost:8080/",
          "height": 206
        },
        "id": "0oBKL179z4dm",
        "outputId": "e29763e7-7311-4357-8e1f-8f8fc13829b6"
      },
      "execution_count": 62,
      "outputs": [
        {
          "output_type": "execute_result",
          "data": {
            "text/plain": [
              "          age  sex  cp  trestbps      chol  fbs  restecg    thalch  exang  \\\n",
              "87   3.970292    0   2  0.400000  0.358209    0        0  0.387324      0   \n",
              "166  3.951244    1   2  0.483333  0.369818    0        1  0.767606      0   \n",
              "192  3.761200    1   0  0.433333  0.409619    1        0  0.584507      1   \n",
              "266  3.951244    1   0  0.400000  0.338308    1        1  0.676056      1   \n",
              "287  4.060443    1   1  0.375000  0.364842    0        1  0.591549      0   \n",
              "\n",
              "     oldpeak  slope   ca  thal  \n",
              "87       0.0      2  0.0     1  \n",
              "166      0.0      2  0.0     1  \n",
              "192      0.1      2  0.0     2  \n",
              "266      1.0      2  2.0     2  \n",
              "287      0.4      2  0.0     2  "
            ],
            "text/html": [
              "\n",
              "  <div id=\"df-f4335bca-0ed4-434e-8fd7-e3e7c0a0dfdb\" class=\"colab-df-container\">\n",
              "    <div>\n",
              "<style scoped>\n",
              "    .dataframe tbody tr th:only-of-type {\n",
              "        vertical-align: middle;\n",
              "    }\n",
              "\n",
              "    .dataframe tbody tr th {\n",
              "        vertical-align: top;\n",
              "    }\n",
              "\n",
              "    .dataframe thead th {\n",
              "        text-align: right;\n",
              "    }\n",
              "</style>\n",
              "<table border=\"1\" class=\"dataframe\">\n",
              "  <thead>\n",
              "    <tr style=\"text-align: right;\">\n",
              "      <th></th>\n",
              "      <th>age</th>\n",
              "      <th>sex</th>\n",
              "      <th>cp</th>\n",
              "      <th>trestbps</th>\n",
              "      <th>chol</th>\n",
              "      <th>fbs</th>\n",
              "      <th>restecg</th>\n",
              "      <th>thalch</th>\n",
              "      <th>exang</th>\n",
              "      <th>oldpeak</th>\n",
              "      <th>slope</th>\n",
              "      <th>ca</th>\n",
              "      <th>thal</th>\n",
              "    </tr>\n",
              "  </thead>\n",
              "  <tbody>\n",
              "    <tr>\n",
              "      <th>87</th>\n",
              "      <td>3.970292</td>\n",
              "      <td>0</td>\n",
              "      <td>2</td>\n",
              "      <td>0.400000</td>\n",
              "      <td>0.358209</td>\n",
              "      <td>0</td>\n",
              "      <td>0</td>\n",
              "      <td>0.387324</td>\n",
              "      <td>0</td>\n",
              "      <td>0.0</td>\n",
              "      <td>2</td>\n",
              "      <td>0.0</td>\n",
              "      <td>1</td>\n",
              "    </tr>\n",
              "    <tr>\n",
              "      <th>166</th>\n",
              "      <td>3.951244</td>\n",
              "      <td>1</td>\n",
              "      <td>2</td>\n",
              "      <td>0.483333</td>\n",
              "      <td>0.369818</td>\n",
              "      <td>0</td>\n",
              "      <td>1</td>\n",
              "      <td>0.767606</td>\n",
              "      <td>0</td>\n",
              "      <td>0.0</td>\n",
              "      <td>2</td>\n",
              "      <td>0.0</td>\n",
              "      <td>1</td>\n",
              "    </tr>\n",
              "    <tr>\n",
              "      <th>192</th>\n",
              "      <td>3.761200</td>\n",
              "      <td>1</td>\n",
              "      <td>0</td>\n",
              "      <td>0.433333</td>\n",
              "      <td>0.409619</td>\n",
              "      <td>1</td>\n",
              "      <td>0</td>\n",
              "      <td>0.584507</td>\n",
              "      <td>1</td>\n",
              "      <td>0.1</td>\n",
              "      <td>2</td>\n",
              "      <td>0.0</td>\n",
              "      <td>2</td>\n",
              "    </tr>\n",
              "    <tr>\n",
              "      <th>266</th>\n",
              "      <td>3.951244</td>\n",
              "      <td>1</td>\n",
              "      <td>0</td>\n",
              "      <td>0.400000</td>\n",
              "      <td>0.338308</td>\n",
              "      <td>1</td>\n",
              "      <td>1</td>\n",
              "      <td>0.676056</td>\n",
              "      <td>1</td>\n",
              "      <td>1.0</td>\n",
              "      <td>2</td>\n",
              "      <td>2.0</td>\n",
              "      <td>2</td>\n",
              "    </tr>\n",
              "    <tr>\n",
              "      <th>287</th>\n",
              "      <td>4.060443</td>\n",
              "      <td>1</td>\n",
              "      <td>1</td>\n",
              "      <td>0.375000</td>\n",
              "      <td>0.364842</td>\n",
              "      <td>0</td>\n",
              "      <td>1</td>\n",
              "      <td>0.591549</td>\n",
              "      <td>0</td>\n",
              "      <td>0.4</td>\n",
              "      <td>2</td>\n",
              "      <td>0.0</td>\n",
              "      <td>2</td>\n",
              "    </tr>\n",
              "  </tbody>\n",
              "</table>\n",
              "</div>\n",
              "    <div class=\"colab-df-buttons\">\n",
              "\n",
              "  <div class=\"colab-df-container\">\n",
              "    <button class=\"colab-df-convert\" onclick=\"convertToInteractive('df-f4335bca-0ed4-434e-8fd7-e3e7c0a0dfdb')\"\n",
              "            title=\"Convert this dataframe to an interactive table.\"\n",
              "            style=\"display:none;\">\n",
              "\n",
              "  <svg xmlns=\"http://www.w3.org/2000/svg\" height=\"24px\" viewBox=\"0 -960 960 960\">\n",
              "    <path d=\"M120-120v-720h720v720H120Zm60-500h600v-160H180v160Zm220 220h160v-160H400v160Zm0 220h160v-160H400v160ZM180-400h160v-160H180v160Zm440 0h160v-160H620v160ZM180-180h160v-160H180v160Zm440 0h160v-160H620v160Z\"/>\n",
              "  </svg>\n",
              "    </button>\n",
              "\n",
              "  <style>\n",
              "    .colab-df-container {\n",
              "      display:flex;\n",
              "      gap: 12px;\n",
              "    }\n",
              "\n",
              "    .colab-df-convert {\n",
              "      background-color: #E8F0FE;\n",
              "      border: none;\n",
              "      border-radius: 50%;\n",
              "      cursor: pointer;\n",
              "      display: none;\n",
              "      fill: #1967D2;\n",
              "      height: 32px;\n",
              "      padding: 0 0 0 0;\n",
              "      width: 32px;\n",
              "    }\n",
              "\n",
              "    .colab-df-convert:hover {\n",
              "      background-color: #E2EBFA;\n",
              "      box-shadow: 0px 1px 2px rgba(60, 64, 67, 0.3), 0px 1px 3px 1px rgba(60, 64, 67, 0.15);\n",
              "      fill: #174EA6;\n",
              "    }\n",
              "\n",
              "    .colab-df-buttons div {\n",
              "      margin-bottom: 4px;\n",
              "    }\n",
              "\n",
              "    [theme=dark] .colab-df-convert {\n",
              "      background-color: #3B4455;\n",
              "      fill: #D2E3FC;\n",
              "    }\n",
              "\n",
              "    [theme=dark] .colab-df-convert:hover {\n",
              "      background-color: #434B5C;\n",
              "      box-shadow: 0px 1px 3px 1px rgba(0, 0, 0, 0.15);\n",
              "      filter: drop-shadow(0px 1px 2px rgba(0, 0, 0, 0.3));\n",
              "      fill: #FFFFFF;\n",
              "    }\n",
              "  </style>\n",
              "\n",
              "    <script>\n",
              "      const buttonEl =\n",
              "        document.querySelector('#df-f4335bca-0ed4-434e-8fd7-e3e7c0a0dfdb button.colab-df-convert');\n",
              "      buttonEl.style.display =\n",
              "        google.colab.kernel.accessAllowed ? 'block' : 'none';\n",
              "\n",
              "      async function convertToInteractive(key) {\n",
              "        const element = document.querySelector('#df-f4335bca-0ed4-434e-8fd7-e3e7c0a0dfdb');\n",
              "        const dataTable =\n",
              "          await google.colab.kernel.invokeFunction('convertToInteractive',\n",
              "                                                    [key], {});\n",
              "        if (!dataTable) return;\n",
              "\n",
              "        const docLinkHtml = 'Like what you see? Visit the ' +\n",
              "          '<a target=\"_blank\" href=https://colab.research.google.com/notebooks/data_table.ipynb>data table notebook</a>'\n",
              "          + ' to learn more about interactive tables.';\n",
              "        element.innerHTML = '';\n",
              "        dataTable['output_type'] = 'display_data';\n",
              "        await google.colab.output.renderOutput(dataTable, element);\n",
              "        const docLink = document.createElement('div');\n",
              "        docLink.innerHTML = docLinkHtml;\n",
              "        element.appendChild(docLink);\n",
              "      }\n",
              "    </script>\n",
              "  </div>\n",
              "\n",
              "\n",
              "<div id=\"df-47ecd631-7872-47f4-b3f3-466b669507bf\">\n",
              "  <button class=\"colab-df-quickchart\" onclick=\"quickchart('df-47ecd631-7872-47f4-b3f3-466b669507bf')\"\n",
              "            title=\"Suggest charts\"\n",
              "            style=\"display:none;\">\n",
              "\n",
              "<svg xmlns=\"http://www.w3.org/2000/svg\" height=\"24px\"viewBox=\"0 0 24 24\"\n",
              "     width=\"24px\">\n",
              "    <g>\n",
              "        <path d=\"M19 3H5c-1.1 0-2 .9-2 2v14c0 1.1.9 2 2 2h14c1.1 0 2-.9 2-2V5c0-1.1-.9-2-2-2zM9 17H7v-7h2v7zm4 0h-2V7h2v10zm4 0h-2v-4h2v4z\"/>\n",
              "    </g>\n",
              "</svg>\n",
              "  </button>\n",
              "\n",
              "<style>\n",
              "  .colab-df-quickchart {\n",
              "      --bg-color: #E8F0FE;\n",
              "      --fill-color: #1967D2;\n",
              "      --hover-bg-color: #E2EBFA;\n",
              "      --hover-fill-color: #174EA6;\n",
              "      --disabled-fill-color: #AAA;\n",
              "      --disabled-bg-color: #DDD;\n",
              "  }\n",
              "\n",
              "  [theme=dark] .colab-df-quickchart {\n",
              "      --bg-color: #3B4455;\n",
              "      --fill-color: #D2E3FC;\n",
              "      --hover-bg-color: #434B5C;\n",
              "      --hover-fill-color: #FFFFFF;\n",
              "      --disabled-bg-color: #3B4455;\n",
              "      --disabled-fill-color: #666;\n",
              "  }\n",
              "\n",
              "  .colab-df-quickchart {\n",
              "    background-color: var(--bg-color);\n",
              "    border: none;\n",
              "    border-radius: 50%;\n",
              "    cursor: pointer;\n",
              "    display: none;\n",
              "    fill: var(--fill-color);\n",
              "    height: 32px;\n",
              "    padding: 0;\n",
              "    width: 32px;\n",
              "  }\n",
              "\n",
              "  .colab-df-quickchart:hover {\n",
              "    background-color: var(--hover-bg-color);\n",
              "    box-shadow: 0 1px 2px rgba(60, 64, 67, 0.3), 0 1px 3px 1px rgba(60, 64, 67, 0.15);\n",
              "    fill: var(--button-hover-fill-color);\n",
              "  }\n",
              "\n",
              "  .colab-df-quickchart-complete:disabled,\n",
              "  .colab-df-quickchart-complete:disabled:hover {\n",
              "    background-color: var(--disabled-bg-color);\n",
              "    fill: var(--disabled-fill-color);\n",
              "    box-shadow: none;\n",
              "  }\n",
              "\n",
              "  .colab-df-spinner {\n",
              "    border: 2px solid var(--fill-color);\n",
              "    border-color: transparent;\n",
              "    border-bottom-color: var(--fill-color);\n",
              "    animation:\n",
              "      spin 1s steps(1) infinite;\n",
              "  }\n",
              "\n",
              "  @keyframes spin {\n",
              "    0% {\n",
              "      border-color: transparent;\n",
              "      border-bottom-color: var(--fill-color);\n",
              "      border-left-color: var(--fill-color);\n",
              "    }\n",
              "    20% {\n",
              "      border-color: transparent;\n",
              "      border-left-color: var(--fill-color);\n",
              "      border-top-color: var(--fill-color);\n",
              "    }\n",
              "    30% {\n",
              "      border-color: transparent;\n",
              "      border-left-color: var(--fill-color);\n",
              "      border-top-color: var(--fill-color);\n",
              "      border-right-color: var(--fill-color);\n",
              "    }\n",
              "    40% {\n",
              "      border-color: transparent;\n",
              "      border-right-color: var(--fill-color);\n",
              "      border-top-color: var(--fill-color);\n",
              "    }\n",
              "    60% {\n",
              "      border-color: transparent;\n",
              "      border-right-color: var(--fill-color);\n",
              "    }\n",
              "    80% {\n",
              "      border-color: transparent;\n",
              "      border-right-color: var(--fill-color);\n",
              "      border-bottom-color: var(--fill-color);\n",
              "    }\n",
              "    90% {\n",
              "      border-color: transparent;\n",
              "      border-bottom-color: var(--fill-color);\n",
              "    }\n",
              "  }\n",
              "</style>\n",
              "\n",
              "  <script>\n",
              "    async function quickchart(key) {\n",
              "      const quickchartButtonEl =\n",
              "        document.querySelector('#' + key + ' button');\n",
              "      quickchartButtonEl.disabled = true;  // To prevent multiple clicks.\n",
              "      quickchartButtonEl.classList.add('colab-df-spinner');\n",
              "      try {\n",
              "        const charts = await google.colab.kernel.invokeFunction(\n",
              "            'suggestCharts', [key], {});\n",
              "      } catch (error) {\n",
              "        console.error('Error during call to suggestCharts:', error);\n",
              "      }\n",
              "      quickchartButtonEl.classList.remove('colab-df-spinner');\n",
              "      quickchartButtonEl.classList.add('colab-df-quickchart-complete');\n",
              "    }\n",
              "    (() => {\n",
              "      let quickchartButtonEl =\n",
              "        document.querySelector('#df-47ecd631-7872-47f4-b3f3-466b669507bf button');\n",
              "      quickchartButtonEl.style.display =\n",
              "        google.colab.kernel.accessAllowed ? 'block' : 'none';\n",
              "    })();\n",
              "  </script>\n",
              "</div>\n",
              "\n",
              "    </div>\n",
              "  </div>\n"
            ]
          },
          "metadata": {},
          "execution_count": 62
        }
      ]
    },
    {
      "cell_type": "code",
      "source": [
        "X_train, X_test, y_train, y_test = train_test_split(X, y, test_size=0.2, random_state=31)\n"
      ],
      "metadata": {
        "id": "wl3uCjmOz4dn"
      },
      "execution_count": 77,
      "outputs": []
    },
    {
      "cell_type": "markdown",
      "source": [
        "Following are the models that we will be using to for the classification task\n",
        "\n",
        "- Random Forest Classifier  \n",
        "- KNN\n",
        "- XGBoost\n",
        "- Adaboost\n",
        "- SVC\n",
        "- Gradient Boost Classifier"
      ],
      "metadata": {
        "id": "pkQ3-HUHz4dn"
      }
    },
    {
      "cell_type": "code",
      "source": [
        "# Create a list of models to evaluate\n",
        "models = [\n",
        "    ('Random Forest', RandomForestClassifier(random_state=42)),\n",
        "    ('Gradient Boosting', GradientBoostingClassifier(random_state=42)),\n",
        "    ('Support Vector Machine', SVC(random_state=42)),\n",
        "    ('K-Nearest Neighbors', KNeighborsClassifier()),\n",
        "    ('Ada Boost', AdaBoostClassifier(random_state=42)),\n",
        "    ('XG Boost', XGBClassifier(random_state=42)),\n",
        "]\n",
        "\n",
        "best_model = None\n",
        "best_accuracy = 0.0\n",
        "\n",
        "# Iterate over the models and evaluate their performance\n",
        "for name, model in models:\n",
        "\n",
        "    skf = StratifiedKFold(n_splits=6, shuffle=True, random_state=42)\n",
        "\n",
        "    # Perform cross-validation\n",
        "    scores = cross_val_score(model, X_train, y_train, cv=skf)\n",
        "\n",
        "    # Calculate mean accuracy\n",
        "    mean_accuracy = scores.mean()\n",
        "\n",
        "    # Fit the pipeline on the training data\n",
        "    model.fit(X_train, y_train)\n",
        "\n",
        "    # Make predictions on the test data\n",
        "    y_pred = model.predict(X_test)\n",
        "\n",
        "    # Calculate accuracy score\n",
        "    accuracy = accuracy_score(y_test, y_pred)\n",
        "    report = classification_report(y_test, y_pred)\n",
        "\n",
        "    # Print the performance metrics\n",
        "    print(\"Model:\", name)\n",
        "    print(\"Cross-validation Accuracy:\", mean_accuracy)\n",
        "    print(\"Test Accuracy:\", accuracy)\n",
        "    print()\n",
        "\n",
        "    # Check if the current model has the best accuracy\n",
        "    if accuracy > best_accuracy:\n",
        "        best_accuracy = accuracy\n",
        "        best_model = name\n",
        "        v = report\n",
        "# Retrieve the best model\n",
        "print(\"Best Model:\", best_model)\n",
        "print(\"Classification Report:\\n\", v)\n",
        "\n"
      ],
      "metadata": {
        "colab": {
          "base_uri": "https://localhost:8080/"
        },
        "id": "EbRB4jvGz4dn",
        "outputId": "d4d787f3-f8cb-43b5-ad26-67b54a75f96d"
      },
      "execution_count": 78,
      "outputs": [
        {
          "output_type": "stream",
          "name": "stdout",
          "text": [
            "Model: Random Forest\n",
            "Cross-validation Accuracy: 0.6421986760851215\n",
            "Test Accuracy: 0.6793478260869565\n",
            "\n",
            "Model: Gradient Boosting\n",
            "Cross-validation Accuracy: 0.6612132924607935\n",
            "Test Accuracy: 0.6467391304347826\n",
            "\n",
            "Model: Support Vector Machine\n",
            "Cross-validation Accuracy: 0.6434315162823759\n",
            "Test Accuracy: 0.657608695652174\n",
            "\n",
            "Model: K-Nearest Neighbors\n",
            "Cross-validation Accuracy: 0.6258496601359457\n",
            "Test Accuracy: 0.6304347826086957\n",
            "\n",
            "Model: Ada Boost\n",
            "Cross-validation Accuracy: 0.6068017237549425\n",
            "Test Accuracy: 0.5978260869565217\n",
            "\n",
            "Model: XG Boost\n",
            "Cross-validation Accuracy: 0.6381225287662713\n",
            "Test Accuracy: 0.6467391304347826\n",
            "\n",
            "Best Model: Random Forest\n",
            "Classification Report:\n",
            "               precision    recall  f1-score   support\n",
            "\n",
            "           0       0.86      0.92      0.89        84\n",
            "           1       0.63      0.70      0.66        53\n",
            "           2       0.32      0.42      0.36        19\n",
            "           3       0.33      0.14      0.20        21\n",
            "           4       0.00      0.00      0.00         7\n",
            "\n",
            "    accuracy                           0.68       184\n",
            "   macro avg       0.43      0.44      0.42       184\n",
            "weighted avg       0.64      0.68      0.65       184\n",
            "\n"
          ]
        }
      ]
    },
    {
      "cell_type": "markdown",
      "source": [
        "------\n",
        "\n",
        "<span style=\"color: teal; font-size: 300%; font-weight: bold;\">Outputs</span>"
      ],
      "metadata": {
        "id": "5Iti3C6Qz4dn"
      }
    },
    {
      "cell_type": "markdown",
      "source": [
        "`Best Model`\n",
        "\n",
        "- After comparing different models the best model selected is Random Forest.\n",
        "- The overall accuracy of the model on the test data is 69%.\n",
        "\n",
        "*Class-wise Performance:*\n",
        "\n",
        "Class 0: High precision and recall (0.88 and 0.91), indicating good performance.\\\n",
        "Class 1: Moderate precision and recall (0.58 and 0.73), suggesting decent but not excellent performance.\\\n",
        "Class 2: Lower precision and recall (0.41 and 0.32), indicating challenges in correctly identifying this class.\\\n",
        "Class 3: Moderate precision and recall (0.60 and 0.46), similar to Class 1.\\\n",
        "Class 4: The model struggles to predict Class 4, as both precision and recall are 0.\n"
      ],
      "metadata": {
        "id": "XgTdMsVnz4dn"
      }
    },
    {
      "cell_type": "code",
      "source": [],
      "metadata": {
        "id": "ZbPXmgi8z4do"
      },
      "execution_count": null,
      "outputs": []
    }
  ]
}